{
 "cells": [
  {
   "cell_type": "code",
   "execution_count": 1,
   "id": "6a924531",
   "metadata": {
    "_cell_guid": "b1076dfc-b9ad-4769-8c92-a6c4dae69d19",
    "_uuid": "8f2839f25d086af736a60e9eeb907d3b93b6e0e5",
    "execution": {
     "iopub.execute_input": "2023-06-20T20:12:00.188710Z",
     "iopub.status.busy": "2023-06-20T20:12:00.188078Z",
     "iopub.status.idle": "2023-06-20T20:12:00.205206Z",
     "shell.execute_reply": "2023-06-20T20:12:00.203607Z"
    },
    "papermill": {
     "duration": 0.027555,
     "end_time": "2023-06-20T20:12:00.207758",
     "exception": false,
     "start_time": "2023-06-20T20:12:00.180203",
     "status": "completed"
    },
    "tags": []
   },
   "outputs": [],
   "source": [
    "import numpy as np # linear algebra\n",
    "import pandas as pd # data processing, CSV file I/O (e.g. pd.read_csv)"
   ]
  },
  {
   "cell_type": "markdown",
   "id": "b9b2e321",
   "metadata": {
    "papermill": {
     "duration": 0.005014,
     "end_time": "2023-06-20T20:12:00.218864",
     "exception": false,
     "start_time": "2023-06-20T20:12:00.213850",
     "status": "completed"
    },
    "tags": []
   },
   "source": [
    "# Context:\n",
    "\n",
    "This is data pulled from 11/1/2017 to 11/7/2017 of various\n",
    "activity by individuals who had visited the Gordon Ramsay course\n",
    "marketing page within the same period of time.\n",
    "\n",
    "# Prompt:\n",
    "\n",
    "Based on given web data, pull insights from user data.\n",
    "\n",
    "Following tables can give you a story of where the user went after they landed\n",
    "and viewed one of our pages. Pages will give you an idea of where they\n",
    "viewed, and then hompage_click and course_marketing_click are clicks on\n",
    "those marketing pages. Then, once they begin the checkout process with\n",
    "purchase_click, they finalize the process with purchased_class.\n",
    "\n",
    "# Data Dictionary\n",
    "\n",
    "* anonymous_id : an identifier given to unique device session\n",
    "* received_at: when the event or page view occurred\n",
    "* location: place on the page where the event occurred\n",
    "* action: descriptor given to event\n",
    "* channel_grouping: marketing bucket given to source of traffic\n",
    "* paid: acquired via paid traffic\n",
    "* organic-social-pr: free traffic via referrals, social networks, PR stories,\n",
    "etc.\n",
    "* null: equivalent to organics\n",
    "* traffic_source: origin of how the user came to the website\n",
    "* ad_type: type of ad (e.g. video)\n",
    "* acquisition_type: type of user that the marketing ad was intended\n",
    "towards\n",
    "* prospecting: advertising to users who hadn’t visited the website in at\n",
    "least 14 days\n",
    "* remarketing: advertising to users who had visited the website in 14 days\n",
    "* lifecycle: advertising to users who have made a purchase and/or\n",
    "enrolled"
   ]
  },
  {
   "cell_type": "code",
   "execution_count": 2,
   "id": "6a1be651",
   "metadata": {
    "execution": {
     "iopub.execute_input": "2023-06-20T20:12:00.231484Z",
     "iopub.status.busy": "2023-06-20T20:12:00.231032Z",
     "iopub.status.idle": "2023-06-20T20:12:00.563460Z",
     "shell.execute_reply": "2023-06-20T20:12:00.561504Z"
    },
    "papermill": {
     "duration": 0.342503,
     "end_time": "2023-06-20T20:12:00.566658",
     "exception": false,
     "start_time": "2023-06-20T20:12:00.224155",
     "status": "completed"
    },
    "tags": []
   },
   "outputs": [
    {
     "data": {
      "text/html": [
       "<div>\n",
       "<style scoped>\n",
       "    .dataframe tbody tr th:only-of-type {\n",
       "        vertical-align: middle;\n",
       "    }\n",
       "\n",
       "    .dataframe tbody tr th {\n",
       "        vertical-align: top;\n",
       "    }\n",
       "\n",
       "    .dataframe thead th {\n",
       "        text-align: right;\n",
       "    }\n",
       "</style>\n",
       "<table border=\"1\" class=\"dataframe\">\n",
       "  <thead>\n",
       "    <tr style=\"text-align: right;\">\n",
       "      <th></th>\n",
       "      <th>anonymous_id</th>\n",
       "      <th>received_at</th>\n",
       "      <th>class</th>\n",
       "      <th>location</th>\n",
       "      <th>action</th>\n",
       "      <th>video</th>\n",
       "      <th>video_carousel_number</th>\n",
       "    </tr>\n",
       "  </thead>\n",
       "  <tbody>\n",
       "    <tr>\n",
       "      <th>0</th>\n",
       "      <td>b8d1d717-f4b1-4d39-9383-f63b32b74fce</td>\n",
       "      <td>11/1/2017 0:04:32</td>\n",
       "      <td>gordon-ramsay-teaches-cooking</td>\n",
       "      <td>hero</td>\n",
       "      <td>play-trailer</td>\n",
       "      <td>trailer</td>\n",
       "      <td>NaN</td>\n",
       "    </tr>\n",
       "    <tr>\n",
       "      <th>1</th>\n",
       "      <td>074b9167-b7f3-4f0d-8e13-c93dc9d2ba6a</td>\n",
       "      <td>11/1/2017 0:05:19</td>\n",
       "      <td>aaron-sorkin-teaches-screenwriting</td>\n",
       "      <td>hero</td>\n",
       "      <td>play-trailer</td>\n",
       "      <td>trailer</td>\n",
       "      <td>NaN</td>\n",
       "    </tr>\n",
       "    <tr>\n",
       "      <th>2</th>\n",
       "      <td>074b9167-b7f3-4f0d-8e13-c93dc9d2ba6a</td>\n",
       "      <td>11/1/2017 0:09:35</td>\n",
       "      <td>gordon-ramsay-teaches-cooking</td>\n",
       "      <td>hero</td>\n",
       "      <td>play-trailer</td>\n",
       "      <td>trailer</td>\n",
       "      <td>NaN</td>\n",
       "    </tr>\n",
       "  </tbody>\n",
       "</table>\n",
       "</div>"
      ],
      "text/plain": [
       "                           anonymous_id        received_at  \\\n",
       "0  b8d1d717-f4b1-4d39-9383-f63b32b74fce  11/1/2017 0:04:32   \n",
       "1  074b9167-b7f3-4f0d-8e13-c93dc9d2ba6a  11/1/2017 0:05:19   \n",
       "2  074b9167-b7f3-4f0d-8e13-c93dc9d2ba6a  11/1/2017 0:09:35   \n",
       "\n",
       "                                class location        action    video  \\\n",
       "0       gordon-ramsay-teaches-cooking     hero  play-trailer  trailer   \n",
       "1  aaron-sorkin-teaches-screenwriting     hero  play-trailer  trailer   \n",
       "2       gordon-ramsay-teaches-cooking     hero  play-trailer  trailer   \n",
       "\n",
       "   video_carousel_number  \n",
       "0                    NaN  \n",
       "1                    NaN  \n",
       "2                    NaN  "
      ]
     },
     "execution_count": 2,
     "metadata": {},
     "output_type": "execute_result"
    }
   ],
   "source": [
    "# any click on course marketing pg except puchase click\n",
    "marketing = pd.read_csv('/kaggle/input/masterclass-gordon-ramsey-class/course_marketing_click.csv')\n",
    "marketing.head(3)"
   ]
  },
  {
   "cell_type": "code",
   "execution_count": 3,
   "id": "8089787f",
   "metadata": {
    "execution": {
     "iopub.execute_input": "2023-06-20T20:12:00.580048Z",
     "iopub.status.busy": "2023-06-20T20:12:00.579588Z",
     "iopub.status.idle": "2023-06-20T20:12:00.922419Z",
     "shell.execute_reply": "2023-06-20T20:12:00.920781Z"
    },
    "papermill": {
     "duration": 0.353293,
     "end_time": "2023-06-20T20:12:00.925662",
     "exception": false,
     "start_time": "2023-06-20T20:12:00.572369",
     "status": "completed"
    },
    "tags": []
   },
   "outputs": [
    {
     "data": {
      "text/html": [
       "<div>\n",
       "<style scoped>\n",
       "    .dataframe tbody tr th:only-of-type {\n",
       "        vertical-align: middle;\n",
       "    }\n",
       "\n",
       "    .dataframe tbody tr th {\n",
       "        vertical-align: top;\n",
       "    }\n",
       "\n",
       "    .dataframe thead th {\n",
       "        text-align: right;\n",
       "    }\n",
       "</style>\n",
       "<table border=\"1\" class=\"dataframe\">\n",
       "  <thead>\n",
       "    <tr style=\"text-align: right;\">\n",
       "      <th></th>\n",
       "      <th>anonymous_id</th>\n",
       "      <th>received_at</th>\n",
       "      <th>action</th>\n",
       "      <th>class</th>\n",
       "      <th>location</th>\n",
       "    </tr>\n",
       "  </thead>\n",
       "  <tbody>\n",
       "    <tr>\n",
       "      <th>0</th>\n",
       "      <td>e921f531-128f-4e71-922d-28f71d65dc93</td>\n",
       "      <td>11/1/2017 0:15:58</td>\n",
       "      <td>gordon-ramsay-teaches-cooking</td>\n",
       "      <td>NaN</td>\n",
       "      <td>tile</td>\n",
       "    </tr>\n",
       "    <tr>\n",
       "      <th>1</th>\n",
       "      <td>e921f531-128f-4e71-922d-28f71d65dc93</td>\n",
       "      <td>11/1/2017 0:14:24</td>\n",
       "      <td>steve-martin-teaches-comedy</td>\n",
       "      <td>NaN</td>\n",
       "      <td>hero</td>\n",
       "    </tr>\n",
       "    <tr>\n",
       "      <th>2</th>\n",
       "      <td>e921f531-128f-4e71-922d-28f71d65dc93</td>\n",
       "      <td>11/1/2017 0:14:23</td>\n",
       "      <td>samuel-l-jackson-teaches-acting</td>\n",
       "      <td>NaN</td>\n",
       "      <td>hero</td>\n",
       "    </tr>\n",
       "  </tbody>\n",
       "</table>\n",
       "</div>"
      ],
      "text/plain": [
       "                           anonymous_id        received_at  \\\n",
       "0  e921f531-128f-4e71-922d-28f71d65dc93  11/1/2017 0:15:58   \n",
       "1  e921f531-128f-4e71-922d-28f71d65dc93  11/1/2017 0:14:24   \n",
       "2  e921f531-128f-4e71-922d-28f71d65dc93  11/1/2017 0:14:23   \n",
       "\n",
       "                            action class location  \n",
       "0    gordon-ramsay-teaches-cooking   NaN     tile  \n",
       "1      steve-martin-teaches-comedy   NaN     hero  \n",
       "2  samuel-l-jackson-teaches-acting   NaN     hero  "
      ]
     },
     "execution_count": 3,
     "metadata": {},
     "output_type": "execute_result"
    }
   ],
   "source": [
    "# any click on homepage\n",
    "homepage = pd.read_csv('/kaggle/input/masterclass-gordon-ramsey-class/homepage_click.csv')\n",
    "homepage.head(3)"
   ]
  },
  {
   "cell_type": "code",
   "execution_count": 4,
   "id": "128fce2b",
   "metadata": {
    "execution": {
     "iopub.execute_input": "2023-06-20T20:12:00.939850Z",
     "iopub.status.busy": "2023-06-20T20:12:00.939411Z",
     "iopub.status.idle": "2023-06-20T20:12:02.092420Z",
     "shell.execute_reply": "2023-06-20T20:12:02.091174Z"
    },
    "papermill": {
     "duration": 1.163895,
     "end_time": "2023-06-20T20:12:02.095114",
     "exception": false,
     "start_time": "2023-06-20T20:12:00.931219",
     "status": "completed"
    },
    "tags": []
   },
   "outputs": [
    {
     "data": {
      "text/html": [
       "<div>\n",
       "<style scoped>\n",
       "    .dataframe tbody tr th:only-of-type {\n",
       "        vertical-align: middle;\n",
       "    }\n",
       "\n",
       "    .dataframe tbody tr th {\n",
       "        vertical-align: top;\n",
       "    }\n",
       "\n",
       "    .dataframe thead th {\n",
       "        text-align: right;\n",
       "    }\n",
       "</style>\n",
       "<table border=\"1\" class=\"dataframe\">\n",
       "  <thead>\n",
       "    <tr style=\"text-align: right;\">\n",
       "      <th></th>\n",
       "      <th>anonymous_id</th>\n",
       "      <th>received_at</th>\n",
       "      <th>name</th>\n",
       "      <th>class</th>\n",
       "      <th>channel_grouping</th>\n",
       "      <th>traffic_source</th>\n",
       "      <th>ad_type</th>\n",
       "      <th>acquisition_type</th>\n",
       "      <th>user_agent</th>\n",
       "    </tr>\n",
       "  </thead>\n",
       "  <tbody>\n",
       "    <tr>\n",
       "      <th>0</th>\n",
       "      <td>faff1903-357c-44e8-b98e-2d36d8be5832</td>\n",
       "      <td>11/01/2017 00:01:13</td>\n",
       "      <td>Course Marketing</td>\n",
       "      <td>gordon-ramsay-teaches-cooking</td>\n",
       "      <td>organic-social-pr</td>\n",
       "      <td>website</td>\n",
       "      <td>gr_mainpage</td>\n",
       "      <td>prospecting</td>\n",
       "      <td>Mozilla/5.0 (Windows NT 6.1; Win64; x64) Apple...</td>\n",
       "    </tr>\n",
       "    <tr>\n",
       "      <th>1</th>\n",
       "      <td>cb41781f-feb6-47ed-abe1-867716a0bc34</td>\n",
       "      <td>11/01/2017 00:01:39</td>\n",
       "      <td>Course Marketing</td>\n",
       "      <td>gordon-ramsay-teaches-cooking</td>\n",
       "      <td>paid</td>\n",
       "      <td>facebook</td>\n",
       "      <td>video</td>\n",
       "      <td>remarketing</td>\n",
       "      <td>Mozilla/5.0 (iPhone; CPU iPhone OS 11_0_1 like...</td>\n",
       "    </tr>\n",
       "    <tr>\n",
       "      <th>2</th>\n",
       "      <td>f48cb91d-4e6c-42ad-b32b-6e532c1b49b0</td>\n",
       "      <td>11/01/2017 00:02:07</td>\n",
       "      <td>Course Marketing</td>\n",
       "      <td>gordon-ramsay-teaches-cooking</td>\n",
       "      <td>NaN</td>\n",
       "      <td>NaN</td>\n",
       "      <td>NaN</td>\n",
       "      <td>NaN</td>\n",
       "      <td>Mozilla/5.0 (Macintosh; Intel Mac OS X 10_12_6...</td>\n",
       "    </tr>\n",
       "  </tbody>\n",
       "</table>\n",
       "</div>"
      ],
      "text/plain": [
       "                           anonymous_id          received_at  \\\n",
       "0  faff1903-357c-44e8-b98e-2d36d8be5832  11/01/2017 00:01:13   \n",
       "1  cb41781f-feb6-47ed-abe1-867716a0bc34  11/01/2017 00:01:39   \n",
       "2  f48cb91d-4e6c-42ad-b32b-6e532c1b49b0  11/01/2017 00:02:07   \n",
       "\n",
       "               name                          class   channel_grouping  \\\n",
       "0  Course Marketing  gordon-ramsay-teaches-cooking  organic-social-pr   \n",
       "1  Course Marketing  gordon-ramsay-teaches-cooking               paid   \n",
       "2  Course Marketing  gordon-ramsay-teaches-cooking                NaN   \n",
       "\n",
       "  traffic_source      ad_type acquisition_type  \\\n",
       "0        website  gr_mainpage      prospecting   \n",
       "1       facebook        video      remarketing   \n",
       "2            NaN          NaN              NaN   \n",
       "\n",
       "                                          user_agent  \n",
       "0  Mozilla/5.0 (Windows NT 6.1; Win64; x64) Apple...  \n",
       "1  Mozilla/5.0 (iPhone; CPU iPhone OS 11_0_1 like...  \n",
       "2  Mozilla/5.0 (Macintosh; Intel Mac OS X 10_12_6...  "
      ]
     },
     "execution_count": 4,
     "metadata": {},
     "output_type": "execute_result"
    }
   ],
   "source": [
    "# major page views including home and marketing page\n",
    "pages = pd.read_csv('/kaggle/input/masterclass-gordon-ramsey-class/pages.csv')\n",
    "pages.head(3)"
   ]
  },
  {
   "cell_type": "code",
   "execution_count": 5,
   "id": "64c6c25a",
   "metadata": {
    "execution": {
     "iopub.execute_input": "2023-06-20T20:12:02.108763Z",
     "iopub.status.busy": "2023-06-20T20:12:02.108288Z",
     "iopub.status.idle": "2023-06-20T20:12:02.167395Z",
     "shell.execute_reply": "2023-06-20T20:12:02.166041Z"
    },
    "papermill": {
     "duration": 0.06927,
     "end_time": "2023-06-20T20:12:02.170221",
     "exception": false,
     "start_time": "2023-06-20T20:12:02.100951",
     "status": "completed"
    },
    "tags": []
   },
   "outputs": [
    {
     "data": {
      "text/html": [
       "<div>\n",
       "<style scoped>\n",
       "    .dataframe tbody tr th:only-of-type {\n",
       "        vertical-align: middle;\n",
       "    }\n",
       "\n",
       "    .dataframe tbody tr th {\n",
       "        vertical-align: top;\n",
       "    }\n",
       "\n",
       "    .dataframe thead th {\n",
       "        text-align: right;\n",
       "    }\n",
       "</style>\n",
       "<table border=\"1\" class=\"dataframe\">\n",
       "  <thead>\n",
       "    <tr style=\"text-align: right;\">\n",
       "      <th></th>\n",
       "      <th>anonymous_id</th>\n",
       "      <th>received_at</th>\n",
       "      <th>class</th>\n",
       "      <th>location</th>\n",
       "      <th>action</th>\n",
       "    </tr>\n",
       "  </thead>\n",
       "  <tbody>\n",
       "    <tr>\n",
       "      <th>0</th>\n",
       "      <td>9be8d642-3000-45db-970f-aedbc9d9ee3c</td>\n",
       "      <td>11/1/2017 0:24:58</td>\n",
       "      <td>gordon-ramsay-teaches-cooking</td>\n",
       "      <td>hero</td>\n",
       "      <td>primary</td>\n",
       "    </tr>\n",
       "    <tr>\n",
       "      <th>1</th>\n",
       "      <td>21862340-a8fb-4e6f-bca7-85f5cf1d2f68</td>\n",
       "      <td>11/1/2017 0:36:47</td>\n",
       "      <td>gordon-ramsay-teaches-cooking</td>\n",
       "      <td>video-carousel</td>\n",
       "      <td>primary</td>\n",
       "    </tr>\n",
       "    <tr>\n",
       "      <th>2</th>\n",
       "      <td>13d9d32f-a11b-489e-9dda-740442d60961</td>\n",
       "      <td>11/1/2017 0:37:53</td>\n",
       "      <td>gordon-ramsay-teaches-cooking</td>\n",
       "      <td>hero</td>\n",
       "      <td>primary</td>\n",
       "    </tr>\n",
       "  </tbody>\n",
       "</table>\n",
       "</div>"
      ],
      "text/plain": [
       "                           anonymous_id        received_at  \\\n",
       "0  9be8d642-3000-45db-970f-aedbc9d9ee3c  11/1/2017 0:24:58   \n",
       "1  21862340-a8fb-4e6f-bca7-85f5cf1d2f68  11/1/2017 0:36:47   \n",
       "2  13d9d32f-a11b-489e-9dda-740442d60961  11/1/2017 0:37:53   \n",
       "\n",
       "                           class        location   action  \n",
       "0  gordon-ramsay-teaches-cooking            hero  primary  \n",
       "1  gordon-ramsay-teaches-cooking  video-carousel  primary  \n",
       "2  gordon-ramsay-teaches-cooking            hero  primary  "
      ]
     },
     "execution_count": 5,
     "metadata": {},
     "output_type": "execute_result"
    }
   ],
   "source": [
    "# any 'take the course/give as a gift' purchase from course marketing page\n",
    "purchase_click = pd.read_csv('/kaggle/input/masterclass-gordon-ramsey-class/purchase_click.csv')\n",
    "purchase_click.head(3)"
   ]
  },
  {
   "cell_type": "code",
   "execution_count": 6,
   "id": "b3aca5f7",
   "metadata": {
    "execution": {
     "iopub.execute_input": "2023-06-20T20:12:02.185329Z",
     "iopub.status.busy": "2023-06-20T20:12:02.184544Z",
     "iopub.status.idle": "2023-06-20T20:12:02.216290Z",
     "shell.execute_reply": "2023-06-20T20:12:02.214745Z"
    },
    "papermill": {
     "duration": 0.042776,
     "end_time": "2023-06-20T20:12:02.219500",
     "exception": false,
     "start_time": "2023-06-20T20:12:02.176724",
     "status": "completed"
    },
    "tags": []
   },
   "outputs": [
    {
     "data": {
      "text/html": [
       "<div>\n",
       "<style scoped>\n",
       "    .dataframe tbody tr th:only-of-type {\n",
       "        vertical-align: middle;\n",
       "    }\n",
       "\n",
       "    .dataframe tbody tr th {\n",
       "        vertical-align: top;\n",
       "    }\n",
       "\n",
       "    .dataframe thead th {\n",
       "        text-align: right;\n",
       "    }\n",
       "</style>\n",
       "<table border=\"1\" class=\"dataframe\">\n",
       "  <thead>\n",
       "    <tr style=\"text-align: right;\">\n",
       "      <th></th>\n",
       "      <th>anonymous_id</th>\n",
       "      <th>received_at</th>\n",
       "      <th>product_id</th>\n",
       "      <th>total</th>\n",
       "      <th>revenue</th>\n",
       "      <th>discount</th>\n",
       "      <th>is_gift</th>\n",
       "    </tr>\n",
       "  </thead>\n",
       "  <tbody>\n",
       "    <tr>\n",
       "      <th>0</th>\n",
       "      <td>13d9d32f-a11b-489e-9dda-740442d60961</td>\n",
       "      <td>11/1/2017 0:39</td>\n",
       "      <td>gordon-ramsay-teaches-cooking</td>\n",
       "      <td>90</td>\n",
       "      <td>90</td>\n",
       "      <td>0</td>\n",
       "      <td>f</td>\n",
       "    </tr>\n",
       "    <tr>\n",
       "      <th>1</th>\n",
       "      <td>47c79436-b6e8-4009-a5e4-b82a0a32e93b</td>\n",
       "      <td>11/1/2017 1:07</td>\n",
       "      <td>gordon-ramsay-teaches-cooking</td>\n",
       "      <td>90</td>\n",
       "      <td>90</td>\n",
       "      <td>0</td>\n",
       "      <td>f</td>\n",
       "    </tr>\n",
       "    <tr>\n",
       "      <th>2</th>\n",
       "      <td>83259ee8-4de6-4748-94a3-1f6646c9fd69</td>\n",
       "      <td>11/1/2017 1:45</td>\n",
       "      <td>shonda-rhimes-teaches-writing-for-television</td>\n",
       "      <td>90</td>\n",
       "      <td>90</td>\n",
       "      <td>0</td>\n",
       "      <td>f</td>\n",
       "    </tr>\n",
       "  </tbody>\n",
       "</table>\n",
       "</div>"
      ],
      "text/plain": [
       "                           anonymous_id     received_at  \\\n",
       "0  13d9d32f-a11b-489e-9dda-740442d60961  11/1/2017 0:39   \n",
       "1  47c79436-b6e8-4009-a5e4-b82a0a32e93b  11/1/2017 1:07   \n",
       "2  83259ee8-4de6-4748-94a3-1f6646c9fd69  11/1/2017 1:45   \n",
       "\n",
       "                                     product_id  total  revenue  discount  \\\n",
       "0                 gordon-ramsay-teaches-cooking     90       90         0   \n",
       "1                 gordon-ramsay-teaches-cooking     90       90         0   \n",
       "2  shonda-rhimes-teaches-writing-for-television     90       90         0   \n",
       "\n",
       "  is_gift  \n",
       "0       f  \n",
       "1       f  \n",
       "2       f  "
      ]
     },
     "execution_count": 6,
     "metadata": {},
     "output_type": "execute_result"
    }
   ],
   "source": [
    "# when user purchases class/annual-pass (1 row per item purchase)\n",
    "purchased_class = pd.read_csv('/kaggle/input/masterclass-gordon-ramsey-class/purchased_class.csv')\n",
    "purchased_class.head(3)"
   ]
  },
  {
   "cell_type": "markdown",
   "id": "693ca253",
   "metadata": {
    "papermill": {
     "duration": 0.005947,
     "end_time": "2023-06-20T20:12:02.231832",
     "exception": false,
     "start_time": "2023-06-20T20:12:02.225885",
     "status": "completed"
    },
    "tags": []
   },
   "source": [
    "Analysis Strategy:\n",
    "\n",
    "Business has Subscription model where purchase of class or subscription plan adds to revenue. \n",
    "\n",
    "1. We want to track various user cohorts who visited Gordan Ramsey's marketing page: \n",
    "* those who converted (purchased one class- Gordan Ramsey's or non-GM or annual membership)\n",
    "** did they buy multiple classes\n",
    "** did they buy for themselves/gift\n",
    "* churned\n",
    "* resurrected\n",
    "* retained (still on the platform, but have not made a purchase).\n",
    "\n",
    "2. After defining groups, create attributions (first/last touch) since there are multiple purchase clicks (some not related to purchase), multiple homepage clicks/marketing clicks (only marketing clicks related to class purchase clicks) and multiple page views.\n",
    "\n",
    "3. And from there, characterize what each group's behavior is including how they got to the site, their engagement, attributions to purchase (class/annual membership).\n",
    "\n",
    "4. Would be nice to add some correlation heatmap's to correlate certain behavior to conversion, etc."
   ]
  },
  {
   "cell_type": "code",
   "execution_count": 7,
   "id": "f117985b",
   "metadata": {
    "execution": {
     "iopub.execute_input": "2023-06-20T20:12:02.246369Z",
     "iopub.status.busy": "2023-06-20T20:12:02.245912Z",
     "iopub.status.idle": "2023-06-20T20:12:02.252802Z",
     "shell.execute_reply": "2023-06-20T20:12:02.251194Z"
    },
    "papermill": {
     "duration": 0.017512,
     "end_time": "2023-06-20T20:12:02.255704",
     "exception": false,
     "start_time": "2023-06-20T20:12:02.238192",
     "status": "completed"
    },
    "tags": []
   },
   "outputs": [
    {
     "name": "stdout",
     "output_type": "stream",
     "text": [
      "67.86 % of total MC purchases that were GR class.\n"
     ]
    }
   ],
   "source": [
    "# 1. Of those who visited Gordon Ramsay (GR) marketing page and bought a Master Class (MC) product (total: 476 distinct users) whether it be purchase for self or gift and the bought item was a GR class (single/multiple time(s):\n",
    "print(format((323/476)*100, \".2f\"), '% of total MC purchases that were GR class.' )"
   ]
  },
  {
   "cell_type": "code",
   "execution_count": 8,
   "id": "5bc7cffa",
   "metadata": {
    "execution": {
     "iopub.execute_input": "2023-06-20T20:12:02.270521Z",
     "iopub.status.busy": "2023-06-20T20:12:02.270103Z",
     "iopub.status.idle": "2023-06-20T20:12:02.278096Z",
     "shell.execute_reply": "2023-06-20T20:12:02.275832Z"
    },
    "papermill": {
     "duration": 0.018917,
     "end_time": "2023-06-20T20:12:02.281195",
     "exception": false,
     "start_time": "2023-06-20T20:12:02.262278",
     "status": "completed"
    },
    "tags": []
   },
   "outputs": [
    {
     "name": "stdout",
     "output_type": "stream",
     "text": [
      "95.98 % of distinct users who purchased only GR class and NO other MC offerings (other classes/annual pass).\n"
     ]
    }
   ],
   "source": [
    "# 2. Of GM purchases' distinct users, those who only purchased GM class only:\n",
    "print(format((310/323)*100, \".2f\"), '% of distinct users who purchased only GR class and NO other MC offerings (other classes/annual pass).' )"
   ]
  },
  {
   "cell_type": "code",
   "execution_count": 9,
   "id": "91e84e76",
   "metadata": {
    "execution": {
     "iopub.execute_input": "2023-06-20T20:12:02.298157Z",
     "iopub.status.busy": "2023-06-20T20:12:02.297663Z",
     "iopub.status.idle": "2023-06-20T20:12:02.305928Z",
     "shell.execute_reply": "2023-06-20T20:12:02.303565Z"
    },
    "papermill": {
     "duration": 0.019072,
     "end_time": "2023-06-20T20:12:02.308624",
     "exception": false,
     "start_time": "2023-06-20T20:12:02.289552",
     "status": "completed"
    },
    "tags": []
   },
   "outputs": [
    {
     "name": "stdout",
     "output_type": "stream",
     "text": [
      "4.02 % of distinct users who purchased only GR class AND other MC offerings (other classes/annual pass)s.\n"
     ]
    }
   ],
   "source": [
    "# 3. Of GM purchases' distinct users, those who purchased GM class along with other MC offerings:\n",
    "print(format((13/323) *100, \".2f\"), '% of distinct users who purchased only GR class AND other MC offerings (other classes/annual pass)s.' )"
   ]
  },
  {
   "cell_type": "code",
   "execution_count": null,
   "id": "99d5173d",
   "metadata": {
    "papermill": {
     "duration": 0.006126,
     "end_time": "2023-06-20T20:12:02.322003",
     "exception": false,
     "start_time": "2023-06-20T20:12:02.315877",
     "status": "completed"
    },
    "tags": []
   },
   "outputs": [],
   "source": []
  }
 ],
 "metadata": {
  "kernelspec": {
   "display_name": "Python 3",
   "language": "python",
   "name": "python3"
  },
  "language_info": {
   "codemirror_mode": {
    "name": "ipython",
    "version": 3
   },
   "file_extension": ".py",
   "mimetype": "text/x-python",
   "name": "python",
   "nbconvert_exporter": "python",
   "pygments_lexer": "ipython3",
   "version": "3.10.10"
  },
  "papermill": {
   "default_parameters": {},
   "duration": 21.117027,
   "end_time": "2023-06-20T20:12:03.558359",
   "environment_variables": {},
   "exception": null,
   "input_path": "__notebook__.ipynb",
   "output_path": "__notebook__.ipynb",
   "parameters": {},
   "start_time": "2023-06-20T20:11:42.441332",
   "version": "2.4.0"
  }
 },
 "nbformat": 4,
 "nbformat_minor": 5
}
