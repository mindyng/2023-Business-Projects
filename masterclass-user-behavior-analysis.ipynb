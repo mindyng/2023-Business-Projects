{
 "cells": [
  {
   "cell_type": "code",
   "execution_count": 1,
   "id": "efec57a0",
   "metadata": {
    "_cell_guid": "b1076dfc-b9ad-4769-8c92-a6c4dae69d19",
    "_uuid": "8f2839f25d086af736a60e9eeb907d3b93b6e0e5",
    "execution": {
     "iopub.execute_input": "2023-06-12T22:47:48.294333Z",
     "iopub.status.busy": "2023-06-12T22:47:48.293931Z",
     "iopub.status.idle": "2023-06-12T22:47:48.305417Z",
     "shell.execute_reply": "2023-06-12T22:47:48.304577Z"
    },
    "papermill": {
     "duration": 0.019712,
     "end_time": "2023-06-12T22:47:48.307680",
     "exception": false,
     "start_time": "2023-06-12T22:47:48.287968",
     "status": "completed"
    },
    "tags": []
   },
   "outputs": [],
   "source": [
    "import numpy as np # linear algebra\n",
    "import pandas as pd # data processing, CSV file I/O (e.g. pd.read_csv)"
   ]
  },
  {
   "cell_type": "markdown",
   "id": "011339ff",
   "metadata": {
    "papermill": {
     "duration": 0.003368,
     "end_time": "2023-06-12T22:47:48.314998",
     "exception": false,
     "start_time": "2023-06-12T22:47:48.311630",
     "status": "completed"
    },
    "tags": []
   },
   "source": [
    "# Prompt:\n",
    "\n",
    "Based on given web data, pull insights from user data.\n",
    "\n",
    "Following tables can give you a story of where the user went after they landed\n",
    "and viewed one of our pages. Pages will give you an idea of where they\n",
    "viewed, and then hompage_click and course_marketing_click are clicks on\n",
    "those marketing pages. Then, once they begin the checkout process with\n",
    "purchase_click, they finalize the process with purchased_class.\n",
    "\n",
    "# Data Dictionary\n",
    "\n",
    "* anonymous_id : an identifier given to unique device session\n",
    "* received_at: when the event or page view occurred\n",
    "* location: place on the page where the event occurred\n",
    "* action: descriptor given to event\n",
    "* channel_grouping: marketing bucket given to source of traffic\n",
    "* paid: acquired via paid traffic\n",
    "* organic-social-pr: free traffic via referrals, social networks, PR stories,\n",
    "etc.\n",
    "* null: equivalent to organics\n",
    "* traffic_source: origin of how the user came to the website\n",
    "* ad_type: type of ad (e.g. video)\n",
    "* acquisition_type: type of user that the marketing ad was intended\n",
    "towards\n",
    "* prospecting: advertising to users who hadn’t visited the website in at\n",
    "least 14 days\n",
    "* remarketing: advertising to users who had visited the website in 14 days\n",
    "* lifecycle: advertising to users who have made a purchase and/or\n",
    "enrolled"
   ]
  },
  {
   "cell_type": "code",
   "execution_count": 2,
   "id": "0379afc9",
   "metadata": {
    "execution": {
     "iopub.execute_input": "2023-06-12T22:47:48.323993Z",
     "iopub.status.busy": "2023-06-12T22:47:48.323568Z",
     "iopub.status.idle": "2023-06-12T22:47:48.630451Z",
     "shell.execute_reply": "2023-06-12T22:47:48.629105Z"
    },
    "papermill": {
     "duration": 0.314677,
     "end_time": "2023-06-12T22:47:48.633264",
     "exception": false,
     "start_time": "2023-06-12T22:47:48.318587",
     "status": "completed"
    },
    "tags": []
   },
   "outputs": [
    {
     "data": {
      "text/html": [
       "<div>\n",
       "<style scoped>\n",
       "    .dataframe tbody tr th:only-of-type {\n",
       "        vertical-align: middle;\n",
       "    }\n",
       "\n",
       "    .dataframe tbody tr th {\n",
       "        vertical-align: top;\n",
       "    }\n",
       "\n",
       "    .dataframe thead th {\n",
       "        text-align: right;\n",
       "    }\n",
       "</style>\n",
       "<table border=\"1\" class=\"dataframe\">\n",
       "  <thead>\n",
       "    <tr style=\"text-align: right;\">\n",
       "      <th></th>\n",
       "      <th>anonymous_id</th>\n",
       "      <th>received_at</th>\n",
       "      <th>class</th>\n",
       "      <th>location</th>\n",
       "      <th>action</th>\n",
       "      <th>video</th>\n",
       "      <th>video_carousel_number</th>\n",
       "    </tr>\n",
       "  </thead>\n",
       "  <tbody>\n",
       "    <tr>\n",
       "      <th>0</th>\n",
       "      <td>b8d1d717-f4b1-4d39-9383-f63b32b74fce</td>\n",
       "      <td>11/1/2017 0:04:32</td>\n",
       "      <td>gordon-ramsay-teaches-cooking</td>\n",
       "      <td>hero</td>\n",
       "      <td>play-trailer</td>\n",
       "      <td>trailer</td>\n",
       "      <td>NaN</td>\n",
       "    </tr>\n",
       "    <tr>\n",
       "      <th>1</th>\n",
       "      <td>074b9167-b7f3-4f0d-8e13-c93dc9d2ba6a</td>\n",
       "      <td>11/1/2017 0:05:19</td>\n",
       "      <td>aaron-sorkin-teaches-screenwriting</td>\n",
       "      <td>hero</td>\n",
       "      <td>play-trailer</td>\n",
       "      <td>trailer</td>\n",
       "      <td>NaN</td>\n",
       "    </tr>\n",
       "    <tr>\n",
       "      <th>2</th>\n",
       "      <td>074b9167-b7f3-4f0d-8e13-c93dc9d2ba6a</td>\n",
       "      <td>11/1/2017 0:09:35</td>\n",
       "      <td>gordon-ramsay-teaches-cooking</td>\n",
       "      <td>hero</td>\n",
       "      <td>play-trailer</td>\n",
       "      <td>trailer</td>\n",
       "      <td>NaN</td>\n",
       "    </tr>\n",
       "  </tbody>\n",
       "</table>\n",
       "</div>"
      ],
      "text/plain": [
       "                           anonymous_id        received_at  \\\n",
       "0  b8d1d717-f4b1-4d39-9383-f63b32b74fce  11/1/2017 0:04:32   \n",
       "1  074b9167-b7f3-4f0d-8e13-c93dc9d2ba6a  11/1/2017 0:05:19   \n",
       "2  074b9167-b7f3-4f0d-8e13-c93dc9d2ba6a  11/1/2017 0:09:35   \n",
       "\n",
       "                                class location        action    video  \\\n",
       "0       gordon-ramsay-teaches-cooking     hero  play-trailer  trailer   \n",
       "1  aaron-sorkin-teaches-screenwriting     hero  play-trailer  trailer   \n",
       "2       gordon-ramsay-teaches-cooking     hero  play-trailer  trailer   \n",
       "\n",
       "   video_carousel_number  \n",
       "0                    NaN  \n",
       "1                    NaN  \n",
       "2                    NaN  "
      ]
     },
     "execution_count": 2,
     "metadata": {},
     "output_type": "execute_result"
    }
   ],
   "source": [
    "# any click on course marketing pg except puchase click\n",
    "marketing = pd.read_csv('/kaggle/input/masterclass-gordon-ramsey-class/course_marketing_click.csv')\n",
    "marketing.head(3)"
   ]
  },
  {
   "cell_type": "code",
   "execution_count": 3,
   "id": "27a4a46e",
   "metadata": {
    "execution": {
     "iopub.execute_input": "2023-06-12T22:47:48.643093Z",
     "iopub.status.busy": "2023-06-12T22:47:48.642683Z",
     "iopub.status.idle": "2023-06-12T22:47:48.938041Z",
     "shell.execute_reply": "2023-06-12T22:47:48.937061Z"
    },
    "papermill": {
     "duration": 0.303379,
     "end_time": "2023-06-12T22:47:48.940787",
     "exception": false,
     "start_time": "2023-06-12T22:47:48.637408",
     "status": "completed"
    },
    "tags": []
   },
   "outputs": [
    {
     "data": {
      "text/html": [
       "<div>\n",
       "<style scoped>\n",
       "    .dataframe tbody tr th:only-of-type {\n",
       "        vertical-align: middle;\n",
       "    }\n",
       "\n",
       "    .dataframe tbody tr th {\n",
       "        vertical-align: top;\n",
       "    }\n",
       "\n",
       "    .dataframe thead th {\n",
       "        text-align: right;\n",
       "    }\n",
       "</style>\n",
       "<table border=\"1\" class=\"dataframe\">\n",
       "  <thead>\n",
       "    <tr style=\"text-align: right;\">\n",
       "      <th></th>\n",
       "      <th>anonymous_id</th>\n",
       "      <th>received_at</th>\n",
       "      <th>action</th>\n",
       "      <th>class</th>\n",
       "      <th>location</th>\n",
       "    </tr>\n",
       "  </thead>\n",
       "  <tbody>\n",
       "    <tr>\n",
       "      <th>0</th>\n",
       "      <td>e921f531-128f-4e71-922d-28f71d65dc93</td>\n",
       "      <td>11/1/2017 0:15:58</td>\n",
       "      <td>gordon-ramsay-teaches-cooking</td>\n",
       "      <td>NaN</td>\n",
       "      <td>tile</td>\n",
       "    </tr>\n",
       "    <tr>\n",
       "      <th>1</th>\n",
       "      <td>e921f531-128f-4e71-922d-28f71d65dc93</td>\n",
       "      <td>11/1/2017 0:14:24</td>\n",
       "      <td>steve-martin-teaches-comedy</td>\n",
       "      <td>NaN</td>\n",
       "      <td>hero</td>\n",
       "    </tr>\n",
       "    <tr>\n",
       "      <th>2</th>\n",
       "      <td>e921f531-128f-4e71-922d-28f71d65dc93</td>\n",
       "      <td>11/1/2017 0:14:23</td>\n",
       "      <td>samuel-l-jackson-teaches-acting</td>\n",
       "      <td>NaN</td>\n",
       "      <td>hero</td>\n",
       "    </tr>\n",
       "  </tbody>\n",
       "</table>\n",
       "</div>"
      ],
      "text/plain": [
       "                           anonymous_id        received_at  \\\n",
       "0  e921f531-128f-4e71-922d-28f71d65dc93  11/1/2017 0:15:58   \n",
       "1  e921f531-128f-4e71-922d-28f71d65dc93  11/1/2017 0:14:24   \n",
       "2  e921f531-128f-4e71-922d-28f71d65dc93  11/1/2017 0:14:23   \n",
       "\n",
       "                            action class location  \n",
       "0    gordon-ramsay-teaches-cooking   NaN     tile  \n",
       "1      steve-martin-teaches-comedy   NaN     hero  \n",
       "2  samuel-l-jackson-teaches-acting   NaN     hero  "
      ]
     },
     "execution_count": 3,
     "metadata": {},
     "output_type": "execute_result"
    }
   ],
   "source": [
    "# any click on homepage\n",
    "homepage = pd.read_csv('/kaggle/input/masterclass-gordon-ramsey-class/homepage_click.csv')\n",
    "homepage.head(3)"
   ]
  },
  {
   "cell_type": "code",
   "execution_count": 4,
   "id": "3c4c1eb6",
   "metadata": {
    "execution": {
     "iopub.execute_input": "2023-06-12T22:47:48.951239Z",
     "iopub.status.busy": "2023-06-12T22:47:48.950846Z",
     "iopub.status.idle": "2023-06-12T22:47:49.934591Z",
     "shell.execute_reply": "2023-06-12T22:47:49.933434Z"
    },
    "papermill": {
     "duration": 0.992045,
     "end_time": "2023-06-12T22:47:49.937160",
     "exception": false,
     "start_time": "2023-06-12T22:47:48.945115",
     "status": "completed"
    },
    "tags": []
   },
   "outputs": [
    {
     "data": {
      "text/html": [
       "<div>\n",
       "<style scoped>\n",
       "    .dataframe tbody tr th:only-of-type {\n",
       "        vertical-align: middle;\n",
       "    }\n",
       "\n",
       "    .dataframe tbody tr th {\n",
       "        vertical-align: top;\n",
       "    }\n",
       "\n",
       "    .dataframe thead th {\n",
       "        text-align: right;\n",
       "    }\n",
       "</style>\n",
       "<table border=\"1\" class=\"dataframe\">\n",
       "  <thead>\n",
       "    <tr style=\"text-align: right;\">\n",
       "      <th></th>\n",
       "      <th>anonymous_id</th>\n",
       "      <th>received_at</th>\n",
       "      <th>name</th>\n",
       "      <th>class</th>\n",
       "      <th>channel_grouping</th>\n",
       "      <th>traffic_source</th>\n",
       "      <th>ad_type</th>\n",
       "      <th>acquisition_type</th>\n",
       "      <th>user_agent</th>\n",
       "    </tr>\n",
       "  </thead>\n",
       "  <tbody>\n",
       "    <tr>\n",
       "      <th>0</th>\n",
       "      <td>faff1903-357c-44e8-b98e-2d36d8be5832</td>\n",
       "      <td>11/01/2017 00:01:13</td>\n",
       "      <td>Course Marketing</td>\n",
       "      <td>gordon-ramsay-teaches-cooking</td>\n",
       "      <td>organic-social-pr</td>\n",
       "      <td>website</td>\n",
       "      <td>gr_mainpage</td>\n",
       "      <td>prospecting</td>\n",
       "      <td>Mozilla/5.0 (Windows NT 6.1; Win64; x64) Apple...</td>\n",
       "    </tr>\n",
       "    <tr>\n",
       "      <th>1</th>\n",
       "      <td>cb41781f-feb6-47ed-abe1-867716a0bc34</td>\n",
       "      <td>11/01/2017 00:01:39</td>\n",
       "      <td>Course Marketing</td>\n",
       "      <td>gordon-ramsay-teaches-cooking</td>\n",
       "      <td>paid</td>\n",
       "      <td>facebook</td>\n",
       "      <td>video</td>\n",
       "      <td>remarketing</td>\n",
       "      <td>Mozilla/5.0 (iPhone; CPU iPhone OS 11_0_1 like...</td>\n",
       "    </tr>\n",
       "    <tr>\n",
       "      <th>2</th>\n",
       "      <td>f48cb91d-4e6c-42ad-b32b-6e532c1b49b0</td>\n",
       "      <td>11/01/2017 00:02:07</td>\n",
       "      <td>Course Marketing</td>\n",
       "      <td>gordon-ramsay-teaches-cooking</td>\n",
       "      <td>NaN</td>\n",
       "      <td>NaN</td>\n",
       "      <td>NaN</td>\n",
       "      <td>NaN</td>\n",
       "      <td>Mozilla/5.0 (Macintosh; Intel Mac OS X 10_12_6...</td>\n",
       "    </tr>\n",
       "  </tbody>\n",
       "</table>\n",
       "</div>"
      ],
      "text/plain": [
       "                           anonymous_id          received_at  \\\n",
       "0  faff1903-357c-44e8-b98e-2d36d8be5832  11/01/2017 00:01:13   \n",
       "1  cb41781f-feb6-47ed-abe1-867716a0bc34  11/01/2017 00:01:39   \n",
       "2  f48cb91d-4e6c-42ad-b32b-6e532c1b49b0  11/01/2017 00:02:07   \n",
       "\n",
       "               name                          class   channel_grouping  \\\n",
       "0  Course Marketing  gordon-ramsay-teaches-cooking  organic-social-pr   \n",
       "1  Course Marketing  gordon-ramsay-teaches-cooking               paid   \n",
       "2  Course Marketing  gordon-ramsay-teaches-cooking                NaN   \n",
       "\n",
       "  traffic_source      ad_type acquisition_type  \\\n",
       "0        website  gr_mainpage      prospecting   \n",
       "1       facebook        video      remarketing   \n",
       "2            NaN          NaN              NaN   \n",
       "\n",
       "                                          user_agent  \n",
       "0  Mozilla/5.0 (Windows NT 6.1; Win64; x64) Apple...  \n",
       "1  Mozilla/5.0 (iPhone; CPU iPhone OS 11_0_1 like...  \n",
       "2  Mozilla/5.0 (Macintosh; Intel Mac OS X 10_12_6...  "
      ]
     },
     "execution_count": 4,
     "metadata": {},
     "output_type": "execute_result"
    }
   ],
   "source": [
    "# major page views including home and marketing page\n",
    "pages = pd.read_csv('/kaggle/input/masterclass-gordon-ramsey-class/pages.csv')\n",
    "pages.head(3)"
   ]
  },
  {
   "cell_type": "code",
   "execution_count": 5,
   "id": "402a75bd",
   "metadata": {
    "execution": {
     "iopub.execute_input": "2023-06-12T22:47:49.948018Z",
     "iopub.status.busy": "2023-06-12T22:47:49.947588Z",
     "iopub.status.idle": "2023-06-12T22:47:49.992673Z",
     "shell.execute_reply": "2023-06-12T22:47:49.991607Z"
    },
    "papermill": {
     "duration": 0.053436,
     "end_time": "2023-06-12T22:47:49.995225",
     "exception": false,
     "start_time": "2023-06-12T22:47:49.941789",
     "status": "completed"
    },
    "tags": []
   },
   "outputs": [
    {
     "data": {
      "text/html": [
       "<div>\n",
       "<style scoped>\n",
       "    .dataframe tbody tr th:only-of-type {\n",
       "        vertical-align: middle;\n",
       "    }\n",
       "\n",
       "    .dataframe tbody tr th {\n",
       "        vertical-align: top;\n",
       "    }\n",
       "\n",
       "    .dataframe thead th {\n",
       "        text-align: right;\n",
       "    }\n",
       "</style>\n",
       "<table border=\"1\" class=\"dataframe\">\n",
       "  <thead>\n",
       "    <tr style=\"text-align: right;\">\n",
       "      <th></th>\n",
       "      <th>anonymous_id</th>\n",
       "      <th>received_at</th>\n",
       "      <th>class</th>\n",
       "      <th>location</th>\n",
       "      <th>action</th>\n",
       "    </tr>\n",
       "  </thead>\n",
       "  <tbody>\n",
       "    <tr>\n",
       "      <th>0</th>\n",
       "      <td>9be8d642-3000-45db-970f-aedbc9d9ee3c</td>\n",
       "      <td>11/1/2017 0:24:58</td>\n",
       "      <td>gordon-ramsay-teaches-cooking</td>\n",
       "      <td>hero</td>\n",
       "      <td>primary</td>\n",
       "    </tr>\n",
       "    <tr>\n",
       "      <th>1</th>\n",
       "      <td>21862340-a8fb-4e6f-bca7-85f5cf1d2f68</td>\n",
       "      <td>11/1/2017 0:36:47</td>\n",
       "      <td>gordon-ramsay-teaches-cooking</td>\n",
       "      <td>video-carousel</td>\n",
       "      <td>primary</td>\n",
       "    </tr>\n",
       "    <tr>\n",
       "      <th>2</th>\n",
       "      <td>13d9d32f-a11b-489e-9dda-740442d60961</td>\n",
       "      <td>11/1/2017 0:37:53</td>\n",
       "      <td>gordon-ramsay-teaches-cooking</td>\n",
       "      <td>hero</td>\n",
       "      <td>primary</td>\n",
       "    </tr>\n",
       "  </tbody>\n",
       "</table>\n",
       "</div>"
      ],
      "text/plain": [
       "                           anonymous_id        received_at  \\\n",
       "0  9be8d642-3000-45db-970f-aedbc9d9ee3c  11/1/2017 0:24:58   \n",
       "1  21862340-a8fb-4e6f-bca7-85f5cf1d2f68  11/1/2017 0:36:47   \n",
       "2  13d9d32f-a11b-489e-9dda-740442d60961  11/1/2017 0:37:53   \n",
       "\n",
       "                           class        location   action  \n",
       "0  gordon-ramsay-teaches-cooking            hero  primary  \n",
       "1  gordon-ramsay-teaches-cooking  video-carousel  primary  \n",
       "2  gordon-ramsay-teaches-cooking            hero  primary  "
      ]
     },
     "execution_count": 5,
     "metadata": {},
     "output_type": "execute_result"
    }
   ],
   "source": [
    "# any 'take the course/give as a gift' purchase from course marketing page\n",
    "purchase_click = pd.read_csv('/kaggle/input/masterclass-gordon-ramsey-class/purchase_click.csv')\n",
    "purchase_click.head(3)"
   ]
  },
  {
   "cell_type": "code",
   "execution_count": 6,
   "id": "784dc12b",
   "metadata": {
    "execution": {
     "iopub.execute_input": "2023-06-12T22:47:50.006842Z",
     "iopub.status.busy": "2023-06-12T22:47:50.006457Z",
     "iopub.status.idle": "2023-06-12T22:47:50.029686Z",
     "shell.execute_reply": "2023-06-12T22:47:50.028868Z"
    },
    "papermill": {
     "duration": 0.031772,
     "end_time": "2023-06-12T22:47:50.032053",
     "exception": false,
     "start_time": "2023-06-12T22:47:50.000281",
     "status": "completed"
    },
    "tags": []
   },
   "outputs": [
    {
     "data": {
      "text/html": [
       "<div>\n",
       "<style scoped>\n",
       "    .dataframe tbody tr th:only-of-type {\n",
       "        vertical-align: middle;\n",
       "    }\n",
       "\n",
       "    .dataframe tbody tr th {\n",
       "        vertical-align: top;\n",
       "    }\n",
       "\n",
       "    .dataframe thead th {\n",
       "        text-align: right;\n",
       "    }\n",
       "</style>\n",
       "<table border=\"1\" class=\"dataframe\">\n",
       "  <thead>\n",
       "    <tr style=\"text-align: right;\">\n",
       "      <th></th>\n",
       "      <th>anonymous_id</th>\n",
       "      <th>received_at</th>\n",
       "      <th>product_id</th>\n",
       "      <th>total</th>\n",
       "      <th>revenue</th>\n",
       "      <th>discount</th>\n",
       "      <th>is_gift</th>\n",
       "    </tr>\n",
       "  </thead>\n",
       "  <tbody>\n",
       "    <tr>\n",
       "      <th>0</th>\n",
       "      <td>13d9d32f-a11b-489e-9dda-740442d60961</td>\n",
       "      <td>11/1/2017 0:39</td>\n",
       "      <td>gordon-ramsay-teaches-cooking</td>\n",
       "      <td>90</td>\n",
       "      <td>90</td>\n",
       "      <td>0</td>\n",
       "      <td>f</td>\n",
       "    </tr>\n",
       "    <tr>\n",
       "      <th>1</th>\n",
       "      <td>47c79436-b6e8-4009-a5e4-b82a0a32e93b</td>\n",
       "      <td>11/1/2017 1:07</td>\n",
       "      <td>gordon-ramsay-teaches-cooking</td>\n",
       "      <td>90</td>\n",
       "      <td>90</td>\n",
       "      <td>0</td>\n",
       "      <td>f</td>\n",
       "    </tr>\n",
       "    <tr>\n",
       "      <th>2</th>\n",
       "      <td>83259ee8-4de6-4748-94a3-1f6646c9fd69</td>\n",
       "      <td>11/1/2017 1:45</td>\n",
       "      <td>shonda-rhimes-teaches-writing-for-television</td>\n",
       "      <td>90</td>\n",
       "      <td>90</td>\n",
       "      <td>0</td>\n",
       "      <td>f</td>\n",
       "    </tr>\n",
       "  </tbody>\n",
       "</table>\n",
       "</div>"
      ],
      "text/plain": [
       "                           anonymous_id     received_at  \\\n",
       "0  13d9d32f-a11b-489e-9dda-740442d60961  11/1/2017 0:39   \n",
       "1  47c79436-b6e8-4009-a5e4-b82a0a32e93b  11/1/2017 1:07   \n",
       "2  83259ee8-4de6-4748-94a3-1f6646c9fd69  11/1/2017 1:45   \n",
       "\n",
       "                                     product_id  total  revenue  discount  \\\n",
       "0                 gordon-ramsay-teaches-cooking     90       90         0   \n",
       "1                 gordon-ramsay-teaches-cooking     90       90         0   \n",
       "2  shonda-rhimes-teaches-writing-for-television     90       90         0   \n",
       "\n",
       "  is_gift  \n",
       "0       f  \n",
       "1       f  \n",
       "2       f  "
      ]
     },
     "execution_count": 6,
     "metadata": {},
     "output_type": "execute_result"
    }
   ],
   "source": [
    "# when user purchases class/annual-pass (1 row per item purchase)\n",
    "purchased_class = pd.read_csv('/kaggle/input/masterclass-gordon-ramsey-class/purchased_class.csv')\n",
    "purchased_class.head(3)"
   ]
  },
  {
   "cell_type": "markdown",
   "id": "4fe484d6",
   "metadata": {
    "papermill": {
     "duration": 0.005049,
     "end_time": "2023-06-12T22:47:50.042343",
     "exception": false,
     "start_time": "2023-06-12T22:47:50.037294",
     "status": "completed"
    },
    "tags": []
   },
   "source": [
    "Analysis Strategy:\n",
    "\n",
    "Business has Subscription model where purchase of class or subscription plan adds to revenue. \n",
    "\n",
    "We want to track various user cohorts: those who converted (purchased one class/annual membership), churned, resurrected and retained (still on the platform, but have not made a purchase.\n",
    "And from there, characterize what each group's behavior is including how they got to the site, their engagement, attributions to purchase (class/annual membership).\n",
    "\n",
    "Would be nice to add some correlation heatmap's to correlate certain behavior to conversion, etc."
   ]
  },
  {
   "cell_type": "code",
   "execution_count": null,
   "id": "f3f205d9",
   "metadata": {
    "papermill": {
     "duration": 0.00467,
     "end_time": "2023-06-12T22:47:50.052108",
     "exception": false,
     "start_time": "2023-06-12T22:47:50.047438",
     "status": "completed"
    },
    "tags": []
   },
   "outputs": [],
   "source": []
  }
 ],
 "metadata": {
  "kernelspec": {
   "display_name": "Python 3",
   "language": "python",
   "name": "python3"
  },
  "language_info": {
   "codemirror_mode": {
    "name": "ipython",
    "version": 3
   },
   "file_extension": ".py",
   "mimetype": "text/x-python",
   "name": "python",
   "nbconvert_exporter": "python",
   "pygments_lexer": "ipython3",
   "version": "3.10.10"
  },
  "papermill": {
   "default_parameters": {},
   "duration": 15.318652,
   "end_time": "2023-06-12T22:47:50.979438",
   "environment_variables": {},
   "exception": null,
   "input_path": "__notebook__.ipynb",
   "output_path": "__notebook__.ipynb",
   "parameters": {},
   "start_time": "2023-06-12T22:47:35.660786",
   "version": "2.4.0"
  }
 },
 "nbformat": 4,
 "nbformat_minor": 5
}
