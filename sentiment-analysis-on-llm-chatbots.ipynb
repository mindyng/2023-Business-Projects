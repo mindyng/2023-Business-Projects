{
 "cells": [
  {
   "cell_type": "markdown",
   "id": "c5041519",
   "metadata": {
    "papermill": {
     "duration": 0.004665,
     "end_time": "2023-11-15T04:01:31.389647",
     "exception": false,
     "start_time": "2023-11-15T04:01:31.384982",
     "status": "completed"
    },
    "tags": []
   },
   "source": [
    "# Why/Motivation: \n",
    "\n",
    "1. I was really intrigued by the recent development of Anthropic's chatbot, Claude, a supposedly more ethical chatbot compared to openAI's, chatGPT. I really wanted to test its capabilities of being more \"ethical\" to see if it was measuring up to its value proposition.\n",
    "\n",
    "2. I wanted to do sentiment analysis of responses across the world wide web to see which one is most trusted.\n",
    "\n",
    "3. Good for me to get updated on NLP techniques.\n",
    "\n",
    "4. Fun to see how the world thinks of chatGPT/Claude and what they think of themselves. (turning Q & A on themselves. self-introspection)\n",
    "\n",
    "5. Wanted to see if can do sentiment analysis across multiple emotions to not have such a Black and White assessment of statements since feelings/people's positions are usually not polar, but spead across a variety of feelings.\n",
    "\n",
    "6. Not just explore Twitter (X) and Reddit, but also pop songs for real-time relevant responses.\n",
    "\n",
    "7. Look at fresh time series data.\n",
    "\n",
    "8. Explore a different viz py lib: d3.js to build more sophisticated, interactive viz for web portfolio\n",
    "\n",
    "# Business Recommendation:\n",
    "\n",
    "Thought this would be a nice twist on sentiment analysis on product launches. This is something I was looking to do since coming from product analytics, experimentation looked at event signals versus what people were actually saying about the product. People say that actions are louder than words, but words also speak volumes. Would have been nice to have complemented by experimentation resuslts with some sort of sentiment analysis. Would have added more weight, been more comprehensive assessment of new feature launches."
   ]
  },
  {
   "cell_type": "markdown",
   "id": "a5b785b8",
   "metadata": {
    "papermill": {
     "duration": 0.003997,
     "end_time": "2023-11-15T04:01:31.400057",
     "exception": false,
     "start_time": "2023-11-15T04:01:31.396060",
     "status": "completed"
    },
    "tags": []
   },
   "source": [
    "# 1. Define metrics of success (its value prop, for business) for helpful chatbot (use cases)"
   ]
  },
  {
   "cell_type": "markdown",
   "id": "1d7fb8f2",
   "metadata": {
    "papermill": {
     "duration": 0.003815,
     "end_time": "2023-11-15T04:01:31.408038",
     "exception": false,
     "start_time": "2023-11-15T04:01:31.404223",
     "status": "completed"
    },
    "tags": []
   },
   "source": [
    "# 2. Scrape:\n",
    "* ~Twitter~ have to pay for scrape; no bueno\n",
    "* Reddit (1000 cap)\n",
    "* Threads\n",
    "* BlueSky\n",
    "* Mastodon (spam, search sucks)?\n",
    "* Substack/Substack Notes\n",
    "* Medium\n",
    "* YouTube\n",
    "* LinkedIn\n",
    "* Song Lyrics\n",
    "\n",
    "to get info on following chatbots to do analysis on:\n",
    "* chatGPT (OpenAI)\n",
    "* Claude (Anthropic)\n",
    "* Bard (Google)\n",
    "* Bing Chat (Microsoft, images, voice chat)\n",
    "* Perplexity AI (advancing how people discover and share information)\n",
    "* Pi (empathetic/human emotions)"
   ]
  },
  {
   "cell_type": "markdown",
   "id": "5e492a1f",
   "metadata": {
    "execution": {
     "iopub.execute_input": "2023-11-07T23:35:07.701477Z",
     "iopub.status.busy": "2023-11-07T23:35:07.700947Z",
     "iopub.status.idle": "2023-11-07T23:35:07.706595Z",
     "shell.execute_reply": "2023-11-07T23:35:07.705424Z",
     "shell.execute_reply.started": "2023-11-07T23:35:07.701428Z"
    },
    "papermill": {
     "duration": 0.003802,
     "end_time": "2023-11-15T04:01:31.415978",
     "exception": false,
     "start_time": "2023-11-15T04:01:31.412176",
     "status": "completed"
    },
    "tags": []
   },
   "source": [
    "# chatGPT Comments"
   ]
  },
  {
   "cell_type": "markdown",
   "id": "60a697a9",
   "metadata": {
    "papermill": {
     "duration": 0.003801,
     "end_time": "2023-11-15T04:01:31.423966",
     "exception": false,
     "start_time": "2023-11-15T04:01:31.420165",
     "status": "completed"
    },
    "tags": []
   },
   "source": [
    "# 3. Complete d3.js visualizations on emotions"
   ]
  },
  {
   "cell_type": "markdown",
   "id": "51903ec0",
   "metadata": {
    "papermill": {
     "duration": 0.003825,
     "end_time": "2023-11-15T04:01:31.431897",
     "exception": false,
     "start_time": "2023-11-15T04:01:31.428072",
     "status": "completed"
    },
    "tags": []
   },
   "source": [
    "# 4. Other NLP-related analyses (Topic Modeling)"
   ]
  },
  {
   "cell_type": "code",
   "execution_count": 1,
   "id": "c5f712c3",
   "metadata": {
    "execution": {
     "iopub.execute_input": "2023-11-15T04:01:31.442318Z",
     "iopub.status.busy": "2023-11-15T04:01:31.441598Z",
     "iopub.status.idle": "2023-11-15T04:01:32.392860Z",
     "shell.execute_reply": "2023-11-15T04:01:32.391669Z"
    },
    "papermill": {
     "duration": 0.959857,
     "end_time": "2023-11-15T04:01:32.395874",
     "exception": false,
     "start_time": "2023-11-15T04:01:31.436017",
     "status": "completed"
    },
    "tags": []
   },
   "outputs": [],
   "source": [
    "import numpy as np\n",
    "import pandas as pd\n",
    "\n",
    "import json"
   ]
  },
  {
   "cell_type": "code",
   "execution_count": 2,
   "id": "54c332ea",
   "metadata": {
    "execution": {
     "iopub.execute_input": "2023-11-15T04:01:32.407426Z",
     "iopub.status.busy": "2023-11-15T04:01:32.406150Z",
     "iopub.status.idle": "2023-11-15T04:01:32.420102Z",
     "shell.execute_reply": "2023-11-15T04:01:32.418825Z"
    },
    "papermill": {
     "duration": 0.022848,
     "end_time": "2023-11-15T04:01:32.423135",
     "exception": false,
     "start_time": "2023-11-15T04:01:32.400287",
     "status": "completed"
    },
    "tags": []
   },
   "outputs": [],
   "source": [
    "credentials = {}\n",
    "try:\n",
    "    with open('/kaggle/input/credentials/credentials.json') as file:\n",
    "        credentials = json.load(file)    \n",
    "except FileNotFoundError:\n",
    "    print(\"Error: credentials.json file not found.\")\n",
    "    \n",
    "# print(credentials[\"youtube_api_key\"])"
   ]
  },
  {
   "cell_type": "code",
   "execution_count": 3,
   "id": "e6788432",
   "metadata": {
    "execution": {
     "iopub.execute_input": "2023-11-15T04:01:32.433977Z",
     "iopub.status.busy": "2023-11-15T04:01:32.433200Z",
     "iopub.status.idle": "2023-11-15T04:01:33.290332Z",
     "shell.execute_reply": "2023-11-15T04:01:33.289091Z"
    },
    "papermill": {
     "duration": 0.865296,
     "end_time": "2023-11-15T04:01:33.292852",
     "exception": false,
     "start_time": "2023-11-15T04:01:32.427556",
     "status": "completed"
    },
    "tags": []
   },
   "outputs": [
    {
     "data": {
      "text/html": [
       "<div>\n",
       "<style scoped>\n",
       "    .dataframe tbody tr th:only-of-type {\n",
       "        vertical-align: middle;\n",
       "    }\n",
       "\n",
       "    .dataframe tbody tr th {\n",
       "        vertical-align: top;\n",
       "    }\n",
       "\n",
       "    .dataframe thead th {\n",
       "        text-align: right;\n",
       "    }\n",
       "</style>\n",
       "<table border=\"1\" class=\"dataframe\">\n",
       "  <thead>\n",
       "    <tr style=\"text-align: right;\">\n",
       "      <th></th>\n",
       "      <th>author</th>\n",
       "      <th>published_at</th>\n",
       "      <th>updated_at</th>\n",
       "      <th>like_count</th>\n",
       "      <th>text</th>\n",
       "    </tr>\n",
       "  </thead>\n",
       "  <tbody>\n",
       "    <tr>\n",
       "      <th>0</th>\n",
       "      <td>Luis Dias</td>\n",
       "      <td>2023-11-09T16:17:12Z</td>\n",
       "      <td>2023-11-09T16:17:12Z</td>\n",
       "      <td>0</td>\n",
       "      <td>imo autonomous killer drones should only be al...</td>\n",
       "    </tr>\n",
       "    <tr>\n",
       "      <th>1</th>\n",
       "      <td>Luis Dias</td>\n",
       "      <td>2023-11-09T16:13:16Z</td>\n",
       "      <td>2023-11-09T16:13:16Z</td>\n",
       "      <td>0</td>\n",
       "      <td>Not too amazed by the ai rap song, I need to l...</td>\n",
       "    </tr>\n",
       "    <tr>\n",
       "      <th>2</th>\n",
       "      <td>Meridian Heights</td>\n",
       "      <td>2023-11-06T01:08:51Z</td>\n",
       "      <td>2023-11-06T01:11:06Z</td>\n",
       "      <td>0</td>\n",
       "      <td>I think we need laws stating that AI &amp;quot;bei...</td>\n",
       "    </tr>\n",
       "    <tr>\n",
       "      <th>3</th>\n",
       "      <td>Mauricio Alfaro</td>\n",
       "      <td>2023-11-05T04:09:00Z</td>\n",
       "      <td>2023-11-05T04:10:08Z</td>\n",
       "      <td>0</td>\n",
       "      <td>&lt;a href=\"https://www.youtube.com/watch?v=RCRui...</td>\n",
       "    </tr>\n",
       "    <tr>\n",
       "      <th>4</th>\n",
       "      <td>Low McCarey</td>\n",
       "      <td>2023-11-04T17:31:16Z</td>\n",
       "      <td>2023-11-04T17:31:16Z</td>\n",
       "      <td>0</td>\n",
       "      <td>Trustworthy AI depends upon accountability. Ac...</td>\n",
       "    </tr>\n",
       "    <tr>\n",
       "      <th>5</th>\n",
       "      <td>BAAPU Bhendi</td>\n",
       "      <td>2023-11-04T04:14:35Z</td>\n",
       "      <td>2023-11-04T04:14:35Z</td>\n",
       "      <td>1</td>\n",
       "      <td>Ai rickrolls us, i don&amp;#39;t think it can get ...</td>\n",
       "    </tr>\n",
       "    <tr>\n",
       "      <th>6</th>\n",
       "      <td>Dovydas</td>\n",
       "      <td>2023-11-04T01:45:33Z</td>\n",
       "      <td>2023-11-04T01:45:33Z</td>\n",
       "      <td>1</td>\n",
       "      <td>...Did I just get Rickrolled?!</td>\n",
       "    </tr>\n",
       "    <tr>\n",
       "      <th>7</th>\n",
       "      <td>Gregor Mobius</td>\n",
       "      <td>2023-11-03T20:48:43Z</td>\n",
       "      <td>2023-11-03T20:48:43Z</td>\n",
       "      <td>0</td>\n",
       "      <td>related story &lt;a href=\"https://argoseye.wordpr...</td>\n",
       "    </tr>\n",
       "    <tr>\n",
       "      <th>8</th>\n",
       "      <td>Robert Wynkoop</td>\n",
       "      <td>2023-11-03T15:20:38Z</td>\n",
       "      <td>2023-11-03T15:20:38Z</td>\n",
       "      <td>0</td>\n",
       "      <td>The “musical” examples are a joke, just beats ...</td>\n",
       "    </tr>\n",
       "    <tr>\n",
       "      <th>9</th>\n",
       "      <td>Mark Emad</td>\n",
       "      <td>2023-11-02T20:16:53Z</td>\n",
       "      <td>2023-11-02T20:16:53Z</td>\n",
       "      <td>1</td>\n",
       "      <td>From what I have noticed all the important peo...</td>\n",
       "    </tr>\n",
       "  </tbody>\n",
       "</table>\n",
       "</div>"
      ],
      "text/plain": [
       "             author          published_at            updated_at  like_count  \\\n",
       "0         Luis Dias  2023-11-09T16:17:12Z  2023-11-09T16:17:12Z           0   \n",
       "1         Luis Dias  2023-11-09T16:13:16Z  2023-11-09T16:13:16Z           0   \n",
       "2  Meridian Heights  2023-11-06T01:08:51Z  2023-11-06T01:11:06Z           0   \n",
       "3   Mauricio Alfaro  2023-11-05T04:09:00Z  2023-11-05T04:10:08Z           0   \n",
       "4       Low McCarey  2023-11-04T17:31:16Z  2023-11-04T17:31:16Z           0   \n",
       "5      BAAPU Bhendi  2023-11-04T04:14:35Z  2023-11-04T04:14:35Z           1   \n",
       "6           Dovydas  2023-11-04T01:45:33Z  2023-11-04T01:45:33Z           1   \n",
       "7     Gregor Mobius  2023-11-03T20:48:43Z  2023-11-03T20:48:43Z           0   \n",
       "8    Robert Wynkoop  2023-11-03T15:20:38Z  2023-11-03T15:20:38Z           0   \n",
       "9         Mark Emad  2023-11-02T20:16:53Z  2023-11-02T20:16:53Z           1   \n",
       "\n",
       "                                                text  \n",
       "0  imo autonomous killer drones should only be al...  \n",
       "1  Not too amazed by the ai rap song, I need to l...  \n",
       "2  I think we need laws stating that AI &quot;bei...  \n",
       "3  <a href=\"https://www.youtube.com/watch?v=RCRui...  \n",
       "4  Trustworthy AI depends upon accountability. Ac...  \n",
       "5  Ai rickrolls us, i don&#39;t think it can get ...  \n",
       "6                     ...Did I just get Rickrolled?!  \n",
       "7  related story <a href=\"https://argoseye.wordpr...  \n",
       "8  The “musical” examples are a joke, just beats ...  \n",
       "9  From what I have noticed all the important peo...  "
      ]
     },
     "execution_count": 3,
     "metadata": {},
     "output_type": "execute_result"
    }
   ],
   "source": [
    "# Ref: https://github.com/analyticswithadam/Python/blob/main/YouTubeComments.ipynb\n",
    "\n",
    "import googleapiclient.discovery\n",
    "import googleapiclient.errors\n",
    "\n",
    "api_service_name = \"youtube\"\n",
    "api_version = \"v3\"\n",
    "DEVELOPER_KEY = credentials[\"youtube_api_key\"]\n",
    "\n",
    "youtube = googleapiclient.discovery.build(\n",
    "    api_service_name, api_version, developerKey=DEVELOPER_KEY)\n",
    "\n",
    "request = youtube.commentThreads().list(\n",
    "    part=\"snippet\",\n",
    "    videoId=\"RCRuiu-3VDU\",\n",
    "    maxResults=1000\n",
    ")\n",
    "response = request.execute()\n",
    "\n",
    "comments = []\n",
    "\n",
    "for item in response['items']:\n",
    "    comment = item['snippet']['topLevelComment']['snippet']\n",
    "    comments.append([\n",
    "        comment['authorDisplayName'],\n",
    "        comment['publishedAt'],\n",
    "        comment['updatedAt'],\n",
    "        comment['likeCount'],\n",
    "        comment['textDisplay']\n",
    "    ])\n",
    "\n",
    "df = pd.DataFrame(comments, columns=['author', 'published_at', 'updated_at', 'like_count', 'text'])\n",
    "\n",
    "df.head(10)"
   ]
  },
  {
   "cell_type": "code",
   "execution_count": null,
   "id": "8fccf956",
   "metadata": {
    "execution": {
     "iopub.execute_input": "2023-11-15T03:51:07.546145Z",
     "iopub.status.busy": "2023-11-15T03:51:07.545647Z",
     "iopub.status.idle": "2023-11-15T03:51:07.564971Z",
     "shell.execute_reply": "2023-11-15T03:51:07.563987Z",
     "shell.execute_reply.started": "2023-11-15T03:51:07.546107Z"
    },
    "papermill": {
     "duration": 0.004507,
     "end_time": "2023-11-15T04:01:33.302341",
     "exception": false,
     "start_time": "2023-11-15T04:01:33.297834",
     "status": "completed"
    },
    "tags": []
   },
   "outputs": [],
   "source": []
  },
  {
   "cell_type": "code",
   "execution_count": null,
   "id": "010d2eb5",
   "metadata": {
    "papermill": {
     "duration": 0.004301,
     "end_time": "2023-11-15T04:01:33.311709",
     "exception": false,
     "start_time": "2023-11-15T04:01:33.307408",
     "status": "completed"
    },
    "tags": []
   },
   "outputs": [],
   "source": []
  }
 ],
 "metadata": {
  "kaggle": {
   "accelerator": "none",
   "dataSources": [
    {
     "datasetId": 4004857,
     "sourceId": 6970490,
     "sourceType": "datasetVersion"
    }
   ],
   "dockerImageVersionId": 30558,
   "isGpuEnabled": false,
   "isInternetEnabled": true,
   "language": "python",
   "sourceType": "notebook"
  },
  "kernelspec": {
   "display_name": "Python 3",
   "language": "python",
   "name": "python3"
  },
  "language_info": {
   "codemirror_mode": {
    "name": "ipython",
    "version": 3
   },
   "file_extension": ".py",
   "mimetype": "text/x-python",
   "name": "python",
   "nbconvert_exporter": "python",
   "pygments_lexer": "ipython3",
   "version": "3.10.12"
  },
  "papermill": {
   "default_parameters": {},
   "duration": 7.091553,
   "end_time": "2023-11-15T04:01:33.938006",
   "environment_variables": {},
   "exception": null,
   "input_path": "__notebook__.ipynb",
   "output_path": "__notebook__.ipynb",
   "parameters": {},
   "start_time": "2023-11-15T04:01:26.846453",
   "version": "2.4.0"
  }
 },
 "nbformat": 4,
 "nbformat_minor": 5
}
