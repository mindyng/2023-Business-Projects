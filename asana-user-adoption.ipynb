{
 "cells": [
  {
   "cell_type": "code",
   "execution_count": 1,
   "id": "730a8acf",
   "metadata": {
    "_cell_guid": "b1076dfc-b9ad-4769-8c92-a6c4dae69d19",
    "_uuid": "8f2839f25d086af736a60e9eeb907d3b93b6e0e5",
    "execution": {
     "iopub.execute_input": "2023-02-21T04:55:04.486795Z",
     "iopub.status.busy": "2023-02-21T04:55:04.486201Z",
     "iopub.status.idle": "2023-02-21T04:55:05.624234Z",
     "shell.execute_reply": "2023-02-21T04:55:05.623403Z"
    },
    "papermill": {
     "duration": 1.153578,
     "end_time": "2023-02-21T04:55:05.626777",
     "exception": false,
     "start_time": "2023-02-21T04:55:04.473199",
     "status": "completed"
    },
    "tags": []
   },
   "outputs": [],
   "source": [
    "# data analysis and wrangling\n",
    "import pandas as pd\n",
    "import numpy as np\n",
    "import random as rnd\n",
    "\n",
    "# visualization\n",
    "import seaborn as sns\n",
    "import matplotlib.pyplot as plt\n",
    "%matplotlib inline"
   ]
  },
  {
   "cell_type": "markdown",
   "id": "6ea14809",
   "metadata": {
    "papermill": {
     "duration": 0.006995,
     "end_time": "2023-02-21T04:55:05.641126",
     "exception": false,
     "start_time": "2023-02-21T04:55:05.634131",
     "status": "completed"
    },
    "tags": []
   },
   "source": [
    "# Prompt: \n",
    "\n",
    "### Defining an \"adopted user\" as a user who has logged into the product on three separate days in at least one seven-day period, \n",
    "### identify which factors predict future user adoption."
   ]
  },
  {
   "cell_type": "markdown",
   "id": "9725fef2",
   "metadata": {
    "papermill": {
     "duration": 0.006611,
     "end_time": "2023-02-21T04:55:05.655325",
     "exception": false,
     "start_time": "2023-02-21T04:55:05.648714",
     "status": "completed"
    },
    "tags": []
   },
   "source": [
    "Strategy:\n",
    "\n",
    "1. Get the data\n",
    "2. First segment the adopted based on business definition\n",
    "3. Then use correlation matrix to see which features have best signal for adoption\n",
    "4. Make new features to get better signal for adoption?"
   ]
  },
  {
   "cell_type": "markdown",
   "id": "72faa211",
   "metadata": {
    "execution": {
     "iopub.execute_input": "2023-02-19T01:58:06.863951Z",
     "iopub.status.busy": "2023-02-19T01:58:06.863529Z",
     "iopub.status.idle": "2023-02-19T01:58:06.870201Z",
     "shell.execute_reply": "2023-02-19T01:58:06.868066Z",
     "shell.execute_reply.started": "2023-02-19T01:58:06.863916Z"
    },
    "papermill": {
     "duration": 0.006654,
     "end_time": "2023-02-21T04:55:05.669044",
     "exception": false,
     "start_time": "2023-02-21T04:55:05.662390",
     "status": "completed"
    },
    "tags": []
   },
   "source": [
    "# Data\n",
    "\n",
    "## Dictionary:\n",
    "Users table with data on 12,000 users who signed up for the product in the last two years.  This table includes: \n",
    "* name: the user's name\n",
    "-object_id: the user's id\n",
    "-email: email address \n",
    "-creation_source: how their account was created. This takes on one of 5 values:\n",
    "\tPERSONAL_PROJECTS: invited to join another user's personal workspace\n",
    "\tGUEST_INVITE: invited to an organization as a guest (limited permissions)\n",
    "\tORG_INVITE: invited to an organization (as a full member)\n",
    "\tSIGNUP: signed up via asana.com\n",
    "\tSIGNUP_GOOGLE_AUTH: signed up using Google Authentication (using a Google email account for their login id)\n",
    "-creation_time: when they created their account\n",
    "-last_session_creation_time: unix timestamp of last login\n",
    "-opted_in_to_mailing_list: whether they have opted into receiving marketing emails\n",
    "-enabled_for_marketing_drip: whether they are on the regular marketing email drip\n",
    "-org_id: the organization (group of users) they belong to\n",
    "-invited_by_user_id: which user invited them to join (if applicable).\n",
    "\n",
    "A usage summary user engagement table that has a row for each day that a user logged into the product. "
   ]
  },
  {
   "cell_type": "code",
   "execution_count": 2,
   "id": "e1d4fc4a",
   "metadata": {
    "execution": {
     "iopub.execute_input": "2023-02-21T04:55:05.685080Z",
     "iopub.status.busy": "2023-02-21T04:55:05.684513Z",
     "iopub.status.idle": "2023-02-21T04:55:06.013366Z",
     "shell.execute_reply": "2023-02-21T04:55:06.012198Z"
    },
    "papermill": {
     "duration": 0.339643,
     "end_time": "2023-02-21T04:55:06.015591",
     "exception": false,
     "start_time": "2023-02-21T04:55:05.675948",
     "status": "completed"
    },
    "tags": []
   },
   "outputs": [],
   "source": [
    "users = pd.read_csv('/kaggle/input/relax-datachallenge/takehome_users.csv', encoding='latin_1')\n",
    "user_engagement = pd.read_csv('/kaggle/input/relax-datachallenge/takehome_user_engagement.csv', encoding='latin_1')"
   ]
  },
  {
   "cell_type": "code",
   "execution_count": 3,
   "id": "3d8b3a89",
   "metadata": {
    "execution": {
     "iopub.execute_input": "2023-02-21T04:55:06.031731Z",
     "iopub.status.busy": "2023-02-21T04:55:06.031131Z",
     "iopub.status.idle": "2023-02-21T04:55:06.058046Z",
     "shell.execute_reply": "2023-02-21T04:55:06.056727Z"
    },
    "papermill": {
     "duration": 0.037839,
     "end_time": "2023-02-21T04:55:06.060499",
     "exception": false,
     "start_time": "2023-02-21T04:55:06.022660",
     "status": "completed"
    },
    "tags": []
   },
   "outputs": [
    {
     "data": {
      "text/html": [
       "<div>\n",
       "<style scoped>\n",
       "    .dataframe tbody tr th:only-of-type {\n",
       "        vertical-align: middle;\n",
       "    }\n",
       "\n",
       "    .dataframe tbody tr th {\n",
       "        vertical-align: top;\n",
       "    }\n",
       "\n",
       "    .dataframe thead th {\n",
       "        text-align: right;\n",
       "    }\n",
       "</style>\n",
       "<table border=\"1\" class=\"dataframe\">\n",
       "  <thead>\n",
       "    <tr style=\"text-align: right;\">\n",
       "      <th></th>\n",
       "      <th>object_id</th>\n",
       "      <th>creation_time</th>\n",
       "      <th>name</th>\n",
       "      <th>email</th>\n",
       "      <th>creation_source</th>\n",
       "      <th>last_session_creation_time</th>\n",
       "      <th>opted_in_to_mailing_list</th>\n",
       "      <th>enabled_for_marketing_drip</th>\n",
       "      <th>org_id</th>\n",
       "      <th>invited_by_user_id</th>\n",
       "    </tr>\n",
       "  </thead>\n",
       "  <tbody>\n",
       "    <tr>\n",
       "      <th>0</th>\n",
       "      <td>1</td>\n",
       "      <td>2014-04-22 03:53:30</td>\n",
       "      <td>Clausen August</td>\n",
       "      <td>AugustCClausen@yahoo.com</td>\n",
       "      <td>GUEST_INVITE</td>\n",
       "      <td>1.398139e+09</td>\n",
       "      <td>1</td>\n",
       "      <td>0</td>\n",
       "      <td>11</td>\n",
       "      <td>10803.0</td>\n",
       "    </tr>\n",
       "    <tr>\n",
       "      <th>1</th>\n",
       "      <td>2</td>\n",
       "      <td>2013-11-15 03:45:04</td>\n",
       "      <td>Poole Matthew</td>\n",
       "      <td>MatthewPoole@gustr.com</td>\n",
       "      <td>ORG_INVITE</td>\n",
       "      <td>1.396238e+09</td>\n",
       "      <td>0</td>\n",
       "      <td>0</td>\n",
       "      <td>1</td>\n",
       "      <td>316.0</td>\n",
       "    </tr>\n",
       "    <tr>\n",
       "      <th>2</th>\n",
       "      <td>3</td>\n",
       "      <td>2013-03-19 23:14:52</td>\n",
       "      <td>Bottrill Mitchell</td>\n",
       "      <td>MitchellBottrill@gustr.com</td>\n",
       "      <td>ORG_INVITE</td>\n",
       "      <td>1.363735e+09</td>\n",
       "      <td>0</td>\n",
       "      <td>0</td>\n",
       "      <td>94</td>\n",
       "      <td>1525.0</td>\n",
       "    </tr>\n",
       "    <tr>\n",
       "      <th>3</th>\n",
       "      <td>4</td>\n",
       "      <td>2013-05-21 08:09:28</td>\n",
       "      <td>Clausen Nicklas</td>\n",
       "      <td>NicklasSClausen@yahoo.com</td>\n",
       "      <td>GUEST_INVITE</td>\n",
       "      <td>1.369210e+09</td>\n",
       "      <td>0</td>\n",
       "      <td>0</td>\n",
       "      <td>1</td>\n",
       "      <td>5151.0</td>\n",
       "    </tr>\n",
       "    <tr>\n",
       "      <th>4</th>\n",
       "      <td>5</td>\n",
       "      <td>2013-01-17 10:14:20</td>\n",
       "      <td>Raw Grace</td>\n",
       "      <td>GraceRaw@yahoo.com</td>\n",
       "      <td>GUEST_INVITE</td>\n",
       "      <td>1.358850e+09</td>\n",
       "      <td>0</td>\n",
       "      <td>0</td>\n",
       "      <td>193</td>\n",
       "      <td>5240.0</td>\n",
       "    </tr>\n",
       "  </tbody>\n",
       "</table>\n",
       "</div>"
      ],
      "text/plain": [
       "   object_id        creation_time               name  \\\n",
       "0          1  2014-04-22 03:53:30     Clausen August   \n",
       "1          2  2013-11-15 03:45:04      Poole Matthew   \n",
       "2          3  2013-03-19 23:14:52  Bottrill Mitchell   \n",
       "3          4  2013-05-21 08:09:28    Clausen Nicklas   \n",
       "4          5  2013-01-17 10:14:20          Raw Grace   \n",
       "\n",
       "                        email creation_source  last_session_creation_time  \\\n",
       "0    AugustCClausen@yahoo.com    GUEST_INVITE                1.398139e+09   \n",
       "1      MatthewPoole@gustr.com      ORG_INVITE                1.396238e+09   \n",
       "2  MitchellBottrill@gustr.com      ORG_INVITE                1.363735e+09   \n",
       "3   NicklasSClausen@yahoo.com    GUEST_INVITE                1.369210e+09   \n",
       "4          GraceRaw@yahoo.com    GUEST_INVITE                1.358850e+09   \n",
       "\n",
       "   opted_in_to_mailing_list  enabled_for_marketing_drip  org_id  \\\n",
       "0                         1                           0      11   \n",
       "1                         0                           0       1   \n",
       "2                         0                           0      94   \n",
       "3                         0                           0       1   \n",
       "4                         0                           0     193   \n",
       "\n",
       "   invited_by_user_id  \n",
       "0             10803.0  \n",
       "1               316.0  \n",
       "2              1525.0  \n",
       "3              5151.0  \n",
       "4              5240.0  "
      ]
     },
     "execution_count": 3,
     "metadata": {},
     "output_type": "execute_result"
    }
   ],
   "source": [
    "users.head()"
   ]
  },
  {
   "cell_type": "code",
   "execution_count": 4,
   "id": "fbef55aa",
   "metadata": {
    "execution": {
     "iopub.execute_input": "2023-02-21T04:55:06.077027Z",
     "iopub.status.busy": "2023-02-21T04:55:06.076606Z",
     "iopub.status.idle": "2023-02-21T04:55:06.089270Z",
     "shell.execute_reply": "2023-02-21T04:55:06.087578Z"
    },
    "papermill": {
     "duration": 0.024828,
     "end_time": "2023-02-21T04:55:06.092756",
     "exception": false,
     "start_time": "2023-02-21T04:55:06.067928",
     "status": "completed"
    },
    "tags": []
   },
   "outputs": [
    {
     "data": {
      "text/html": [
       "<div>\n",
       "<style scoped>\n",
       "    .dataframe tbody tr th:only-of-type {\n",
       "        vertical-align: middle;\n",
       "    }\n",
       "\n",
       "    .dataframe tbody tr th {\n",
       "        vertical-align: top;\n",
       "    }\n",
       "\n",
       "    .dataframe thead th {\n",
       "        text-align: right;\n",
       "    }\n",
       "</style>\n",
       "<table border=\"1\" class=\"dataframe\">\n",
       "  <thead>\n",
       "    <tr style=\"text-align: right;\">\n",
       "      <th></th>\n",
       "      <th>time_stamp</th>\n",
       "      <th>user_id</th>\n",
       "      <th>visited</th>\n",
       "    </tr>\n",
       "  </thead>\n",
       "  <tbody>\n",
       "    <tr>\n",
       "      <th>0</th>\n",
       "      <td>2014-04-22 03:53:30</td>\n",
       "      <td>1</td>\n",
       "      <td>1</td>\n",
       "    </tr>\n",
       "    <tr>\n",
       "      <th>1</th>\n",
       "      <td>2013-11-15 03:45:04</td>\n",
       "      <td>2</td>\n",
       "      <td>1</td>\n",
       "    </tr>\n",
       "    <tr>\n",
       "      <th>2</th>\n",
       "      <td>2013-11-29 03:45:04</td>\n",
       "      <td>2</td>\n",
       "      <td>1</td>\n",
       "    </tr>\n",
       "    <tr>\n",
       "      <th>3</th>\n",
       "      <td>2013-12-09 03:45:04</td>\n",
       "      <td>2</td>\n",
       "      <td>1</td>\n",
       "    </tr>\n",
       "    <tr>\n",
       "      <th>4</th>\n",
       "      <td>2013-12-25 03:45:04</td>\n",
       "      <td>2</td>\n",
       "      <td>1</td>\n",
       "    </tr>\n",
       "  </tbody>\n",
       "</table>\n",
       "</div>"
      ],
      "text/plain": [
       "            time_stamp  user_id  visited\n",
       "0  2014-04-22 03:53:30        1        1\n",
       "1  2013-11-15 03:45:04        2        1\n",
       "2  2013-11-29 03:45:04        2        1\n",
       "3  2013-12-09 03:45:04        2        1\n",
       "4  2013-12-25 03:45:04        2        1"
      ]
     },
     "execution_count": 4,
     "metadata": {},
     "output_type": "execute_result"
    }
   ],
   "source": [
    "user_engagement.head()"
   ]
  },
  {
   "cell_type": "markdown",
   "id": "89ce11b2",
   "metadata": {
    "papermill": {
     "duration": 0.007354,
     "end_time": "2023-02-21T04:55:06.107977",
     "exception": false,
     "start_time": "2023-02-21T04:55:06.100623",
     "status": "completed"
    },
    "tags": []
   },
   "source": [
    "1. get the week for each timestamp\n",
    "2. then count each week per user_id\n",
    "3. filter on >=3 engagements for each week for each user as adopted"
   ]
  },
  {
   "cell_type": "markdown",
   "id": "eb6f23c9",
   "metadata": {
    "papermill": {
     "duration": 0.00728,
     "end_time": "2023-02-21T04:55:06.122955",
     "exception": false,
     "start_time": "2023-02-21T04:55:06.115675",
     "status": "completed"
    },
    "tags": []
   },
   "source": [
    "Loaded users and user engagement tables into Postgres. Got adopted users based on business definition and joined back to users. With resultant table, got user information as well as those who adopted/not adopted the product."
   ]
  },
  {
   "cell_type": "code",
   "execution_count": 5,
   "id": "8aee7da1",
   "metadata": {
    "execution": {
     "iopub.execute_input": "2023-02-21T04:55:06.139394Z",
     "iopub.status.busy": "2023-02-21T04:55:06.138950Z",
     "iopub.status.idle": "2023-02-21T04:55:06.235378Z",
     "shell.execute_reply": "2023-02-21T04:55:06.233996Z"
    },
    "papermill": {
     "duration": 0.107743,
     "end_time": "2023-02-21T04:55:06.238127",
     "exception": false,
     "start_time": "2023-02-21T04:55:06.130384",
     "status": "completed"
    },
    "tags": []
   },
   "outputs": [
    {
     "data": {
      "text/html": [
       "<div>\n",
       "<style scoped>\n",
       "    .dataframe tbody tr th:only-of-type {\n",
       "        vertical-align: middle;\n",
       "    }\n",
       "\n",
       "    .dataframe tbody tr th {\n",
       "        vertical-align: top;\n",
       "    }\n",
       "\n",
       "    .dataframe thead th {\n",
       "        text-align: right;\n",
       "    }\n",
       "</style>\n",
       "<table border=\"1\" class=\"dataframe\">\n",
       "  <thead>\n",
       "    <tr style=\"text-align: right;\">\n",
       "      <th></th>\n",
       "      <th>user_id</th>\n",
       "      <th>creation_time</th>\n",
       "      <th>creation_time_date</th>\n",
       "      <th>creation_time_year</th>\n",
       "      <th>creation_time_month</th>\n",
       "      <th>creation_time_dow</th>\n",
       "      <th>name</th>\n",
       "      <th>email</th>\n",
       "      <th>creation_source</th>\n",
       "      <th>last_session_creation_time</th>\n",
       "      <th>last_session_creation_time_year</th>\n",
       "      <th>last_session_creation_time_month</th>\n",
       "      <th>last_session_creation_time_dow</th>\n",
       "      <th>opted_in_to_mailing_list</th>\n",
       "      <th>enabled_for_marketing_drip</th>\n",
       "      <th>org_id</th>\n",
       "      <th>invited_by_user_id</th>\n",
       "      <th>adopted</th>\n",
       "    </tr>\n",
       "  </thead>\n",
       "  <tbody>\n",
       "    <tr>\n",
       "      <th>0</th>\n",
       "      <td>2.0</td>\n",
       "      <td>2013-11-15 03:45:04</td>\n",
       "      <td>2013-11-15</td>\n",
       "      <td>2013</td>\n",
       "      <td>11</td>\n",
       "      <td>5</td>\n",
       "      <td>Poole Matthew</td>\n",
       "      <td>MatthewPoole@gustr.com</td>\n",
       "      <td>ORG_INVITE</td>\n",
       "      <td>2014-03-30 20:45:04-07</td>\n",
       "      <td>2014.0</td>\n",
       "      <td>3.0</td>\n",
       "      <td>7.0</td>\n",
       "      <td>0</td>\n",
       "      <td>0</td>\n",
       "      <td>1</td>\n",
       "      <td>316.0</td>\n",
       "      <td>1</td>\n",
       "    </tr>\n",
       "    <tr>\n",
       "      <th>1</th>\n",
       "      <td>10.0</td>\n",
       "      <td>2013-01-16 22:08:03</td>\n",
       "      <td>2013-01-16</td>\n",
       "      <td>2013</td>\n",
       "      <td>1</td>\n",
       "      <td>3</td>\n",
       "      <td>Santos Carla</td>\n",
       "      <td>CarlaFerreiraSantos@gustr.com</td>\n",
       "      <td>ORG_INVITE</td>\n",
       "      <td>2014-06-03 15:08:03-07</td>\n",
       "      <td>2014.0</td>\n",
       "      <td>6.0</td>\n",
       "      <td>2.0</td>\n",
       "      <td>1</td>\n",
       "      <td>1</td>\n",
       "      <td>318</td>\n",
       "      <td>4143.0</td>\n",
       "      <td>1</td>\n",
       "    </tr>\n",
       "    <tr>\n",
       "      <th>2</th>\n",
       "      <td>20.0</td>\n",
       "      <td>2014-03-06 11:46:38</td>\n",
       "      <td>2014-03-06</td>\n",
       "      <td>2014</td>\n",
       "      <td>3</td>\n",
       "      <td>4</td>\n",
       "      <td>Helms Mikayla</td>\n",
       "      <td>lqyvjilf@uhzdq.com</td>\n",
       "      <td>SIGNUP</td>\n",
       "      <td>2014-05-29 04:46:38-07</td>\n",
       "      <td>2014.0</td>\n",
       "      <td>5.0</td>\n",
       "      <td>4.0</td>\n",
       "      <td>0</td>\n",
       "      <td>0</td>\n",
       "      <td>58</td>\n",
       "      <td>NaN</td>\n",
       "      <td>1</td>\n",
       "    </tr>\n",
       "    <tr>\n",
       "      <th>3</th>\n",
       "      <td>33.0</td>\n",
       "      <td>2014-03-11 06:29:09</td>\n",
       "      <td>2014-03-11</td>\n",
       "      <td>2014</td>\n",
       "      <td>3</td>\n",
       "      <td>2</td>\n",
       "      <td>Araujo Josй</td>\n",
       "      <td>JoseMartinsAraujo@cuvox.de</td>\n",
       "      <td>GUEST_INVITE</td>\n",
       "      <td>2014-05-30 23:29:09-07</td>\n",
       "      <td>2014.0</td>\n",
       "      <td>5.0</td>\n",
       "      <td>5.0</td>\n",
       "      <td>0</td>\n",
       "      <td>0</td>\n",
       "      <td>401</td>\n",
       "      <td>79.0</td>\n",
       "      <td>1</td>\n",
       "    </tr>\n",
       "    <tr>\n",
       "      <th>4</th>\n",
       "      <td>42.0</td>\n",
       "      <td>2012-11-11 19:05:07</td>\n",
       "      <td>2012-11-11</td>\n",
       "      <td>2012</td>\n",
       "      <td>11</td>\n",
       "      <td>7</td>\n",
       "      <td>Pinto Giovanna</td>\n",
       "      <td>GiovannaCunhaPinto@cuvox.de</td>\n",
       "      <td>SIGNUP</td>\n",
       "      <td>2014-05-25 12:05:07-07</td>\n",
       "      <td>2014.0</td>\n",
       "      <td>5.0</td>\n",
       "      <td>7.0</td>\n",
       "      <td>1</td>\n",
       "      <td>0</td>\n",
       "      <td>235</td>\n",
       "      <td>NaN</td>\n",
       "      <td>1</td>\n",
       "    </tr>\n",
       "  </tbody>\n",
       "</table>\n",
       "</div>"
      ],
      "text/plain": [
       "   user_id        creation_time creation_time_date  creation_time_year  \\\n",
       "0      2.0  2013-11-15 03:45:04         2013-11-15                2013   \n",
       "1     10.0  2013-01-16 22:08:03         2013-01-16                2013   \n",
       "2     20.0  2014-03-06 11:46:38         2014-03-06                2014   \n",
       "3     33.0  2014-03-11 06:29:09         2014-03-11                2014   \n",
       "4     42.0  2012-11-11 19:05:07         2012-11-11                2012   \n",
       "\n",
       "   creation_time_month  creation_time_dow            name  \\\n",
       "0                   11                  5   Poole Matthew   \n",
       "1                    1                  3    Santos Carla   \n",
       "2                    3                  4   Helms Mikayla   \n",
       "3                    3                  2     Araujo Josй   \n",
       "4                   11                  7  Pinto Giovanna   \n",
       "\n",
       "                           email creation_source last_session_creation_time  \\\n",
       "0         MatthewPoole@gustr.com      ORG_INVITE     2014-03-30 20:45:04-07   \n",
       "1  CarlaFerreiraSantos@gustr.com      ORG_INVITE     2014-06-03 15:08:03-07   \n",
       "2             lqyvjilf@uhzdq.com          SIGNUP     2014-05-29 04:46:38-07   \n",
       "3     JoseMartinsAraujo@cuvox.de    GUEST_INVITE     2014-05-30 23:29:09-07   \n",
       "4    GiovannaCunhaPinto@cuvox.de          SIGNUP     2014-05-25 12:05:07-07   \n",
       "\n",
       "   last_session_creation_time_year  last_session_creation_time_month  \\\n",
       "0                           2014.0                               3.0   \n",
       "1                           2014.0                               6.0   \n",
       "2                           2014.0                               5.0   \n",
       "3                           2014.0                               5.0   \n",
       "4                           2014.0                               5.0   \n",
       "\n",
       "   last_session_creation_time_dow  opted_in_to_mailing_list  \\\n",
       "0                             7.0                         0   \n",
       "1                             2.0                         1   \n",
       "2                             4.0                         0   \n",
       "3                             5.0                         0   \n",
       "4                             7.0                         1   \n",
       "\n",
       "   enabled_for_marketing_drip  org_id  invited_by_user_id  adopted  \n",
       "0                           0       1               316.0        1  \n",
       "1                           1     318              4143.0        1  \n",
       "2                           0      58                 NaN        1  \n",
       "3                           0     401                79.0        1  \n",
       "4                           0     235                 NaN        1  "
      ]
     },
     "execution_count": 5,
     "metadata": {},
     "output_type": "execute_result"
    }
   ],
   "source": [
    "users = pd.read_csv('/kaggle/input/adopted-users3/adopted_users.csv')\n",
    "users.head()"
   ]
  },
  {
   "cell_type": "markdown",
   "id": "44ac3177",
   "metadata": {
    "papermill": {
     "duration": 0.007718,
     "end_time": "2023-02-21T04:55:06.253928",
     "exception": false,
     "start_time": "2023-02-21T04:55:06.246210",
     "status": "completed"
    },
    "tags": []
   },
   "source": [
    "To answer the question: which factors predict future user adoption we can look at the data provided **and think about other data that we can gather that would help see common customer actions leading to adoption.**\n",
    "\n",
    "Look at common engagement metrics for SaaS company.\n",
    "* From this dataset:\n",
    "1. Stickiness\n",
    "1. Virality\n",
    "1. how they got to platform\n",
    "1. adopted come from same org/marketing drip?\n",
    "\n",
    "Outside of this dataset:\n",
    "1. what are they doing in Asana app\n",
    "1. measuring lingering time and giving threshold on what is good/bad lingering time\n",
    "1. specific features being used more vs others\n",
    "1. feature they only use/feature they never use?\n",
    "1. did they return on their own or via a push notification/email\n"
   ]
  },
  {
   "cell_type": "markdown",
   "id": "1234b4b7",
   "metadata": {
    "execution": {
     "iopub.execute_input": "2023-02-20T05:11:17.763398Z",
     "iopub.status.busy": "2023-02-20T05:11:17.762362Z",
     "iopub.status.idle": "2023-02-20T05:11:17.770733Z",
     "shell.execute_reply": "2023-02-20T05:11:17.769694Z",
     "shell.execute_reply.started": "2023-02-20T05:11:17.763332Z"
    },
    "papermill": {
     "duration": 0.007491,
     "end_time": "2023-02-21T04:55:06.269198",
     "exception": false,
     "start_time": "2023-02-21T04:55:06.261707",
     "status": "completed"
    },
    "tags": []
   },
   "source": [
    "# Exploratory Data Analysis "
   ]
  },
  {
   "cell_type": "code",
   "execution_count": 6,
   "id": "772ffd57",
   "metadata": {
    "execution": {
     "iopub.execute_input": "2023-02-21T04:55:06.286198Z",
     "iopub.status.busy": "2023-02-21T04:55:06.285825Z",
     "iopub.status.idle": "2023-02-21T04:55:06.301203Z",
     "shell.execute_reply": "2023-02-21T04:55:06.299809Z"
    },
    "papermill": {
     "duration": 0.026465,
     "end_time": "2023-02-21T04:55:06.303316",
     "exception": false,
     "start_time": "2023-02-21T04:55:06.276851",
     "status": "completed"
    },
    "tags": []
   },
   "outputs": [
    {
     "data": {
      "text/plain": [
       "0    10555\n",
       "1     1445\n",
       "Name: adopted, dtype: int64"
      ]
     },
     "execution_count": 6,
     "metadata": {},
     "output_type": "execute_result"
    }
   ],
   "source": [
    "users['adopted'].value_counts()"
   ]
  },
  {
   "cell_type": "code",
   "execution_count": 7,
   "id": "e2962aae",
   "metadata": {
    "execution": {
     "iopub.execute_input": "2023-02-21T04:55:06.322136Z",
     "iopub.status.busy": "2023-02-21T04:55:06.321766Z",
     "iopub.status.idle": "2023-02-21T04:55:06.767949Z",
     "shell.execute_reply": "2023-02-21T04:55:06.766715Z"
    },
    "papermill": {
     "duration": 0.458367,
     "end_time": "2023-02-21T04:55:06.770104",
     "exception": false,
     "start_time": "2023-02-21T04:55:06.311737",
     "status": "completed"
    },
    "tags": []
   },
   "outputs": [
    {
     "data": {
      "text/plain": [
       "<seaborn.axisgrid.FacetGrid at 0x7faefb471350>"
      ]
     },
     "execution_count": 7,
     "metadata": {},
     "output_type": "execute_result"
    },
    {
     "data": {
      "image/png": "[encoded data removed]",
      "text/plain": [
       "<Figure size 600x300 with 2 Axes>"
      ]
     },
     "metadata": {},
     "output_type": "display_data"
    }
   ],
   "source": [
    "g = sns.FacetGrid(users, col='adopted')\n",
    "g.map(plt.hist, 'creation_time_year', bins=20)"
   ]
  },
  {
   "cell_type": "code",
   "execution_count": 8,
   "id": "004c93a3",
   "metadata": {
    "execution": {
     "iopub.execute_input": "2023-02-21T04:55:06.788926Z",
     "iopub.status.busy": "2023-02-21T04:55:06.788499Z",
     "iopub.status.idle": "2023-02-21T04:55:07.205554Z",
     "shell.execute_reply": "2023-02-21T04:55:07.203893Z"
    },
    "papermill": {
     "duration": 0.429893,
     "end_time": "2023-02-21T04:55:07.208274",
     "exception": false,
     "start_time": "2023-02-21T04:55:06.778381",
     "status": "completed"
    },
    "tags": []
   },
   "outputs": [
    {
     "data": {
      "text/plain": [
       "<seaborn.axisgrid.FacetGrid at 0x7faefba9e990>"
      ]
     },
     "execution_count": 8,
     "metadata": {},
     "output_type": "execute_result"
    },
    {
     "data": {
      "image/png": "[encoded data removed]",
      "text/plain": [
       "<Figure size 600x300 with 2 Axes>"
      ]
     },
     "metadata": {},
     "output_type": "display_data"
    }
   ],
   "source": [
    "g = sns.FacetGrid(users, col='adopted')\n",
    "g.map(plt.hist, 'creation_time_month', bins=20)"
   ]
  },
  {
   "cell_type": "code",
   "execution_count": 9,
   "id": "f48feca6",
   "metadata": {
    "execution": {
     "iopub.execute_input": "2023-02-21T04:55:07.227575Z",
     "iopub.status.busy": "2023-02-21T04:55:07.227199Z",
     "iopub.status.idle": "2023-02-21T04:55:07.618173Z",
     "shell.execute_reply": "2023-02-21T04:55:07.616797Z"
    },
    "papermill": {
     "duration": 0.404402,
     "end_time": "2023-02-21T04:55:07.621493",
     "exception": false,
     "start_time": "2023-02-21T04:55:07.217091",
     "status": "completed"
    },
    "tags": []
   },
   "outputs": [
    {
     "data": {
      "text/plain": [
       "<seaborn.axisgrid.FacetGrid at 0x7faefb8c3f10>"
      ]
     },
     "execution_count": 9,
     "metadata": {},
     "output_type": "execute_result"
    },
    {
     "data": {
      "image/png": "[encoded data removed]",
      "text/plain": [
       "<Figure size 600x300 with 2 Axes>"
      ]
     },
     "metadata": {},
     "output_type": "display_data"
    }
   ],
   "source": [
    "g = sns.FacetGrid(users, col='adopted')\n",
    "g.map(plt.hist, 'creation_time_dow', bins=20)"
   ]
  },
  {
   "cell_type": "markdown",
   "id": "4f82bfe4",
   "metadata": {
    "papermill": {
     "duration": 0.008744,
     "end_time": "2023-02-21T04:55:07.639388",
     "exception": false,
     "start_time": "2023-02-21T04:55:07.630644",
     "status": "completed"
    },
    "tags": []
   },
   "source": [
    "Nothing too interesting setting adopted apart from non-adopted besides non-adopted spiking in May."
   ]
  },
  {
   "cell_type": "code",
   "execution_count": 10,
   "id": "a3d557e1",
   "metadata": {
    "execution": {
     "iopub.execute_input": "2023-02-21T04:55:07.659741Z",
     "iopub.status.busy": "2023-02-21T04:55:07.658518Z",
     "iopub.status.idle": "2023-02-21T04:55:07.673643Z",
     "shell.execute_reply": "2023-02-21T04:55:07.671958Z"
    },
    "papermill": {
     "duration": 0.028493,
     "end_time": "2023-02-21T04:55:07.676756",
     "exception": false,
     "start_time": "2023-02-21T04:55:07.648263",
     "status": "completed"
    },
    "tags": []
   },
   "outputs": [
    {
     "data": {
      "text/plain": [
       "adopted  creation_source   \n",
       "0        GUEST_INVITE          1837\n",
       "         ORG_INVITE            3763\n",
       "         PERSONAL_PROJECTS     1964\n",
       "         SIGNUP                1812\n",
       "         SIGNUP_GOOGLE_AUTH    1179\n",
       "1        GUEST_INVITE           326\n",
       "         ORG_INVITE             491\n",
       "         PERSONAL_PROJECTS      147\n",
       "         SIGNUP                 275\n",
       "         SIGNUP_GOOGLE_AUTH     206\n",
       "dtype: int64"
      ]
     },
     "execution_count": 10,
     "metadata": {},
     "output_type": "execute_result"
    }
   ],
   "source": [
    "users.groupby(['adopted', 'creation_source']).size()"
   ]
  },
  {
   "cell_type": "markdown",
   "id": "cdea5ee1",
   "metadata": {
    "papermill": {
     "duration": 0.010082,
     "end_time": "2023-02-21T04:55:07.696151",
     "exception": false,
     "start_time": "2023-02-21T04:55:07.686069",
     "status": "completed"
    },
    "tags": []
   },
   "source": [
    "Looks like most adopted came from invites. "
   ]
  },
  {
   "cell_type": "markdown",
   "id": "28587d25",
   "metadata": {
    "papermill": {
     "duration": 0.008906,
     "end_time": "2023-02-21T04:55:07.714262",
     "exception": false,
     "start_time": "2023-02-21T04:55:07.705356",
     "status": "completed"
    },
    "tags": []
   },
   "source": [
    "_______________________________"
   ]
  },
  {
   "cell_type": "markdown",
   "id": "93a86c9f",
   "metadata": {
    "papermill": {
     "duration": 0.009,
     "end_time": "2023-02-21T04:55:07.732425",
     "exception": false,
     "start_time": "2023-02-21T04:55:07.723425",
     "status": "completed"
    },
    "tags": []
   },
   "source": [
    "# Describing Data"
   ]
  },
  {
   "cell_type": "code",
   "execution_count": 11,
   "id": "178f10f6",
   "metadata": {
    "execution": {
     "iopub.execute_input": "2023-02-21T04:55:07.753638Z",
     "iopub.status.busy": "2023-02-21T04:55:07.753227Z",
     "iopub.status.idle": "2023-02-21T04:55:07.775473Z",
     "shell.execute_reply": "2023-02-21T04:55:07.773820Z"
    },
    "papermill": {
     "duration": 0.035786,
     "end_time": "2023-02-21T04:55:07.778384",
     "exception": false,
     "start_time": "2023-02-21T04:55:07.742598",
     "status": "completed"
    },
    "tags": []
   },
   "outputs": [
    {
     "name": "stdout",
     "output_type": "stream",
     "text": [
      "<class 'pandas.core.frame.DataFrame'>\n",
      "RangeIndex: 12000 entries, 0 to 11999\n",
      "Data columns (total 18 columns):\n",
      " #   Column                            Non-Null Count  Dtype  \n",
      "---  ------                            --------------  -----  \n",
      " 0   user_id                           1445 non-null   float64\n",
      " 1   creation_time                     12000 non-null  object \n",
      " 2   creation_time_date                12000 non-null  object \n",
      " 3   creation_time_year                12000 non-null  int64  \n",
      " 4   creation_time_month               12000 non-null  int64  \n",
      " 5   creation_time_dow                 12000 non-null  int64  \n",
      " 6   name                              12000 non-null  object \n",
      " 7   email                             12000 non-null  object \n",
      " 8   creation_source                   12000 non-null  object \n",
      " 9   last_session_creation_time        8823 non-null   object \n",
      " 10  last_session_creation_time_year   8823 non-null   float64\n",
      " 11  last_session_creation_time_month  8823 non-null   float64\n",
      " 12  last_session_creation_time_dow    8823 non-null   float64\n",
      " 13  opted_in_to_mailing_list          12000 non-null  int64  \n",
      " 14  enabled_for_marketing_drip        12000 non-null  int64  \n",
      " 15  org_id                            12000 non-null  int64  \n",
      " 16  invited_by_user_id                6417 non-null   float64\n",
      " 17  adopted                           12000 non-null  int64  \n",
      "dtypes: float64(5), int64(7), object(6)\n",
      "memory usage: 1.6+ MB\n"
     ]
    }
   ],
   "source": [
    "#On top of referring to data dictionary from above, we can start with describing data with:\n",
    "users.info()"
   ]
  },
  {
   "cell_type": "markdown",
   "id": "771cff41",
   "metadata": {
    "papermill": {
     "duration": 0.008846,
     "end_time": "2023-02-21T04:55:07.796391",
     "exception": false,
     "start_time": "2023-02-21T04:55:07.787545",
     "status": "completed"
    },
    "tags": []
   },
   "source": [
    "**Which features are categorical?\n",
    "These values classify the samples into sets of similar samples.\n",
    "Within categorical features are:**\n",
    "\n",
    "1. nominal\n",
    "1. ordinal\n",
    "1. ratio\n",
    "1. interval-based\n",
    "\n",
    "Defining this also helps us determining which plots to use to visualize data.\n",
    "\n",
    "* So for this dataset, the categorical are: adopted, creation_source, opted_in_to_mailing_list, enabled_for_marketing_drip, org_id**"
   ]
  },
  {
   "cell_type": "markdown",
   "id": "34ad3d29",
   "metadata": {
    "papermill": {
     "duration": 0.008831,
     "end_time": "2023-02-21T04:55:07.814311",
     "exception": false,
     "start_time": "2023-02-21T04:55:07.805480",
     "status": "completed"
    },
    "tags": []
   },
   "source": [
    "\n",
    "** Which features are numerical? These values change from sample to sample. Within numerical features are: **\n",
    "1. discrete\n",
    "1. continuous\n",
    "1. timeseries based\n",
    "\n",
    "Defining these also help us choose the apporpriate plots for visualization.\n",
    "\n",
    "* For this dataset, the continuous variables are: creation_time and its derivatives, last_session_creation_time"
   ]
  },
  {
   "cell_type": "markdown",
   "id": "0069b54b",
   "metadata": {
    "execution": {
     "iopub.execute_input": "2023-02-21T03:50:28.269966Z",
     "iopub.status.busy": "2023-02-21T03:50:28.269206Z",
     "iopub.status.idle": "2023-02-21T03:50:28.275643Z",
     "shell.execute_reply": "2023-02-21T03:50:28.274568Z",
     "shell.execute_reply.started": "2023-02-21T03:50:28.269939Z"
    },
    "papermill": {
     "duration": 0.008901,
     "end_time": "2023-02-21T04:55:07.832868",
     "exception": false,
     "start_time": "2023-02-21T04:55:07.823967",
     "status": "completed"
    },
    "tags": []
   },
   "source": [
    "**Which features are mixed data types?**\n",
    "\n",
    "These features are numerical, alphanumeric data within the same feature. These would be candidates for correcting data stage.\n",
    "\n",
    "* We luckily don't have any of these in our sample dataset."
   ]
  },
  {
   "cell_type": "markdown",
   "id": "46afd547",
   "metadata": {
    "papermill": {
     "duration": 0.008958,
     "end_time": "2023-02-21T04:55:07.850960",
     "exception": false,
     "start_time": "2023-02-21T04:55:07.842002",
     "status": "completed"
    },
    "tags": []
   },
   "source": [
    "**Which features may contain errors or typos?**\n",
    "\n",
    "This sort of data would have inconsistent patterns in data such as a name column with titles, punctuation where it is not supposed to be, quotes for aliases, etc.\n",
    "\n",
    "* Fortunately, this dataset does not have any of those sort of features.\n"
   ]
  },
  {
   "cell_type": "markdown",
   "id": "721632b7",
   "metadata": {
    "papermill": {
     "duration": 0.009058,
     "end_time": "2023-02-21T04:55:07.869200",
     "exception": false,
     "start_time": "2023-02-21T04:55:07.860142",
     "status": "completed"
    },
    "tags": []
   },
   "source": [
    "**Which features would contain blank, null or empty?**\n",
    "\n",
    "These would require correcting."
   ]
  },
  {
   "cell_type": "code",
   "execution_count": 12,
   "id": "b9b9a8b2",
   "metadata": {
    "execution": {
     "iopub.execute_input": "2023-02-21T04:55:07.889164Z",
     "iopub.status.busy": "2023-02-21T04:55:07.888779Z",
     "iopub.status.idle": "2023-02-21T04:55:07.903330Z",
     "shell.execute_reply": "2023-02-21T04:55:07.901776Z"
    },
    "papermill": {
     "duration": 0.027591,
     "end_time": "2023-02-21T04:55:07.905877",
     "exception": false,
     "start_time": "2023-02-21T04:55:07.878286",
     "status": "completed"
    },
    "tags": []
   },
   "outputs": [
    {
     "data": {
      "text/plain": [
       "user_id                             10555\n",
       "creation_time                           0\n",
       "creation_time_date                      0\n",
       "creation_time_year                      0\n",
       "creation_time_month                     0\n",
       "creation_time_dow                       0\n",
       "name                                    0\n",
       "email                                   0\n",
       "creation_source                         0\n",
       "last_session_creation_time           3177\n",
       "last_session_creation_time_year      3177\n",
       "last_session_creation_time_month     3177\n",
       "last_session_creation_time_dow       3177\n",
       "opted_in_to_mailing_list                0\n",
       "enabled_for_marketing_drip              0\n",
       "org_id                                  0\n",
       "invited_by_user_id                   5583\n",
       "adopted                                 0\n",
       "dtype: int64"
      ]
     },
     "execution_count": 12,
     "metadata": {},
     "output_type": "execute_result"
    }
   ],
   "source": [
    "users.isnull().sum()"
   ]
  },
  {
   "cell_type": "markdown",
   "id": "6e07411b",
   "metadata": {
    "papermill": {
     "duration": 0.008947,
     "end_time": "2023-02-21T04:55:07.925087",
     "exception": false,
     "start_time": "2023-02-21T04:55:07.916140",
     "status": "completed"
    },
    "tags": []
   },
   "source": [
    "last_session_creation_time (and its derviatives) and invited_by_user_id have NULL values."
   ]
  },
  {
   "cell_type": "markdown",
   "id": "755f1aeb",
   "metadata": {
    "execution": {
     "iopub.execute_input": "2023-02-21T04:18:10.742538Z",
     "iopub.status.busy": "2023-02-21T04:18:10.742191Z",
     "iopub.status.idle": "2023-02-21T04:18:10.748822Z",
     "shell.execute_reply": "2023-02-21T04:18:10.747571Z",
     "shell.execute_reply.started": "2023-02-21T04:18:10.742514Z"
    },
    "papermill": {
     "duration": 0.008902,
     "end_time": "2023-02-21T04:55:07.943011",
     "exception": false,
     "start_time": "2023-02-21T04:55:07.934109",
     "status": "completed"
    },
    "tags": []
   },
   "source": [
    "**Data types for various features:**"
   ]
  },
  {
   "cell_type": "code",
   "execution_count": 13,
   "id": "f2e0704c",
   "metadata": {
    "execution": {
     "iopub.execute_input": "2023-02-21T04:55:07.963280Z",
     "iopub.status.busy": "2023-02-21T04:55:07.962893Z",
     "iopub.status.idle": "2023-02-21T04:55:07.981298Z",
     "shell.execute_reply": "2023-02-21T04:55:07.979548Z"
    },
    "papermill": {
     "duration": 0.031423,
     "end_time": "2023-02-21T04:55:07.983525",
     "exception": false,
     "start_time": "2023-02-21T04:55:07.952102",
     "status": "completed"
    },
    "tags": []
   },
   "outputs": [
    {
     "name": "stdout",
     "output_type": "stream",
     "text": [
      "<class 'pandas.core.frame.DataFrame'>\n",
      "RangeIndex: 12000 entries, 0 to 11999\n",
      "Data columns (total 18 columns):\n",
      " #   Column                            Non-Null Count  Dtype  \n",
      "---  ------                            --------------  -----  \n",
      " 0   user_id                           1445 non-null   float64\n",
      " 1   creation_time                     12000 non-null  object \n",
      " 2   creation_time_date                12000 non-null  object \n",
      " 3   creation_time_year                12000 non-null  int64  \n",
      " 4   creation_time_month               12000 non-null  int64  \n",
      " 5   creation_time_dow                 12000 non-null  int64  \n",
      " 6   name                              12000 non-null  object \n",
      " 7   email                             12000 non-null  object \n",
      " 8   creation_source                   12000 non-null  object \n",
      " 9   last_session_creation_time        8823 non-null   object \n",
      " 10  last_session_creation_time_year   8823 non-null   float64\n",
      " 11  last_session_creation_time_month  8823 non-null   float64\n",
      " 12  last_session_creation_time_dow    8823 non-null   float64\n",
      " 13  opted_in_to_mailing_list          12000 non-null  int64  \n",
      " 14  enabled_for_marketing_drip        12000 non-null  int64  \n",
      " 15  org_id                            12000 non-null  int64  \n",
      " 16  invited_by_user_id                6417 non-null   float64\n",
      " 17  adopted                           12000 non-null  int64  \n",
      "dtypes: float64(5), int64(7), object(6)\n",
      "memory usage: 1.6+ MB\n"
     ]
    }
   ],
   "source": [
    "users.info()"
   ]
  },
  {
   "cell_type": "markdown",
   "id": "0094c57d",
   "metadata": {
    "papermill": {
     "duration": 0.00928,
     "end_time": "2023-02-21T04:55:08.002226",
     "exception": false,
     "start_time": "2023-02-21T04:55:07.992946",
     "status": "completed"
    },
    "tags": []
   },
   "source": [
    "**Distribution of numerical features values across samples.**\n",
    "\n",
    "This helps us determine how representative the sample dataset is of the actual problem domain (assuming there is already some domain expertise. maybe some common sense can help with comparison)."
   ]
  },
  {
   "cell_type": "code",
   "execution_count": 14,
   "id": "b7a6d9cf",
   "metadata": {
    "execution": {
     "iopub.execute_input": "2023-02-21T04:55:08.024002Z",
     "iopub.status.busy": "2023-02-21T04:55:08.023600Z",
     "iopub.status.idle": "2023-02-21T04:55:08.077955Z",
     "shell.execute_reply": "2023-02-21T04:55:08.076031Z"
    },
    "papermill": {
     "duration": 0.067931,
     "end_time": "2023-02-21T04:55:08.080482",
     "exception": false,
     "start_time": "2023-02-21T04:55:08.012551",
     "status": "completed"
    },
    "tags": []
   },
   "outputs": [
    {
     "data": {
      "text/html": [
       "<div>\n",
       "<style scoped>\n",
       "    .dataframe tbody tr th:only-of-type {\n",
       "        vertical-align: middle;\n",
       "    }\n",
       "\n",
       "    .dataframe tbody tr th {\n",
       "        vertical-align: top;\n",
       "    }\n",
       "\n",
       "    .dataframe thead th {\n",
       "        text-align: right;\n",
       "    }\n",
       "</style>\n",
       "<table border=\"1\" class=\"dataframe\">\n",
       "  <thead>\n",
       "    <tr style=\"text-align: right;\">\n",
       "      <th></th>\n",
       "      <th>user_id</th>\n",
       "      <th>creation_time_year</th>\n",
       "      <th>creation_time_month</th>\n",
       "      <th>creation_time_dow</th>\n",
       "      <th>last_session_creation_time_year</th>\n",
       "      <th>last_session_creation_time_month</th>\n",
       "      <th>last_session_creation_time_dow</th>\n",
       "      <th>opted_in_to_mailing_list</th>\n",
       "      <th>enabled_for_marketing_drip</th>\n",
       "      <th>org_id</th>\n",
       "      <th>invited_by_user_id</th>\n",
       "      <th>adopted</th>\n",
       "    </tr>\n",
       "  </thead>\n",
       "  <tbody>\n",
       "    <tr>\n",
       "      <th>count</th>\n",
       "      <td>1445.000000</td>\n",
       "      <td>12000.000000</td>\n",
       "      <td>12000.000000</td>\n",
       "      <td>12000.000000</td>\n",
       "      <td>8823.000000</td>\n",
       "      <td>8823.000000</td>\n",
       "      <td>8823.000000</td>\n",
       "      <td>12000.000000</td>\n",
       "      <td>12000.000000</td>\n",
       "      <td>12000.000000</td>\n",
       "      <td>6417.000000</td>\n",
       "      <td>12000.000000</td>\n",
       "    </tr>\n",
       "    <tr>\n",
       "      <th>mean</th>\n",
       "      <td>6070.540484</td>\n",
       "      <td>2013.060833</td>\n",
       "      <td>6.250833</td>\n",
       "      <td>3.998167</td>\n",
       "      <td>2013.243001</td>\n",
       "      <td>6.081945</td>\n",
       "      <td>3.925309</td>\n",
       "      <td>0.249500</td>\n",
       "      <td>0.149333</td>\n",
       "      <td>141.884583</td>\n",
       "      <td>5962.957145</td>\n",
       "      <td>0.120417</td>\n",
       "    </tr>\n",
       "    <tr>\n",
       "      <th>std</th>\n",
       "      <td>3495.859365</td>\n",
       "      <td>0.723424</td>\n",
       "      <td>3.423968</td>\n",
       "      <td>1.981243</td>\n",
       "      <td>0.737090</td>\n",
       "      <td>3.143723</td>\n",
       "      <td>1.982975</td>\n",
       "      <td>0.432742</td>\n",
       "      <td>0.356432</td>\n",
       "      <td>124.056723</td>\n",
       "      <td>3383.761968</td>\n",
       "      <td>0.325462</td>\n",
       "    </tr>\n",
       "    <tr>\n",
       "      <th>min</th>\n",
       "      <td>2.000000</td>\n",
       "      <td>2012.000000</td>\n",
       "      <td>1.000000</td>\n",
       "      <td>1.000000</td>\n",
       "      <td>2012.000000</td>\n",
       "      <td>1.000000</td>\n",
       "      <td>1.000000</td>\n",
       "      <td>0.000000</td>\n",
       "      <td>0.000000</td>\n",
       "      <td>0.000000</td>\n",
       "      <td>3.000000</td>\n",
       "      <td>0.000000</td>\n",
       "    </tr>\n",
       "    <tr>\n",
       "      <th>25%</th>\n",
       "      <td>3066.000000</td>\n",
       "      <td>2013.000000</td>\n",
       "      <td>3.000000</td>\n",
       "      <td>2.000000</td>\n",
       "      <td>2013.000000</td>\n",
       "      <td>4.000000</td>\n",
       "      <td>2.000000</td>\n",
       "      <td>0.000000</td>\n",
       "      <td>0.000000</td>\n",
       "      <td>29.000000</td>\n",
       "      <td>3058.000000</td>\n",
       "      <td>0.000000</td>\n",
       "    </tr>\n",
       "    <tr>\n",
       "      <th>50%</th>\n",
       "      <td>6096.000000</td>\n",
       "      <td>2013.000000</td>\n",
       "      <td>6.000000</td>\n",
       "      <td>4.000000</td>\n",
       "      <td>2013.000000</td>\n",
       "      <td>5.000000</td>\n",
       "      <td>4.000000</td>\n",
       "      <td>0.000000</td>\n",
       "      <td>0.000000</td>\n",
       "      <td>108.000000</td>\n",
       "      <td>5954.000000</td>\n",
       "      <td>0.000000</td>\n",
       "    </tr>\n",
       "    <tr>\n",
       "      <th>75%</th>\n",
       "      <td>9195.000000</td>\n",
       "      <td>2014.000000</td>\n",
       "      <td>9.000000</td>\n",
       "      <td>6.000000</td>\n",
       "      <td>2014.000000</td>\n",
       "      <td>9.000000</td>\n",
       "      <td>6.000000</td>\n",
       "      <td>0.000000</td>\n",
       "      <td>0.000000</td>\n",
       "      <td>238.250000</td>\n",
       "      <td>8817.000000</td>\n",
       "      <td>0.000000</td>\n",
       "    </tr>\n",
       "    <tr>\n",
       "      <th>max</th>\n",
       "      <td>11988.000000</td>\n",
       "      <td>2014.000000</td>\n",
       "      <td>12.000000</td>\n",
       "      <td>7.000000</td>\n",
       "      <td>2014.000000</td>\n",
       "      <td>12.000000</td>\n",
       "      <td>7.000000</td>\n",
       "      <td>1.000000</td>\n",
       "      <td>1.000000</td>\n",
       "      <td>416.000000</td>\n",
       "      <td>11999.000000</td>\n",
       "      <td>1.000000</td>\n",
       "    </tr>\n",
       "  </tbody>\n",
       "</table>\n",
       "</div>"
      ],
      "text/plain": [
       "            user_id  creation_time_year  creation_time_month  \\\n",
       "count   1445.000000        12000.000000         12000.000000   \n",
       "mean    6070.540484         2013.060833             6.250833   \n",
       "std     3495.859365            0.723424             3.423968   \n",
       "min        2.000000         2012.000000             1.000000   \n",
       "25%     3066.000000         2013.000000             3.000000   \n",
       "50%     6096.000000         2013.000000             6.000000   \n",
       "75%     9195.000000         2014.000000             9.000000   \n",
       "max    11988.000000         2014.000000            12.000000   \n",
       "\n",
       "       creation_time_dow  last_session_creation_time_year  \\\n",
       "count       12000.000000                      8823.000000   \n",
       "mean            3.998167                      2013.243001   \n",
       "std             1.981243                         0.737090   \n",
       "min             1.000000                      2012.000000   \n",
       "25%             2.000000                      2013.000000   \n",
       "50%             4.000000                      2013.000000   \n",
       "75%             6.000000                      2014.000000   \n",
       "max             7.000000                      2014.000000   \n",
       "\n",
       "       last_session_creation_time_month  last_session_creation_time_dow  \\\n",
       "count                       8823.000000                     8823.000000   \n",
       "mean                           6.081945                        3.925309   \n",
       "std                            3.143723                        1.982975   \n",
       "min                            1.000000                        1.000000   \n",
       "25%                            4.000000                        2.000000   \n",
       "50%                            5.000000                        4.000000   \n",
       "75%                            9.000000                        6.000000   \n",
       "max                           12.000000                        7.000000   \n",
       "\n",
       "       opted_in_to_mailing_list  enabled_for_marketing_drip        org_id  \\\n",
       "count              12000.000000                12000.000000  12000.000000   \n",
       "mean                   0.249500                    0.149333    141.884583   \n",
       "std                    0.432742                    0.356432    124.056723   \n",
       "min                    0.000000                    0.000000      0.000000   \n",
       "25%                    0.000000                    0.000000     29.000000   \n",
       "50%                    0.000000                    0.000000    108.000000   \n",
       "75%                    0.000000                    0.000000    238.250000   \n",
       "max                    1.000000                    1.000000    416.000000   \n",
       "\n",
       "       invited_by_user_id       adopted  \n",
       "count         6417.000000  12000.000000  \n",
       "mean          5962.957145      0.120417  \n",
       "std           3383.761968      0.325462  \n",
       "min              3.000000      0.000000  \n",
       "25%           3058.000000      0.000000  \n",
       "50%           5954.000000      0.000000  \n",
       "75%           8817.000000      0.000000  \n",
       "max          11999.000000      1.000000  "
      ]
     },
     "execution_count": 14,
     "metadata": {},
     "output_type": "execute_result"
    }
   ],
   "source": [
    "users[['user_id', 'creation_time_year', 'creation_time_month', 'creation_time_dow', 'last_session_creation_time_year', 'last_session_creation_time_month', 'last_session_creation_time_dow', 'opted_in_to_mailing_list', 'enabled_for_marketing_drip', 'org_id', 'invited_by_user_id', 'adopted']].describe()"
   ]
  },
  {
   "cell_type": "markdown",
   "id": "eb4e143c",
   "metadata": {
    "papermill": {
     "duration": 0.009442,
     "end_time": "2023-02-21T04:55:08.099668",
     "exception": false,
     "start_time": "2023-02-21T04:55:08.090226",
     "status": "completed"
    },
    "tags": []
   },
   "source": [
    "* Total samples: 12000\n",
    "* adopted is a categorical feature with 0 / 1 values\n",
    "* Approximately 12% adopted\n",
    "* Average 24% of sample size have opted into mailing list\n",
    "* Average 14% allowed marketing to contact them"
   ]
  },
  {
   "cell_type": "markdown",
   "id": "cdee5662",
   "metadata": {
    "papermill": {
     "duration": 0.009814,
     "end_time": "2023-02-21T04:55:08.119449",
     "exception": false,
     "start_time": "2023-02-21T04:55:08.109635",
     "status": "completed"
    },
    "tags": []
   },
   "source": [
    "**What is the distribution of categorical features?**"
   ]
  },
  {
   "cell_type": "code",
   "execution_count": 15,
   "id": "b30a12a1",
   "metadata": {
    "execution": {
     "iopub.execute_input": "2023-02-21T04:55:08.141066Z",
     "iopub.status.busy": "2023-02-21T04:55:08.140676Z",
     "iopub.status.idle": "2023-02-21T04:55:08.179711Z",
     "shell.execute_reply": "2023-02-21T04:55:08.178696Z"
    },
    "papermill": {
     "duration": 0.052603,
     "end_time": "2023-02-21T04:55:08.181863",
     "exception": false,
     "start_time": "2023-02-21T04:55:08.129260",
     "status": "completed"
    },
    "tags": []
   },
   "outputs": [
    {
     "data": {
      "text/html": [
       "<div>\n",
       "<style scoped>\n",
       "    .dataframe tbody tr th:only-of-type {\n",
       "        vertical-align: middle;\n",
       "    }\n",
       "\n",
       "    .dataframe tbody tr th {\n",
       "        vertical-align: top;\n",
       "    }\n",
       "\n",
       "    .dataframe thead th {\n",
       "        text-align: right;\n",
       "    }\n",
       "</style>\n",
       "<table border=\"1\" class=\"dataframe\">\n",
       "  <thead>\n",
       "    <tr style=\"text-align: right;\">\n",
       "      <th></th>\n",
       "      <th>creation_time</th>\n",
       "      <th>creation_time_date</th>\n",
       "      <th>name</th>\n",
       "      <th>email</th>\n",
       "      <th>creation_source</th>\n",
       "      <th>last_session_creation_time</th>\n",
       "    </tr>\n",
       "  </thead>\n",
       "  <tbody>\n",
       "    <tr>\n",
       "      <th>count</th>\n",
       "      <td>12000</td>\n",
       "      <td>12000</td>\n",
       "      <td>12000</td>\n",
       "      <td>12000</td>\n",
       "      <td>12000</td>\n",
       "      <td>8823</td>\n",
       "    </tr>\n",
       "    <tr>\n",
       "      <th>unique</th>\n",
       "      <td>11996</td>\n",
       "      <td>730</td>\n",
       "      <td>11355</td>\n",
       "      <td>11980</td>\n",
       "      <td>5</td>\n",
       "      <td>8821</td>\n",
       "    </tr>\n",
       "    <tr>\n",
       "      <th>top</th>\n",
       "      <td>2012-09-14 21:35:03</td>\n",
       "      <td>2014-05-30</td>\n",
       "      <td>Cavalcanti Victor</td>\n",
       "      <td>AlfieLane@yahoo.com</td>\n",
       "      <td>ORG_INVITE</td>\n",
       "      <td>2014-06-04 00:46:58-07</td>\n",
       "    </tr>\n",
       "    <tr>\n",
       "      <th>freq</th>\n",
       "      <td>2</td>\n",
       "      <td>71</td>\n",
       "      <td>5</td>\n",
       "      <td>2</td>\n",
       "      <td>4254</td>\n",
       "      <td>2</td>\n",
       "    </tr>\n",
       "  </tbody>\n",
       "</table>\n",
       "</div>"
      ],
      "text/plain": [
       "              creation_time creation_time_date               name  \\\n",
       "count                 12000              12000              12000   \n",
       "unique                11996                730              11355   \n",
       "top     2012-09-14 21:35:03         2014-05-30  Cavalcanti Victor   \n",
       "freq                      2                 71                  5   \n",
       "\n",
       "                      email creation_source last_session_creation_time  \n",
       "count                 12000           12000                       8823  \n",
       "unique                11980               5                       8821  \n",
       "top     AlfieLane@yahoo.com      ORG_INVITE     2014-06-04 00:46:58-07  \n",
       "freq                      2            4254                          2  "
      ]
     },
     "execution_count": 15,
     "metadata": {},
     "output_type": "execute_result"
    }
   ],
   "source": [
    "users.describe(include=['O'])"
   ]
  },
  {
   "cell_type": "code",
   "execution_count": null,
   "id": "9010e0d2",
   "metadata": {
    "papermill": {
     "duration": 0.01027,
     "end_time": "2023-02-21T04:55:08.202465",
     "exception": false,
     "start_time": "2023-02-21T04:55:08.192195",
     "status": "completed"
    },
    "tags": []
   },
   "outputs": [],
   "source": []
  }
 ],
 "metadata": {
  "kernelspec": {
   "display_name": "Python 3",
   "language": "python",
   "name": "python3"
  },
  "language_info": {
   "codemirror_mode": {
    "name": "ipython",
    "version": 3
   },
   "file_extension": ".py",
   "mimetype": "text/x-python",
   "name": "python",
   "nbconvert_exporter": "python",
   "pygments_lexer": "ipython3",
   "version": "3.7.12"
  },
  "papermill": {
   "default_parameters": {},
   "duration": 13.11729,
   "end_time": "2023-02-21T04:55:09.036789",
   "environment_variables": {},
   "exception": null,
   "input_path": "__notebook__.ipynb",
   "output_path": "__notebook__.ipynb",
   "parameters": {},
   "start_time": "2023-02-21T04:54:55.919499",
   "version": "2.3.4"
  }
 },
 "nbformat": 4,
 "nbformat_minor": 5
}
