{
 "cells": [
  {
   "cell_type": "code",
   "execution_count": 1,
   "id": "2b2c16fa",
   "metadata": {
    "_cell_guid": "b1076dfc-b9ad-4769-8c92-a6c4dae69d19",
    "_uuid": "8f2839f25d086af736a60e9eeb907d3b93b6e0e5",
    "execution": {
     "iopub.execute_input": "2023-02-21T20:40:56.698747Z",
     "iopub.status.busy": "2023-02-21T20:40:56.698261Z",
     "iopub.status.idle": "2023-02-21T20:40:57.750087Z",
     "shell.execute_reply": "2023-02-21T20:40:57.748755Z"
    },
    "papermill": {
     "duration": 1.069834,
     "end_time": "2023-02-21T20:40:57.753005",
     "exception": false,
     "start_time": "2023-02-21T20:40:56.683171",
     "status": "completed"
    },
    "tags": []
   },
   "outputs": [],
   "source": [
    "# data analysis and wrangling\n",
    "import pandas as pd\n",
    "import numpy as np\n",
    "import random as rnd\n",
    "\n",
    "# visualization\n",
    "import seaborn as sns\n",
    "import matplotlib.pyplot as plt\n",
    "%matplotlib inline"
   ]
  },
  {
   "cell_type": "markdown",
   "id": "3f928347",
   "metadata": {
    "papermill": {
     "duration": 0.011668,
     "end_time": "2023-02-21T20:40:57.779650",
     "exception": false,
     "start_time": "2023-02-21T20:40:57.767982",
     "status": "completed"
    },
    "tags": []
   },
   "source": [
    "Guidance from Sr. DS: https://www.kaggle.com/code/startupsci/titanic-data-science-solutions"
   ]
  },
  {
   "cell_type": "markdown",
   "id": "689d615b",
   "metadata": {
    "papermill": {
     "duration": 0.011417,
     "end_time": "2023-02-21T20:40:57.802820",
     "exception": false,
     "start_time": "2023-02-21T20:40:57.791403",
     "status": "completed"
    },
    "tags": []
   },
   "source": [
    "# Prompt: \n",
    "\n",
    "### Defining an \"adopted user\" as a user who has logged into the product on three separate days in at least one seven-day period, \n",
    "### identify which factors predict future user adoption."
   ]
  },
  {
   "cell_type": "markdown",
   "id": "ed64052e",
   "metadata": {
    "papermill": {
     "duration": 0.011359,
     "end_time": "2023-02-21T20:40:57.826302",
     "exception": false,
     "start_time": "2023-02-21T20:40:57.814943",
     "status": "completed"
    },
    "tags": []
   },
   "source": [
    "Strategy:\n",
    "\n",
    "1. Get the data\n",
    "2. First segment the adopted based on business definition\n",
    "3. Then use correlation matrix to see which features have best signal for adoption\n",
    "4. Make new features to get better signal for adoption?"
   ]
  },
  {
   "cell_type": "markdown",
   "id": "a44767f9",
   "metadata": {
    "execution": {
     "iopub.execute_input": "2023-02-19T01:58:06.863951Z",
     "iopub.status.busy": "2023-02-19T01:58:06.863529Z",
     "iopub.status.idle": "2023-02-19T01:58:06.870201Z",
     "shell.execute_reply": "2023-02-19T01:58:06.868066Z",
     "shell.execute_reply.started": "2023-02-19T01:58:06.863916Z"
    },
    "papermill": {
     "duration": 0.012066,
     "end_time": "2023-02-21T20:40:57.850142",
     "exception": false,
     "start_time": "2023-02-21T20:40:57.838076",
     "status": "completed"
    },
    "tags": []
   },
   "source": [
    "# Data\n",
    "\n",
    "## Dictionary:\n",
    "Users table with data on 12,000 users who signed up for the product in the last two years.  This table includes: \n",
    "* name: the user's name\n",
    "-object_id: the user's id\n",
    "-email: email address \n",
    "-creation_source: how their account was created. This takes on one of 5 values:\n",
    "\tPERSONAL_PROJECTS: invited to join another user's personal workspace\n",
    "\tGUEST_INVITE: invited to an organization as a guest (limited permissions)\n",
    "\tORG_INVITE: invited to an organization (as a full member)\n",
    "\tSIGNUP: signed up via asana.com\n",
    "\tSIGNUP_GOOGLE_AUTH: signed up using Google Authentication (using a Google email account for their login id)\n",
    "-creation_time: when they created their account\n",
    "-last_session_creation_time: unix timestamp of last login\n",
    "-opted_in_to_mailing_list: whether they have opted into receiving marketing emails\n",
    "-enabled_for_marketing_drip: whether they are on the regular marketing email drip\n",
    "-org_id: the organization (group of users) they belong to\n",
    "-invited_by_user_id: which user invited them to join (if applicable).\n",
    "\n",
    "A usage summary user engagement table that has a row for each day that a user logged into the product. "
   ]
  },
  {
   "cell_type": "code",
   "execution_count": 2,
   "id": "1b0c5c79",
   "metadata": {
    "execution": {
     "iopub.execute_input": "2023-02-21T20:40:57.876657Z",
     "iopub.status.busy": "2023-02-21T20:40:57.875811Z",
     "iopub.status.idle": "2023-02-21T20:40:58.414217Z",
     "shell.execute_reply": "2023-02-21T20:40:58.412917Z"
    },
    "papermill": {
     "duration": 0.554747,
     "end_time": "2023-02-21T20:40:58.417197",
     "exception": false,
     "start_time": "2023-02-21T20:40:57.862450",
     "status": "completed"
    },
    "tags": []
   },
   "outputs": [],
   "source": [
    "users = pd.read_csv('/kaggle/input/relax-datachallenge/takehome_users.csv', encoding='latin_1')\n",
    "user_engagement = pd.read_csv('/kaggle/input/relax-datachallenge/takehome_user_engagement.csv', encoding='latin_1')"
   ]
  },
  {
   "cell_type": "code",
   "execution_count": 3,
   "id": "16cc8fd7",
   "metadata": {
    "execution": {
     "iopub.execute_input": "2023-02-21T20:40:58.442668Z",
     "iopub.status.busy": "2023-02-21T20:40:58.442229Z",
     "iopub.status.idle": "2023-02-21T20:40:58.466677Z",
     "shell.execute_reply": "2023-02-21T20:40:58.465536Z"
    },
    "papermill": {
     "duration": 0.040984,
     "end_time": "2023-02-21T20:40:58.469910",
     "exception": false,
     "start_time": "2023-02-21T20:40:58.428926",
     "status": "completed"
    },
    "tags": []
   },
   "outputs": [
    {
     "data": {
      "text/html": [
       "<div>\n",
       "<style scoped>\n",
       "    .dataframe tbody tr th:only-of-type {\n",
       "        vertical-align: middle;\n",
       "    }\n",
       "\n",
       "    .dataframe tbody tr th {\n",
       "        vertical-align: top;\n",
       "    }\n",
       "\n",
       "    .dataframe thead th {\n",
       "        text-align: right;\n",
       "    }\n",
       "</style>\n",
       "<table border=\"1\" class=\"dataframe\">\n",
       "  <thead>\n",
       "    <tr style=\"text-align: right;\">\n",
       "      <th></th>\n",
       "      <th>object_id</th>\n",
       "      <th>creation_time</th>\n",
       "      <th>name</th>\n",
       "      <th>email</th>\n",
       "      <th>creation_source</th>\n",
       "      <th>last_session_creation_time</th>\n",
       "      <th>opted_in_to_mailing_list</th>\n",
       "      <th>enabled_for_marketing_drip</th>\n",
       "      <th>org_id</th>\n",
       "      <th>invited_by_user_id</th>\n",
       "    </tr>\n",
       "  </thead>\n",
       "  <tbody>\n",
       "    <tr>\n",
       "      <th>0</th>\n",
       "      <td>1</td>\n",
       "      <td>2014-04-22 03:53:30</td>\n",
       "      <td>Clausen August</td>\n",
       "      <td>AugustCClausen@yahoo.com</td>\n",
       "      <td>GUEST_INVITE</td>\n",
       "      <td>1.398139e+09</td>\n",
       "      <td>1</td>\n",
       "      <td>0</td>\n",
       "      <td>11</td>\n",
       "      <td>10803.0</td>\n",
       "    </tr>\n",
       "    <tr>\n",
       "      <th>1</th>\n",
       "      <td>2</td>\n",
       "      <td>2013-11-15 03:45:04</td>\n",
       "      <td>Poole Matthew</td>\n",
       "      <td>MatthewPoole@gustr.com</td>\n",
       "      <td>ORG_INVITE</td>\n",
       "      <td>1.396238e+09</td>\n",
       "      <td>0</td>\n",
       "      <td>0</td>\n",
       "      <td>1</td>\n",
       "      <td>316.0</td>\n",
       "    </tr>\n",
       "    <tr>\n",
       "      <th>2</th>\n",
       "      <td>3</td>\n",
       "      <td>2013-03-19 23:14:52</td>\n",
       "      <td>Bottrill Mitchell</td>\n",
       "      <td>MitchellBottrill@gustr.com</td>\n",
       "      <td>ORG_INVITE</td>\n",
       "      <td>1.363735e+09</td>\n",
       "      <td>0</td>\n",
       "      <td>0</td>\n",
       "      <td>94</td>\n",
       "      <td>1525.0</td>\n",
       "    </tr>\n",
       "    <tr>\n",
       "      <th>3</th>\n",
       "      <td>4</td>\n",
       "      <td>2013-05-21 08:09:28</td>\n",
       "      <td>Clausen Nicklas</td>\n",
       "      <td>NicklasSClausen@yahoo.com</td>\n",
       "      <td>GUEST_INVITE</td>\n",
       "      <td>1.369210e+09</td>\n",
       "      <td>0</td>\n",
       "      <td>0</td>\n",
       "      <td>1</td>\n",
       "      <td>5151.0</td>\n",
       "    </tr>\n",
       "    <tr>\n",
       "      <th>4</th>\n",
       "      <td>5</td>\n",
       "      <td>2013-01-17 10:14:20</td>\n",
       "      <td>Raw Grace</td>\n",
       "      <td>GraceRaw@yahoo.com</td>\n",
       "      <td>GUEST_INVITE</td>\n",
       "      <td>1.358850e+09</td>\n",
       "      <td>0</td>\n",
       "      <td>0</td>\n",
       "      <td>193</td>\n",
       "      <td>5240.0</td>\n",
       "    </tr>\n",
       "  </tbody>\n",
       "</table>\n",
       "</div>"
      ],
      "text/plain": [
       "   object_id        creation_time               name  \\\n",
       "0          1  2014-04-22 03:53:30     Clausen August   \n",
       "1          2  2013-11-15 03:45:04      Poole Matthew   \n",
       "2          3  2013-03-19 23:14:52  Bottrill Mitchell   \n",
       "3          4  2013-05-21 08:09:28    Clausen Nicklas   \n",
       "4          5  2013-01-17 10:14:20          Raw Grace   \n",
       "\n",
       "                        email creation_source  last_session_creation_time  \\\n",
       "0    AugustCClausen@yahoo.com    GUEST_INVITE                1.398139e+09   \n",
       "1      MatthewPoole@gustr.com      ORG_INVITE                1.396238e+09   \n",
       "2  MitchellBottrill@gustr.com      ORG_INVITE                1.363735e+09   \n",
       "3   NicklasSClausen@yahoo.com    GUEST_INVITE                1.369210e+09   \n",
       "4          GraceRaw@yahoo.com    GUEST_INVITE                1.358850e+09   \n",
       "\n",
       "   opted_in_to_mailing_list  enabled_for_marketing_drip  org_id  \\\n",
       "0                         1                           0      11   \n",
       "1                         0                           0       1   \n",
       "2                         0                           0      94   \n",
       "3                         0                           0       1   \n",
       "4                         0                           0     193   \n",
       "\n",
       "   invited_by_user_id  \n",
       "0             10803.0  \n",
       "1               316.0  \n",
       "2              1525.0  \n",
       "3              5151.0  \n",
       "4              5240.0  "
      ]
     },
     "execution_count": 3,
     "metadata": {},
     "output_type": "execute_result"
    }
   ],
   "source": [
    "users.head()"
   ]
  },
  {
   "cell_type": "code",
   "execution_count": 4,
   "id": "ee5915f3",
   "metadata": {
    "execution": {
     "iopub.execute_input": "2023-02-21T20:40:58.496033Z",
     "iopub.status.busy": "2023-02-21T20:40:58.495652Z",
     "iopub.status.idle": "2023-02-21T20:40:58.506525Z",
     "shell.execute_reply": "2023-02-21T20:40:58.505433Z"
    },
    "papermill": {
     "duration": 0.026925,
     "end_time": "2023-02-21T20:40:58.509056",
     "exception": false,
     "start_time": "2023-02-21T20:40:58.482131",
     "status": "completed"
    },
    "tags": []
   },
   "outputs": [
    {
     "data": {
      "text/html": [
       "<div>\n",
       "<style scoped>\n",
       "    .dataframe tbody tr th:only-of-type {\n",
       "        vertical-align: middle;\n",
       "    }\n",
       "\n",
       "    .dataframe tbody tr th {\n",
       "        vertical-align: top;\n",
       "    }\n",
       "\n",
       "    .dataframe thead th {\n",
       "        text-align: right;\n",
       "    }\n",
       "</style>\n",
       "<table border=\"1\" class=\"dataframe\">\n",
       "  <thead>\n",
       "    <tr style=\"text-align: right;\">\n",
       "      <th></th>\n",
       "      <th>time_stamp</th>\n",
       "      <th>user_id</th>\n",
       "      <th>visited</th>\n",
       "    </tr>\n",
       "  </thead>\n",
       "  <tbody>\n",
       "    <tr>\n",
       "      <th>0</th>\n",
       "      <td>2014-04-22 03:53:30</td>\n",
       "      <td>1</td>\n",
       "      <td>1</td>\n",
       "    </tr>\n",
       "    <tr>\n",
       "      <th>1</th>\n",
       "      <td>2013-11-15 03:45:04</td>\n",
       "      <td>2</td>\n",
       "      <td>1</td>\n",
       "    </tr>\n",
       "    <tr>\n",
       "      <th>2</th>\n",
       "      <td>2013-11-29 03:45:04</td>\n",
       "      <td>2</td>\n",
       "      <td>1</td>\n",
       "    </tr>\n",
       "    <tr>\n",
       "      <th>3</th>\n",
       "      <td>2013-12-09 03:45:04</td>\n",
       "      <td>2</td>\n",
       "      <td>1</td>\n",
       "    </tr>\n",
       "    <tr>\n",
       "      <th>4</th>\n",
       "      <td>2013-12-25 03:45:04</td>\n",
       "      <td>2</td>\n",
       "      <td>1</td>\n",
       "    </tr>\n",
       "  </tbody>\n",
       "</table>\n",
       "</div>"
      ],
      "text/plain": [
       "            time_stamp  user_id  visited\n",
       "0  2014-04-22 03:53:30        1        1\n",
       "1  2013-11-15 03:45:04        2        1\n",
       "2  2013-11-29 03:45:04        2        1\n",
       "3  2013-12-09 03:45:04        2        1\n",
       "4  2013-12-25 03:45:04        2        1"
      ]
     },
     "execution_count": 4,
     "metadata": {},
     "output_type": "execute_result"
    }
   ],
   "source": [
    "user_engagement.head()"
   ]
  },
  {
   "cell_type": "markdown",
   "id": "73140be8",
   "metadata": {
    "papermill": {
     "duration": 0.011914,
     "end_time": "2023-02-21T20:40:58.533275",
     "exception": false,
     "start_time": "2023-02-21T20:40:58.521361",
     "status": "completed"
    },
    "tags": []
   },
   "source": [
    "1. get the week for each timestamp\n",
    "2. then count each week per user_id\n",
    "3. filter on >=3 engagements for each week for each user as adopted"
   ]
  },
  {
   "cell_type": "markdown",
   "id": "2fb196eb",
   "metadata": {
    "papermill": {
     "duration": 0.011932,
     "end_time": "2023-02-21T20:40:58.557819",
     "exception": false,
     "start_time": "2023-02-21T20:40:58.545887",
     "status": "completed"
    },
    "tags": []
   },
   "source": [
    "Loaded users and user engagement tables into Postgres. Got adopted users based on business definition and joined back to users. With resultant table, got user information as well as those who adopted/not adopted the product."
   ]
  },
  {
   "cell_type": "code",
   "execution_count": 5,
   "id": "70e811ab",
   "metadata": {
    "execution": {
     "iopub.execute_input": "2023-02-21T20:40:58.584948Z",
     "iopub.status.busy": "2023-02-21T20:40:58.584519Z",
     "iopub.status.idle": "2023-02-21T20:40:58.737053Z",
     "shell.execute_reply": "2023-02-21T20:40:58.736017Z"
    },
    "papermill": {
     "duration": 0.169834,
     "end_time": "2023-02-21T20:40:58.740423",
     "exception": false,
     "start_time": "2023-02-21T20:40:58.570589",
     "status": "completed"
    },
    "tags": []
   },
   "outputs": [
    {
     "data": {
      "text/html": [
       "<div>\n",
       "<style scoped>\n",
       "    .dataframe tbody tr th:only-of-type {\n",
       "        vertical-align: middle;\n",
       "    }\n",
       "\n",
       "    .dataframe tbody tr th {\n",
       "        vertical-align: top;\n",
       "    }\n",
       "\n",
       "    .dataframe thead th {\n",
       "        text-align: right;\n",
       "    }\n",
       "</style>\n",
       "<table border=\"1\" class=\"dataframe\">\n",
       "  <thead>\n",
       "    <tr style=\"text-align: right;\">\n",
       "      <th></th>\n",
       "      <th>user_id</th>\n",
       "      <th>creation_time</th>\n",
       "      <th>creation_time_date</th>\n",
       "      <th>creation_time_year</th>\n",
       "      <th>creation_time_month</th>\n",
       "      <th>creation_time_dow</th>\n",
       "      <th>name</th>\n",
       "      <th>email</th>\n",
       "      <th>creation_source</th>\n",
       "      <th>last_session_creation_time</th>\n",
       "      <th>last_session_creation_time_year</th>\n",
       "      <th>last_session_creation_time_month</th>\n",
       "      <th>last_session_creation_time_dow</th>\n",
       "      <th>opted_in_to_mailing_list</th>\n",
       "      <th>enabled_for_marketing_drip</th>\n",
       "      <th>org_id</th>\n",
       "      <th>invited_by_user_id</th>\n",
       "      <th>adopted</th>\n",
       "    </tr>\n",
       "  </thead>\n",
       "  <tbody>\n",
       "    <tr>\n",
       "      <th>0</th>\n",
       "      <td>2.0</td>\n",
       "      <td>2013-11-15 03:45:04</td>\n",
       "      <td>2013-11-15</td>\n",
       "      <td>2013</td>\n",
       "      <td>11</td>\n",
       "      <td>5</td>\n",
       "      <td>Poole Matthew</td>\n",
       "      <td>MatthewPoole@gustr.com</td>\n",
       "      <td>ORG_INVITE</td>\n",
       "      <td>2014-03-30 20:45:04-07</td>\n",
       "      <td>2014.0</td>\n",
       "      <td>3.0</td>\n",
       "      <td>7.0</td>\n",
       "      <td>0</td>\n",
       "      <td>0</td>\n",
       "      <td>1</td>\n",
       "      <td>316.0</td>\n",
       "      <td>1</td>\n",
       "    </tr>\n",
       "    <tr>\n",
       "      <th>1</th>\n",
       "      <td>10.0</td>\n",
       "      <td>2013-01-16 22:08:03</td>\n",
       "      <td>2013-01-16</td>\n",
       "      <td>2013</td>\n",
       "      <td>1</td>\n",
       "      <td>3</td>\n",
       "      <td>Santos Carla</td>\n",
       "      <td>CarlaFerreiraSantos@gustr.com</td>\n",
       "      <td>ORG_INVITE</td>\n",
       "      <td>2014-06-03 15:08:03-07</td>\n",
       "      <td>2014.0</td>\n",
       "      <td>6.0</td>\n",
       "      <td>2.0</td>\n",
       "      <td>1</td>\n",
       "      <td>1</td>\n",
       "      <td>318</td>\n",
       "      <td>4143.0</td>\n",
       "      <td>1</td>\n",
       "    </tr>\n",
       "    <tr>\n",
       "      <th>2</th>\n",
       "      <td>20.0</td>\n",
       "      <td>2014-03-06 11:46:38</td>\n",
       "      <td>2014-03-06</td>\n",
       "      <td>2014</td>\n",
       "      <td>3</td>\n",
       "      <td>4</td>\n",
       "      <td>Helms Mikayla</td>\n",
       "      <td>lqyvjilf@uhzdq.com</td>\n",
       "      <td>SIGNUP</td>\n",
       "      <td>2014-05-29 04:46:38-07</td>\n",
       "      <td>2014.0</td>\n",
       "      <td>5.0</td>\n",
       "      <td>4.0</td>\n",
       "      <td>0</td>\n",
       "      <td>0</td>\n",
       "      <td>58</td>\n",
       "      <td>NaN</td>\n",
       "      <td>1</td>\n",
       "    </tr>\n",
       "    <tr>\n",
       "      <th>3</th>\n",
       "      <td>33.0</td>\n",
       "      <td>2014-03-11 06:29:09</td>\n",
       "      <td>2014-03-11</td>\n",
       "      <td>2014</td>\n",
       "      <td>3</td>\n",
       "      <td>2</td>\n",
       "      <td>Araujo Josй</td>\n",
       "      <td>JoseMartinsAraujo@cuvox.de</td>\n",
       "      <td>GUEST_INVITE</td>\n",
       "      <td>2014-05-30 23:29:09-07</td>\n",
       "      <td>2014.0</td>\n",
       "      <td>5.0</td>\n",
       "      <td>5.0</td>\n",
       "      <td>0</td>\n",
       "      <td>0</td>\n",
       "      <td>401</td>\n",
       "      <td>79.0</td>\n",
       "      <td>1</td>\n",
       "    </tr>\n",
       "    <tr>\n",
       "      <th>4</th>\n",
       "      <td>42.0</td>\n",
       "      <td>2012-11-11 19:05:07</td>\n",
       "      <td>2012-11-11</td>\n",
       "      <td>2012</td>\n",
       "      <td>11</td>\n",
       "      <td>7</td>\n",
       "      <td>Pinto Giovanna</td>\n",
       "      <td>GiovannaCunhaPinto@cuvox.de</td>\n",
       "      <td>SIGNUP</td>\n",
       "      <td>2014-05-25 12:05:07-07</td>\n",
       "      <td>2014.0</td>\n",
       "      <td>5.0</td>\n",
       "      <td>7.0</td>\n",
       "      <td>1</td>\n",
       "      <td>0</td>\n",
       "      <td>235</td>\n",
       "      <td>NaN</td>\n",
       "      <td>1</td>\n",
       "    </tr>\n",
       "  </tbody>\n",
       "</table>\n",
       "</div>"
      ],
      "text/plain": [
       "   user_id        creation_time creation_time_date  creation_time_year  \\\n",
       "0      2.0  2013-11-15 03:45:04         2013-11-15                2013   \n",
       "1     10.0  2013-01-16 22:08:03         2013-01-16                2013   \n",
       "2     20.0  2014-03-06 11:46:38         2014-03-06                2014   \n",
       "3     33.0  2014-03-11 06:29:09         2014-03-11                2014   \n",
       "4     42.0  2012-11-11 19:05:07         2012-11-11                2012   \n",
       "\n",
       "   creation_time_month  creation_time_dow            name  \\\n",
       "0                   11                  5   Poole Matthew   \n",
       "1                    1                  3    Santos Carla   \n",
       "2                    3                  4   Helms Mikayla   \n",
       "3                    3                  2     Araujo Josй   \n",
       "4                   11                  7  Pinto Giovanna   \n",
       "\n",
       "                           email creation_source last_session_creation_time  \\\n",
       "0         MatthewPoole@gustr.com      ORG_INVITE     2014-03-30 20:45:04-07   \n",
       "1  CarlaFerreiraSantos@gustr.com      ORG_INVITE     2014-06-03 15:08:03-07   \n",
       "2             lqyvjilf@uhzdq.com          SIGNUP     2014-05-29 04:46:38-07   \n",
       "3     JoseMartinsAraujo@cuvox.de    GUEST_INVITE     2014-05-30 23:29:09-07   \n",
       "4    GiovannaCunhaPinto@cuvox.de          SIGNUP     2014-05-25 12:05:07-07   \n",
       "\n",
       "   last_session_creation_time_year  last_session_creation_time_month  \\\n",
       "0                           2014.0                               3.0   \n",
       "1                           2014.0                               6.0   \n",
       "2                           2014.0                               5.0   \n",
       "3                           2014.0                               5.0   \n",
       "4                           2014.0                               5.0   \n",
       "\n",
       "   last_session_creation_time_dow  opted_in_to_mailing_list  \\\n",
       "0                             7.0                         0   \n",
       "1                             2.0                         1   \n",
       "2                             4.0                         0   \n",
       "3                             5.0                         0   \n",
       "4                             7.0                         1   \n",
       "\n",
       "   enabled_for_marketing_drip  org_id  invited_by_user_id  adopted  \n",
       "0                           0       1               316.0        1  \n",
       "1                           1     318              4143.0        1  \n",
       "2                           0      58                 NaN        1  \n",
       "3                           0     401                79.0        1  \n",
       "4                           0     235                 NaN        1  "
      ]
     },
     "execution_count": 5,
     "metadata": {},
     "output_type": "execute_result"
    }
   ],
   "source": [
    "users = pd.read_csv('/kaggle/input/adopted-users3/adopted_users.csv')\n",
    "users.head()"
   ]
  },
  {
   "cell_type": "markdown",
   "id": "2fc4c5d3",
   "metadata": {
    "papermill": {
     "duration": 0.01251,
     "end_time": "2023-02-21T20:40:58.771007",
     "exception": false,
     "start_time": "2023-02-21T20:40:58.758497",
     "status": "completed"
    },
    "tags": []
   },
   "source": [
    "To answer the question: which factors predict future user adoption we can look at the data provided **and think about other data that we can gather that would help see common customer actions leading to adoption.**\n",
    "\n",
    "Look at common engagement metrics for SaaS company.\n",
    "* From this dataset:\n",
    "1. Stickiness (look at Sticky Engine portion)\n",
    "1. Virality\n",
    "1. how they got to platform\n",
    "1. adopted come from same org/marketing drip?\n",
    "\n",
    "Outside of this dataset:\n",
    "1. what are they doing in Asana app\n",
    "1. measuring lingering time and giving threshold on what is good/bad lingering time\n",
    "1. specific features being used more vs others\n",
    "1. feature they only use/feature they never use?\n",
    "1. did they return on their own or via a push notification/email\n"
   ]
  },
  {
   "cell_type": "markdown",
   "id": "533ee79a",
   "metadata": {
    "execution": {
     "iopub.execute_input": "2023-02-20T05:11:17.763398Z",
     "iopub.status.busy": "2023-02-20T05:11:17.762362Z",
     "iopub.status.idle": "2023-02-20T05:11:17.770733Z",
     "shell.execute_reply": "2023-02-20T05:11:17.769694Z",
     "shell.execute_reply.started": "2023-02-20T05:11:17.763332Z"
    },
    "papermill": {
     "duration": 0.012651,
     "end_time": "2023-02-21T20:40:58.796718",
     "exception": false,
     "start_time": "2023-02-21T20:40:58.784067",
     "status": "completed"
    },
    "tags": []
   },
   "source": [
    "# Exploratory Data Analysis "
   ]
  },
  {
   "cell_type": "code",
   "execution_count": 6,
   "id": "8f8cfb05",
   "metadata": {
    "execution": {
     "iopub.execute_input": "2023-02-21T20:40:58.824267Z",
     "iopub.status.busy": "2023-02-21T20:40:58.823842Z",
     "iopub.status.idle": "2023-02-21T20:40:58.838664Z",
     "shell.execute_reply": "2023-02-21T20:40:58.837528Z"
    },
    "papermill": {
     "duration": 0.031609,
     "end_time": "2023-02-21T20:40:58.841216",
     "exception": false,
     "start_time": "2023-02-21T20:40:58.809607",
     "status": "completed"
    },
    "tags": []
   },
   "outputs": [
    {
     "data": {
      "text/plain": [
       "0    10555\n",
       "1     1445\n",
       "Name: adopted, dtype: int64"
      ]
     },
     "execution_count": 6,
     "metadata": {},
     "output_type": "execute_result"
    }
   ],
   "source": [
    "users['adopted'].value_counts()"
   ]
  },
  {
   "cell_type": "code",
   "execution_count": 7,
   "id": "d78f82f9",
   "metadata": {
    "execution": {
     "iopub.execute_input": "2023-02-21T20:40:58.869179Z",
     "iopub.status.busy": "2023-02-21T20:40:58.868768Z",
     "iopub.status.idle": "2023-02-21T20:40:58.886526Z",
     "shell.execute_reply": "2023-02-21T20:40:58.885455Z"
    },
    "papermill": {
     "duration": 0.034398,
     "end_time": "2023-02-21T20:40:58.888792",
     "exception": false,
     "start_time": "2023-02-21T20:40:58.854394",
     "status": "completed"
    },
    "tags": []
   },
   "outputs": [
    {
     "data": {
      "text/plain": [
       "adopted  creation_source   \n",
       "0        GUEST_INVITE          1837\n",
       "         ORG_INVITE            3763\n",
       "         PERSONAL_PROJECTS     1964\n",
       "         SIGNUP                1812\n",
       "         SIGNUP_GOOGLE_AUTH    1179\n",
       "1        GUEST_INVITE           326\n",
       "         ORG_INVITE             491\n",
       "         PERSONAL_PROJECTS      147\n",
       "         SIGNUP                 275\n",
       "         SIGNUP_GOOGLE_AUTH     206\n",
       "dtype: int64"
      ]
     },
     "execution_count": 7,
     "metadata": {},
     "output_type": "execute_result"
    }
   ],
   "source": [
    "users.groupby(['adopted', 'creation_source']).size()"
   ]
  },
  {
   "cell_type": "markdown",
   "id": "06007659",
   "metadata": {
    "papermill": {
     "duration": 0.013804,
     "end_time": "2023-02-21T20:40:58.916531",
     "exception": false,
     "start_time": "2023-02-21T20:40:58.902727",
     "status": "completed"
    },
    "tags": []
   },
   "source": [
    "Looks like most adopted came from invites. "
   ]
  },
  {
   "cell_type": "markdown",
   "id": "6ba6f7ae",
   "metadata": {
    "papermill": {
     "duration": 0.013988,
     "end_time": "2023-02-21T20:40:58.944095",
     "exception": false,
     "start_time": "2023-02-21T20:40:58.930107",
     "status": "completed"
    },
    "tags": []
   },
   "source": [
    "_______________________________"
   ]
  },
  {
   "cell_type": "markdown",
   "id": "7d6aa850",
   "metadata": {
    "papermill": {
     "duration": 0.012803,
     "end_time": "2023-02-21T20:40:58.970664",
     "exception": false,
     "start_time": "2023-02-21T20:40:58.957861",
     "status": "completed"
    },
    "tags": []
   },
   "source": [
    "# Describing Data"
   ]
  },
  {
   "cell_type": "code",
   "execution_count": 8,
   "id": "37754a96",
   "metadata": {
    "execution": {
     "iopub.execute_input": "2023-02-21T20:40:58.998986Z",
     "iopub.status.busy": "2023-02-21T20:40:58.998530Z",
     "iopub.status.idle": "2023-02-21T20:40:59.021756Z",
     "shell.execute_reply": "2023-02-21T20:40:59.019977Z"
    },
    "papermill": {
     "duration": 0.040292,
     "end_time": "2023-02-21T20:40:59.024452",
     "exception": false,
     "start_time": "2023-02-21T20:40:58.984160",
     "status": "completed"
    },
    "tags": []
   },
   "outputs": [
    {
     "name": "stdout",
     "output_type": "stream",
     "text": [
      "<class 'pandas.core.frame.DataFrame'>\n",
      "RangeIndex: 12000 entries, 0 to 11999\n",
      "Data columns (total 18 columns):\n",
      " #   Column                            Non-Null Count  Dtype  \n",
      "---  ------                            --------------  -----  \n",
      " 0   user_id                           1445 non-null   float64\n",
      " 1   creation_time                     12000 non-null  object \n",
      " 2   creation_time_date                12000 non-null  object \n",
      " 3   creation_time_year                12000 non-null  int64  \n",
      " 4   creation_time_month               12000 non-null  int64  \n",
      " 5   creation_time_dow                 12000 non-null  int64  \n",
      " 6   name                              12000 non-null  object \n",
      " 7   email                             12000 non-null  object \n",
      " 8   creation_source                   12000 non-null  object \n",
      " 9   last_session_creation_time        8823 non-null   object \n",
      " 10  last_session_creation_time_year   8823 non-null   float64\n",
      " 11  last_session_creation_time_month  8823 non-null   float64\n",
      " 12  last_session_creation_time_dow    8823 non-null   float64\n",
      " 13  opted_in_to_mailing_list          12000 non-null  int64  \n",
      " 14  enabled_for_marketing_drip        12000 non-null  int64  \n",
      " 15  org_id                            12000 non-null  int64  \n",
      " 16  invited_by_user_id                6417 non-null   float64\n",
      " 17  adopted                           12000 non-null  int64  \n",
      "dtypes: float64(5), int64(7), object(6)\n",
      "memory usage: 1.6+ MB\n"
     ]
    }
   ],
   "source": [
    "#On top of referring to data dictionary from above, we can start with describing data with:\n",
    "users.info()"
   ]
  },
  {
   "cell_type": "markdown",
   "id": "9a3299f7",
   "metadata": {
    "papermill": {
     "duration": 0.012642,
     "end_time": "2023-02-21T20:40:59.050437",
     "exception": false,
     "start_time": "2023-02-21T20:40:59.037795",
     "status": "completed"
    },
    "tags": []
   },
   "source": [
    "**Which features are categorical?\n",
    "These values classify the samples into sets of similar samples.\n",
    "Within categorical features are:**\n",
    "\n",
    "1. nominal\n",
    "1. ordinal\n",
    "1. ratio\n",
    "1. interval-based\n",
    "\n",
    "Defining this also helps us determining which plots to use to visualize data.\n",
    "\n",
    "* So for this dataset, the categorical are: adopted, creation_source, opted_in_to_mailing_list, enabled_for_marketing_drip, org_id**"
   ]
  },
  {
   "cell_type": "markdown",
   "id": "177c1b02",
   "metadata": {
    "papermill": {
     "duration": 0.012528,
     "end_time": "2023-02-21T20:40:59.075884",
     "exception": false,
     "start_time": "2023-02-21T20:40:59.063356",
     "status": "completed"
    },
    "tags": []
   },
   "source": [
    "\n",
    "** Which features are numerical? These values change from sample to sample. Within numerical features are: **\n",
    "1. discrete\n",
    "1. continuous\n",
    "1. timeseries based\n",
    "\n",
    "Defining these also help us choose the apporpriate plots for visualization.\n",
    "\n",
    "* For this dataset, the continuous variables are: creation_time and its derivatives, last_session_creation_time"
   ]
  },
  {
   "cell_type": "markdown",
   "id": "cda887d6",
   "metadata": {
    "execution": {
     "iopub.execute_input": "2023-02-21T03:50:28.269966Z",
     "iopub.status.busy": "2023-02-21T03:50:28.269206Z",
     "iopub.status.idle": "2023-02-21T03:50:28.275643Z",
     "shell.execute_reply": "2023-02-21T03:50:28.274568Z",
     "shell.execute_reply.started": "2023-02-21T03:50:28.269939Z"
    },
    "papermill": {
     "duration": 0.012709,
     "end_time": "2023-02-21T20:40:59.101642",
     "exception": false,
     "start_time": "2023-02-21T20:40:59.088933",
     "status": "completed"
    },
    "tags": []
   },
   "source": [
    "**Which features are mixed data types?**\n",
    "\n",
    "These features are numerical, alphanumeric data within the same feature. These would be candidates for correcting data stage.\n",
    "\n",
    "* We luckily don't have any of these in our sample dataset."
   ]
  },
  {
   "cell_type": "markdown",
   "id": "93998d6f",
   "metadata": {
    "papermill": {
     "duration": 0.012617,
     "end_time": "2023-02-21T20:40:59.127226",
     "exception": false,
     "start_time": "2023-02-21T20:40:59.114609",
     "status": "completed"
    },
    "tags": []
   },
   "source": [
    "**Which features may contain errors or typos?**\n",
    "\n",
    "This sort of data would have inconsistent patterns in data such as a name column with titles, punctuation where it is not supposed to be, quotes for aliases, etc.\n",
    "\n",
    "* Fortunately, this dataset does not have any of those sort of features.\n"
   ]
  },
  {
   "cell_type": "markdown",
   "id": "77377b31",
   "metadata": {
    "papermill": {
     "duration": 0.012666,
     "end_time": "2023-02-21T20:40:59.153657",
     "exception": false,
     "start_time": "2023-02-21T20:40:59.140991",
     "status": "completed"
    },
    "tags": []
   },
   "source": [
    "**Which features would contain blank, null or empty?**\n",
    "\n",
    "These would require correcting."
   ]
  },
  {
   "cell_type": "code",
   "execution_count": 9,
   "id": "8d650b28",
   "metadata": {
    "execution": {
     "iopub.execute_input": "2023-02-21T20:40:59.181149Z",
     "iopub.status.busy": "2023-02-21T20:40:59.180720Z",
     "iopub.status.idle": "2023-02-21T20:40:59.195027Z",
     "shell.execute_reply": "2023-02-21T20:40:59.193834Z"
    },
    "papermill": {
     "duration": 0.031232,
     "end_time": "2023-02-21T20:40:59.197732",
     "exception": false,
     "start_time": "2023-02-21T20:40:59.166500",
     "status": "completed"
    },
    "tags": []
   },
   "outputs": [
    {
     "data": {
      "text/plain": [
       "user_id                             10555\n",
       "creation_time                           0\n",
       "creation_time_date                      0\n",
       "creation_time_year                      0\n",
       "creation_time_month                     0\n",
       "creation_time_dow                       0\n",
       "name                                    0\n",
       "email                                   0\n",
       "creation_source                         0\n",
       "last_session_creation_time           3177\n",
       "last_session_creation_time_year      3177\n",
       "last_session_creation_time_month     3177\n",
       "last_session_creation_time_dow       3177\n",
       "opted_in_to_mailing_list                0\n",
       "enabled_for_marketing_drip              0\n",
       "org_id                                  0\n",
       "invited_by_user_id                   5583\n",
       "adopted                                 0\n",
       "dtype: int64"
      ]
     },
     "execution_count": 9,
     "metadata": {},
     "output_type": "execute_result"
    }
   ],
   "source": [
    "users.isnull().sum()"
   ]
  },
  {
   "cell_type": "markdown",
   "id": "cfd2beb6",
   "metadata": {
    "papermill": {
     "duration": 0.015828,
     "end_time": "2023-02-21T20:40:59.229733",
     "exception": false,
     "start_time": "2023-02-21T20:40:59.213905",
     "status": "completed"
    },
    "tags": []
   },
   "source": [
    "last_session_creation_time (and its derviatives) and invited_by_user_id have NULL values."
   ]
  },
  {
   "cell_type": "markdown",
   "id": "f93799ef",
   "metadata": {
    "execution": {
     "iopub.execute_input": "2023-02-21T04:18:10.742538Z",
     "iopub.status.busy": "2023-02-21T04:18:10.742191Z",
     "iopub.status.idle": "2023-02-21T04:18:10.748822Z",
     "shell.execute_reply": "2023-02-21T04:18:10.747571Z",
     "shell.execute_reply.started": "2023-02-21T04:18:10.742514Z"
    },
    "papermill": {
     "duration": 0.015015,
     "end_time": "2023-02-21T20:40:59.259559",
     "exception": false,
     "start_time": "2023-02-21T20:40:59.244544",
     "status": "completed"
    },
    "tags": []
   },
   "source": [
    "**Data types for various features:**"
   ]
  },
  {
   "cell_type": "code",
   "execution_count": 10,
   "id": "918b2a85",
   "metadata": {
    "execution": {
     "iopub.execute_input": "2023-02-21T20:40:59.288718Z",
     "iopub.status.busy": "2023-02-21T20:40:59.287750Z",
     "iopub.status.idle": "2023-02-21T20:40:59.306969Z",
     "shell.execute_reply": "2023-02-21T20:40:59.305967Z"
    },
    "papermill": {
     "duration": 0.036498,
     "end_time": "2023-02-21T20:40:59.309675",
     "exception": false,
     "start_time": "2023-02-21T20:40:59.273177",
     "status": "completed"
    },
    "tags": []
   },
   "outputs": [
    {
     "name": "stdout",
     "output_type": "stream",
     "text": [
      "<class 'pandas.core.frame.DataFrame'>\n",
      "RangeIndex: 12000 entries, 0 to 11999\n",
      "Data columns (total 18 columns):\n",
      " #   Column                            Non-Null Count  Dtype  \n",
      "---  ------                            --------------  -----  \n",
      " 0   user_id                           1445 non-null   float64\n",
      " 1   creation_time                     12000 non-null  object \n",
      " 2   creation_time_date                12000 non-null  object \n",
      " 3   creation_time_year                12000 non-null  int64  \n",
      " 4   creation_time_month               12000 non-null  int64  \n",
      " 5   creation_time_dow                 12000 non-null  int64  \n",
      " 6   name                              12000 non-null  object \n",
      " 7   email                             12000 non-null  object \n",
      " 8   creation_source                   12000 non-null  object \n",
      " 9   last_session_creation_time        8823 non-null   object \n",
      " 10  last_session_creation_time_year   8823 non-null   float64\n",
      " 11  last_session_creation_time_month  8823 non-null   float64\n",
      " 12  last_session_creation_time_dow    8823 non-null   float64\n",
      " 13  opted_in_to_mailing_list          12000 non-null  int64  \n",
      " 14  enabled_for_marketing_drip        12000 non-null  int64  \n",
      " 15  org_id                            12000 non-null  int64  \n",
      " 16  invited_by_user_id                6417 non-null   float64\n",
      " 17  adopted                           12000 non-null  int64  \n",
      "dtypes: float64(5), int64(7), object(6)\n",
      "memory usage: 1.6+ MB\n"
     ]
    }
   ],
   "source": [
    "users.info()"
   ]
  },
  {
   "cell_type": "markdown",
   "id": "0e7983c5",
   "metadata": {
    "papermill": {
     "duration": 0.013514,
     "end_time": "2023-02-21T20:40:59.336605",
     "exception": false,
     "start_time": "2023-02-21T20:40:59.323091",
     "status": "completed"
    },
    "tags": []
   },
   "source": [
    "**Distribution of numerical features values across samples.**\n",
    "\n",
    "This helps us determine how representative the sample dataset is of the actual problem domain (assuming there is already some domain expertise. maybe some common sense can help with comparison)."
   ]
  },
  {
   "cell_type": "code",
   "execution_count": 11,
   "id": "b275896e",
   "metadata": {
    "execution": {
     "iopub.execute_input": "2023-02-21T20:40:59.365370Z",
     "iopub.status.busy": "2023-02-21T20:40:59.364920Z",
     "iopub.status.idle": "2023-02-21T20:40:59.426111Z",
     "shell.execute_reply": "2023-02-21T20:40:59.425142Z"
    },
    "papermill": {
     "duration": 0.078751,
     "end_time": "2023-02-21T20:40:59.428829",
     "exception": false,
     "start_time": "2023-02-21T20:40:59.350078",
     "status": "completed"
    },
    "tags": []
   },
   "outputs": [
    {
     "data": {
      "text/html": [
       "<div>\n",
       "<style scoped>\n",
       "    .dataframe tbody tr th:only-of-type {\n",
       "        vertical-align: middle;\n",
       "    }\n",
       "\n",
       "    .dataframe tbody tr th {\n",
       "        vertical-align: top;\n",
       "    }\n",
       "\n",
       "    .dataframe thead th {\n",
       "        text-align: right;\n",
       "    }\n",
       "</style>\n",
       "<table border=\"1\" class=\"dataframe\">\n",
       "  <thead>\n",
       "    <tr style=\"text-align: right;\">\n",
       "      <th></th>\n",
       "      <th>user_id</th>\n",
       "      <th>creation_time_year</th>\n",
       "      <th>creation_time_month</th>\n",
       "      <th>creation_time_dow</th>\n",
       "      <th>last_session_creation_time_year</th>\n",
       "      <th>last_session_creation_time_month</th>\n",
       "      <th>last_session_creation_time_dow</th>\n",
       "      <th>opted_in_to_mailing_list</th>\n",
       "      <th>enabled_for_marketing_drip</th>\n",
       "      <th>org_id</th>\n",
       "      <th>invited_by_user_id</th>\n",
       "      <th>adopted</th>\n",
       "    </tr>\n",
       "  </thead>\n",
       "  <tbody>\n",
       "    <tr>\n",
       "      <th>count</th>\n",
       "      <td>1445.000000</td>\n",
       "      <td>12000.000000</td>\n",
       "      <td>12000.000000</td>\n",
       "      <td>12000.000000</td>\n",
       "      <td>8823.000000</td>\n",
       "      <td>8823.000000</td>\n",
       "      <td>8823.000000</td>\n",
       "      <td>12000.000000</td>\n",
       "      <td>12000.000000</td>\n",
       "      <td>12000.000000</td>\n",
       "      <td>6417.000000</td>\n",
       "      <td>12000.000000</td>\n",
       "    </tr>\n",
       "    <tr>\n",
       "      <th>mean</th>\n",
       "      <td>6070.540484</td>\n",
       "      <td>2013.060833</td>\n",
       "      <td>6.250833</td>\n",
       "      <td>3.998167</td>\n",
       "      <td>2013.243001</td>\n",
       "      <td>6.081945</td>\n",
       "      <td>3.925309</td>\n",
       "      <td>0.249500</td>\n",
       "      <td>0.149333</td>\n",
       "      <td>141.884583</td>\n",
       "      <td>5962.957145</td>\n",
       "      <td>0.120417</td>\n",
       "    </tr>\n",
       "    <tr>\n",
       "      <th>std</th>\n",
       "      <td>3495.859365</td>\n",
       "      <td>0.723424</td>\n",
       "      <td>3.423968</td>\n",
       "      <td>1.981243</td>\n",
       "      <td>0.737090</td>\n",
       "      <td>3.143723</td>\n",
       "      <td>1.982975</td>\n",
       "      <td>0.432742</td>\n",
       "      <td>0.356432</td>\n",
       "      <td>124.056723</td>\n",
       "      <td>3383.761968</td>\n",
       "      <td>0.325462</td>\n",
       "    </tr>\n",
       "    <tr>\n",
       "      <th>min</th>\n",
       "      <td>2.000000</td>\n",
       "      <td>2012.000000</td>\n",
       "      <td>1.000000</td>\n",
       "      <td>1.000000</td>\n",
       "      <td>2012.000000</td>\n",
       "      <td>1.000000</td>\n",
       "      <td>1.000000</td>\n",
       "      <td>0.000000</td>\n",
       "      <td>0.000000</td>\n",
       "      <td>0.000000</td>\n",
       "      <td>3.000000</td>\n",
       "      <td>0.000000</td>\n",
       "    </tr>\n",
       "    <tr>\n",
       "      <th>25%</th>\n",
       "      <td>3066.000000</td>\n",
       "      <td>2013.000000</td>\n",
       "      <td>3.000000</td>\n",
       "      <td>2.000000</td>\n",
       "      <td>2013.000000</td>\n",
       "      <td>4.000000</td>\n",
       "      <td>2.000000</td>\n",
       "      <td>0.000000</td>\n",
       "      <td>0.000000</td>\n",
       "      <td>29.000000</td>\n",
       "      <td>3058.000000</td>\n",
       "      <td>0.000000</td>\n",
       "    </tr>\n",
       "    <tr>\n",
       "      <th>50%</th>\n",
       "      <td>6096.000000</td>\n",
       "      <td>2013.000000</td>\n",
       "      <td>6.000000</td>\n",
       "      <td>4.000000</td>\n",
       "      <td>2013.000000</td>\n",
       "      <td>5.000000</td>\n",
       "      <td>4.000000</td>\n",
       "      <td>0.000000</td>\n",
       "      <td>0.000000</td>\n",
       "      <td>108.000000</td>\n",
       "      <td>5954.000000</td>\n",
       "      <td>0.000000</td>\n",
       "    </tr>\n",
       "    <tr>\n",
       "      <th>75%</th>\n",
       "      <td>9195.000000</td>\n",
       "      <td>2014.000000</td>\n",
       "      <td>9.000000</td>\n",
       "      <td>6.000000</td>\n",
       "      <td>2014.000000</td>\n",
       "      <td>9.000000</td>\n",
       "      <td>6.000000</td>\n",
       "      <td>0.000000</td>\n",
       "      <td>0.000000</td>\n",
       "      <td>238.250000</td>\n",
       "      <td>8817.000000</td>\n",
       "      <td>0.000000</td>\n",
       "    </tr>\n",
       "    <tr>\n",
       "      <th>max</th>\n",
       "      <td>11988.000000</td>\n",
       "      <td>2014.000000</td>\n",
       "      <td>12.000000</td>\n",
       "      <td>7.000000</td>\n",
       "      <td>2014.000000</td>\n",
       "      <td>12.000000</td>\n",
       "      <td>7.000000</td>\n",
       "      <td>1.000000</td>\n",
       "      <td>1.000000</td>\n",
       "      <td>416.000000</td>\n",
       "      <td>11999.000000</td>\n",
       "      <td>1.000000</td>\n",
       "    </tr>\n",
       "  </tbody>\n",
       "</table>\n",
       "</div>"
      ],
      "text/plain": [
       "            user_id  creation_time_year  creation_time_month  \\\n",
       "count   1445.000000        12000.000000         12000.000000   \n",
       "mean    6070.540484         2013.060833             6.250833   \n",
       "std     3495.859365            0.723424             3.423968   \n",
       "min        2.000000         2012.000000             1.000000   \n",
       "25%     3066.000000         2013.000000             3.000000   \n",
       "50%     6096.000000         2013.000000             6.000000   \n",
       "75%     9195.000000         2014.000000             9.000000   \n",
       "max    11988.000000         2014.000000            12.000000   \n",
       "\n",
       "       creation_time_dow  last_session_creation_time_year  \\\n",
       "count       12000.000000                      8823.000000   \n",
       "mean            3.998167                      2013.243001   \n",
       "std             1.981243                         0.737090   \n",
       "min             1.000000                      2012.000000   \n",
       "25%             2.000000                      2013.000000   \n",
       "50%             4.000000                      2013.000000   \n",
       "75%             6.000000                      2014.000000   \n",
       "max             7.000000                      2014.000000   \n",
       "\n",
       "       last_session_creation_time_month  last_session_creation_time_dow  \\\n",
       "count                       8823.000000                     8823.000000   \n",
       "mean                           6.081945                        3.925309   \n",
       "std                            3.143723                        1.982975   \n",
       "min                            1.000000                        1.000000   \n",
       "25%                            4.000000                        2.000000   \n",
       "50%                            5.000000                        4.000000   \n",
       "75%                            9.000000                        6.000000   \n",
       "max                           12.000000                        7.000000   \n",
       "\n",
       "       opted_in_to_mailing_list  enabled_for_marketing_drip        org_id  \\\n",
       "count              12000.000000                12000.000000  12000.000000   \n",
       "mean                   0.249500                    0.149333    141.884583   \n",
       "std                    0.432742                    0.356432    124.056723   \n",
       "min                    0.000000                    0.000000      0.000000   \n",
       "25%                    0.000000                    0.000000     29.000000   \n",
       "50%                    0.000000                    0.000000    108.000000   \n",
       "75%                    0.000000                    0.000000    238.250000   \n",
       "max                    1.000000                    1.000000    416.000000   \n",
       "\n",
       "       invited_by_user_id       adopted  \n",
       "count         6417.000000  12000.000000  \n",
       "mean          5962.957145      0.120417  \n",
       "std           3383.761968      0.325462  \n",
       "min              3.000000      0.000000  \n",
       "25%           3058.000000      0.000000  \n",
       "50%           5954.000000      0.000000  \n",
       "75%           8817.000000      0.000000  \n",
       "max          11999.000000      1.000000  "
      ]
     },
     "execution_count": 11,
     "metadata": {},
     "output_type": "execute_result"
    }
   ],
   "source": [
    "users[['user_id', 'creation_time_year', 'creation_time_month', 'creation_time_dow', 'last_session_creation_time_year', 'last_session_creation_time_month', 'last_session_creation_time_dow', 'opted_in_to_mailing_list', 'enabled_for_marketing_drip', 'org_id', 'invited_by_user_id', 'adopted']].describe()"
   ]
  },
  {
   "cell_type": "markdown",
   "id": "092b6e92",
   "metadata": {
    "papermill": {
     "duration": 0.013494,
     "end_time": "2023-02-21T20:40:59.456261",
     "exception": false,
     "start_time": "2023-02-21T20:40:59.442767",
     "status": "completed"
    },
    "tags": []
   },
   "source": [
    "* Total samples: 12000\n",
    "* adopted is a categorical feature with 0 / 1 values\n",
    "* Approximately 12% adopted\n",
    "* Average 24% of sample size have opted into mailing list\n",
    "* Average 14% allowed marketing to contact them"
   ]
  },
  {
   "cell_type": "markdown",
   "id": "ae067a90",
   "metadata": {
    "papermill": {
     "duration": 0.013481,
     "end_time": "2023-02-21T20:40:59.483575",
     "exception": false,
     "start_time": "2023-02-21T20:40:59.470094",
     "status": "completed"
    },
    "tags": []
   },
   "source": [
    "**What is the distribution of categorical features?**"
   ]
  },
  {
   "cell_type": "code",
   "execution_count": 12,
   "id": "a50a084f",
   "metadata": {
    "execution": {
     "iopub.execute_input": "2023-02-21T20:40:59.513190Z",
     "iopub.status.busy": "2023-02-21T20:40:59.512773Z",
     "iopub.status.idle": "2023-02-21T20:40:59.560889Z",
     "shell.execute_reply": "2023-02-21T20:40:59.559700Z"
    },
    "papermill": {
     "duration": 0.066296,
     "end_time": "2023-02-21T20:40:59.563821",
     "exception": false,
     "start_time": "2023-02-21T20:40:59.497525",
     "status": "completed"
    },
    "tags": []
   },
   "outputs": [
    {
     "data": {
      "text/html": [
       "<div>\n",
       "<style scoped>\n",
       "    .dataframe tbody tr th:only-of-type {\n",
       "        vertical-align: middle;\n",
       "    }\n",
       "\n",
       "    .dataframe tbody tr th {\n",
       "        vertical-align: top;\n",
       "    }\n",
       "\n",
       "    .dataframe thead th {\n",
       "        text-align: right;\n",
       "    }\n",
       "</style>\n",
       "<table border=\"1\" class=\"dataframe\">\n",
       "  <thead>\n",
       "    <tr style=\"text-align: right;\">\n",
       "      <th></th>\n",
       "      <th>creation_time</th>\n",
       "      <th>creation_time_date</th>\n",
       "      <th>name</th>\n",
       "      <th>email</th>\n",
       "      <th>creation_source</th>\n",
       "      <th>last_session_creation_time</th>\n",
       "    </tr>\n",
       "  </thead>\n",
       "  <tbody>\n",
       "    <tr>\n",
       "      <th>count</th>\n",
       "      <td>12000</td>\n",
       "      <td>12000</td>\n",
       "      <td>12000</td>\n",
       "      <td>12000</td>\n",
       "      <td>12000</td>\n",
       "      <td>8823</td>\n",
       "    </tr>\n",
       "    <tr>\n",
       "      <th>unique</th>\n",
       "      <td>11996</td>\n",
       "      <td>730</td>\n",
       "      <td>11355</td>\n",
       "      <td>11980</td>\n",
       "      <td>5</td>\n",
       "      <td>8821</td>\n",
       "    </tr>\n",
       "    <tr>\n",
       "      <th>top</th>\n",
       "      <td>2012-09-14 21:35:03</td>\n",
       "      <td>2014-05-30</td>\n",
       "      <td>Cavalcanti Victor</td>\n",
       "      <td>AlfieLane@yahoo.com</td>\n",
       "      <td>ORG_INVITE</td>\n",
       "      <td>2014-06-04 00:46:58-07</td>\n",
       "    </tr>\n",
       "    <tr>\n",
       "      <th>freq</th>\n",
       "      <td>2</td>\n",
       "      <td>71</td>\n",
       "      <td>5</td>\n",
       "      <td>2</td>\n",
       "      <td>4254</td>\n",
       "      <td>2</td>\n",
       "    </tr>\n",
       "  </tbody>\n",
       "</table>\n",
       "</div>"
      ],
      "text/plain": [
       "              creation_time creation_time_date               name  \\\n",
       "count                 12000              12000              12000   \n",
       "unique                11996                730              11355   \n",
       "top     2012-09-14 21:35:03         2014-05-30  Cavalcanti Victor   \n",
       "freq                      2                 71                  5   \n",
       "\n",
       "                      email creation_source last_session_creation_time  \n",
       "count                 12000           12000                       8823  \n",
       "unique                11980               5                       8821  \n",
       "top     AlfieLane@yahoo.com      ORG_INVITE     2014-06-04 00:46:58-07  \n",
       "freq                      2            4254                          2  "
      ]
     },
     "execution_count": 12,
     "metadata": {},
     "output_type": "execute_result"
    }
   ],
   "source": [
    "users.describe(include=['O'])"
   ]
  },
  {
   "cell_type": "markdown",
   "id": "a455056e",
   "metadata": {
    "execution": {
     "iopub.execute_input": "2023-02-21T18:46:09.969725Z",
     "iopub.status.busy": "2023-02-21T18:46:09.968683Z",
     "iopub.status.idle": "2023-02-21T18:46:09.978311Z",
     "shell.execute_reply": "2023-02-21T18:46:09.975764Z",
     "shell.execute_reply.started": "2023-02-21T18:46:09.969689Z"
    },
    "papermill": {
     "duration": 0.01364,
     "end_time": "2023-02-21T20:40:59.591722",
     "exception": false,
     "start_time": "2023-02-21T20:40:59.578082",
     "status": "completed"
    },
    "tags": []
   },
   "source": [
    "**Assumptions based on data analysis**\n",
    "\n",
    "We have several assumptions at this point and can validate them further before taking appropriate actions.\n",
    "\n",
    "**Correlating**\n",
    "\n",
    "How well does each feature correlate with adoption.\n",
    "\n",
    "**Completing**\n",
    "\n",
    "This is filling in certain features since some may lead to correlation to adoption such as: \n",
    "\n",
    "1. last_session_creation_time\n",
    "1. invited_by_user_id\n",
    "\n",
    "**Correcting**\n",
    "\n",
    "This involves dropping any features that are sparse and most likely do not lead to the target variable, adopted.\n",
    "\n",
    "1. name\n",
    "1. email\n",
    "\n",
    "**Creating**\n",
    "\n",
    "* This involves consolidating features such as if there is a parent and sibling feature to consolidate those two into one family feature.\n",
    "\n",
    "* If there is mixed information in one feature, then information can be extracted to create 2 new features. For example, if a name feature has titles in it. Titles can be filtered out as its own feature.\n",
    "\n",
    "* If there was an age feature or any feature that is continuous numerical, could create bands to make it an ordinal categorical feature.\n",
    "\n",
    "**Classifying**\n",
    "\n",
    "We may want to add to our assumptions based on the problem description/business acumen.\n",
    "\n",
    "1. Those who adopted would be more sticky or have more recent last session times\n",
    "1. Those who adopted were invited by someone\n",
    "1. Those who adopted are on Asana's mailing list\n",
    "1. Those who adopted are from a particular org that has Asana as core part of their culture\n",
    "\n",
    "___________\n",
    "\n",
    "* We may want to create new timestamp features for creation_time and last_session_creation_time (already did)\n",
    "\n"
   ]
  },
  {
   "cell_type": "markdown",
   "id": "3e358209",
   "metadata": {
    "papermill": {
     "duration": 0.013436,
     "end_time": "2023-02-21T20:40:59.619175",
     "exception": false,
     "start_time": "2023-02-21T20:40:59.605739",
     "status": "completed"
    },
    "tags": []
   },
   "source": [
    "**Analyze by Pivoting Features**\n",
    "\n",
    "To confirm some observations and assumptions, we can pivot categorical features against each other. We do this for features that do not have any empty values and are categorical.\n",
    "\n",
    "* creation_source\n",
    "* opted_in_to_mailing_list\n",
    "* enabled_for_marketing_drip\n",
    "* org_id"
   ]
  },
  {
   "cell_type": "code",
   "execution_count": 13,
   "id": "8ff8b7fa",
   "metadata": {
    "execution": {
     "iopub.execute_input": "2023-02-21T20:40:59.648530Z",
     "iopub.status.busy": "2023-02-21T20:40:59.648107Z",
     "iopub.status.idle": "2023-02-21T20:40:59.666794Z",
     "shell.execute_reply": "2023-02-21T20:40:59.665666Z"
    },
    "papermill": {
     "duration": 0.036365,
     "end_time": "2023-02-21T20:40:59.669320",
     "exception": false,
     "start_time": "2023-02-21T20:40:59.632955",
     "status": "completed"
    },
    "tags": []
   },
   "outputs": [
    {
     "data": {
      "text/html": [
       "<div>\n",
       "<style scoped>\n",
       "    .dataframe tbody tr th:only-of-type {\n",
       "        vertical-align: middle;\n",
       "    }\n",
       "\n",
       "    .dataframe tbody tr th {\n",
       "        vertical-align: top;\n",
       "    }\n",
       "\n",
       "    .dataframe thead th {\n",
       "        text-align: right;\n",
       "    }\n",
       "</style>\n",
       "<table border=\"1\" class=\"dataframe\">\n",
       "  <thead>\n",
       "    <tr style=\"text-align: right;\">\n",
       "      <th></th>\n",
       "      <th>creation_source</th>\n",
       "      <th>adopted</th>\n",
       "    </tr>\n",
       "  </thead>\n",
       "  <tbody>\n",
       "    <tr>\n",
       "      <th>0</th>\n",
       "      <td>GUEST_INVITE</td>\n",
       "      <td>0.150717</td>\n",
       "    </tr>\n",
       "    <tr>\n",
       "      <th>4</th>\n",
       "      <td>SIGNUP_GOOGLE_AUTH</td>\n",
       "      <td>0.148736</td>\n",
       "    </tr>\n",
       "    <tr>\n",
       "      <th>3</th>\n",
       "      <td>SIGNUP</td>\n",
       "      <td>0.131768</td>\n",
       "    </tr>\n",
       "    <tr>\n",
       "      <th>1</th>\n",
       "      <td>ORG_INVITE</td>\n",
       "      <td>0.115421</td>\n",
       "    </tr>\n",
       "    <tr>\n",
       "      <th>2</th>\n",
       "      <td>PERSONAL_PROJECTS</td>\n",
       "      <td>0.069635</td>\n",
       "    </tr>\n",
       "  </tbody>\n",
       "</table>\n",
       "</div>"
      ],
      "text/plain": [
       "      creation_source   adopted\n",
       "0        GUEST_INVITE  0.150717\n",
       "4  SIGNUP_GOOGLE_AUTH  0.148736\n",
       "3              SIGNUP  0.131768\n",
       "1          ORG_INVITE  0.115421\n",
       "2   PERSONAL_PROJECTS  0.069635"
      ]
     },
     "execution_count": 13,
     "metadata": {},
     "output_type": "execute_result"
    }
   ],
   "source": [
    "users[['creation_source', 'adopted']].groupby(['creation_source'], as_index=False).mean().sort_values(by='adopted', ascending=False)"
   ]
  },
  {
   "cell_type": "code",
   "execution_count": 14,
   "id": "f380972f",
   "metadata": {
    "execution": {
     "iopub.execute_input": "2023-02-21T20:40:59.700836Z",
     "iopub.status.busy": "2023-02-21T20:40:59.699472Z",
     "iopub.status.idle": "2023-02-21T20:40:59.714473Z",
     "shell.execute_reply": "2023-02-21T20:40:59.713382Z"
    },
    "papermill": {
     "duration": 0.03324,
     "end_time": "2023-02-21T20:40:59.717129",
     "exception": false,
     "start_time": "2023-02-21T20:40:59.683889",
     "status": "completed"
    },
    "tags": []
   },
   "outputs": [
    {
     "data": {
      "text/html": [
       "<div>\n",
       "<style scoped>\n",
       "    .dataframe tbody tr th:only-of-type {\n",
       "        vertical-align: middle;\n",
       "    }\n",
       "\n",
       "    .dataframe tbody tr th {\n",
       "        vertical-align: top;\n",
       "    }\n",
       "\n",
       "    .dataframe thead th {\n",
       "        text-align: right;\n",
       "    }\n",
       "</style>\n",
       "<table border=\"1\" class=\"dataframe\">\n",
       "  <thead>\n",
       "    <tr style=\"text-align: right;\">\n",
       "      <th></th>\n",
       "      <th>opted_in_to_mailing_list</th>\n",
       "      <th>adopted</th>\n",
       "    </tr>\n",
       "  </thead>\n",
       "  <tbody>\n",
       "    <tr>\n",
       "      <th>1</th>\n",
       "      <td>1</td>\n",
       "      <td>0.126253</td>\n",
       "    </tr>\n",
       "    <tr>\n",
       "      <th>0</th>\n",
       "      <td>0</td>\n",
       "      <td>0.118477</td>\n",
       "    </tr>\n",
       "  </tbody>\n",
       "</table>\n",
       "</div>"
      ],
      "text/plain": [
       "   opted_in_to_mailing_list   adopted\n",
       "1                         1  0.126253\n",
       "0                         0  0.118477"
      ]
     },
     "execution_count": 14,
     "metadata": {},
     "output_type": "execute_result"
    }
   ],
   "source": [
    "users[['opted_in_to_mailing_list', 'adopted']].groupby(['opted_in_to_mailing_list'], as_index=False).mean().sort_values(by='adopted', ascending=False)"
   ]
  },
  {
   "cell_type": "code",
   "execution_count": 15,
   "id": "30ef2bc4",
   "metadata": {
    "execution": {
     "iopub.execute_input": "2023-02-21T20:40:59.748977Z",
     "iopub.status.busy": "2023-02-21T20:40:59.748520Z",
     "iopub.status.idle": "2023-02-21T20:40:59.764404Z",
     "shell.execute_reply": "2023-02-21T20:40:59.763597Z"
    },
    "papermill": {
     "duration": 0.035036,
     "end_time": "2023-02-21T20:40:59.766796",
     "exception": false,
     "start_time": "2023-02-21T20:40:59.731760",
     "status": "completed"
    },
    "tags": []
   },
   "outputs": [
    {
     "data": {
      "text/html": [
       "<div>\n",
       "<style scoped>\n",
       "    .dataframe tbody tr th:only-of-type {\n",
       "        vertical-align: middle;\n",
       "    }\n",
       "\n",
       "    .dataframe tbody tr th {\n",
       "        vertical-align: top;\n",
       "    }\n",
       "\n",
       "    .dataframe thead th {\n",
       "        text-align: right;\n",
       "    }\n",
       "</style>\n",
       "<table border=\"1\" class=\"dataframe\">\n",
       "  <thead>\n",
       "    <tr style=\"text-align: right;\">\n",
       "      <th></th>\n",
       "      <th>enabled_for_marketing_drip</th>\n",
       "      <th>adopted</th>\n",
       "    </tr>\n",
       "  </thead>\n",
       "  <tbody>\n",
       "    <tr>\n",
       "      <th>1</th>\n",
       "      <td>1</td>\n",
       "      <td>0.125000</td>\n",
       "    </tr>\n",
       "    <tr>\n",
       "      <th>0</th>\n",
       "      <td>0</td>\n",
       "      <td>0.119612</td>\n",
       "    </tr>\n",
       "  </tbody>\n",
       "</table>\n",
       "</div>"
      ],
      "text/plain": [
       "   enabled_for_marketing_drip   adopted\n",
       "1                           1  0.125000\n",
       "0                           0  0.119612"
      ]
     },
     "execution_count": 15,
     "metadata": {},
     "output_type": "execute_result"
    }
   ],
   "source": [
    "users[['enabled_for_marketing_drip', 'adopted']].groupby(['enabled_for_marketing_drip'], as_index=False).mean().sort_values(by='adopted', ascending=False)"
   ]
  },
  {
   "cell_type": "code",
   "execution_count": 16,
   "id": "7537deff",
   "metadata": {
    "execution": {
     "iopub.execute_input": "2023-02-21T20:40:59.798238Z",
     "iopub.status.busy": "2023-02-21T20:40:59.797639Z",
     "iopub.status.idle": "2023-02-21T20:40:59.813363Z",
     "shell.execute_reply": "2023-02-21T20:40:59.812447Z"
    },
    "papermill": {
     "duration": 0.034001,
     "end_time": "2023-02-21T20:40:59.815575",
     "exception": false,
     "start_time": "2023-02-21T20:40:59.781574",
     "status": "completed"
    },
    "tags": []
   },
   "outputs": [
    {
     "data": {
      "text/html": [
       "<div>\n",
       "<style scoped>\n",
       "    .dataframe tbody tr th:only-of-type {\n",
       "        vertical-align: middle;\n",
       "    }\n",
       "\n",
       "    .dataframe tbody tr th {\n",
       "        vertical-align: top;\n",
       "    }\n",
       "\n",
       "    .dataframe thead th {\n",
       "        text-align: right;\n",
       "    }\n",
       "</style>\n",
       "<table border=\"1\" class=\"dataframe\">\n",
       "  <thead>\n",
       "    <tr style=\"text-align: right;\">\n",
       "      <th></th>\n",
       "      <th>org_id</th>\n",
       "      <th>adopted</th>\n",
       "    </tr>\n",
       "  </thead>\n",
       "  <tbody>\n",
       "    <tr>\n",
       "      <th>387</th>\n",
       "      <td>387</td>\n",
       "      <td>0.500000</td>\n",
       "    </tr>\n",
       "    <tr>\n",
       "      <th>235</th>\n",
       "      <td>235</td>\n",
       "      <td>0.461538</td>\n",
       "    </tr>\n",
       "    <tr>\n",
       "      <th>270</th>\n",
       "      <td>270</td>\n",
       "      <td>0.428571</td>\n",
       "    </tr>\n",
       "    <tr>\n",
       "      <th>399</th>\n",
       "      <td>399</td>\n",
       "      <td>0.384615</td>\n",
       "    </tr>\n",
       "    <tr>\n",
       "      <th>415</th>\n",
       "      <td>415</td>\n",
       "      <td>0.375000</td>\n",
       "    </tr>\n",
       "    <tr>\n",
       "      <th>...</th>\n",
       "      <td>...</td>\n",
       "      <td>...</td>\n",
       "    </tr>\n",
       "    <tr>\n",
       "      <th>362</th>\n",
       "      <td>362</td>\n",
       "      <td>0.000000</td>\n",
       "    </tr>\n",
       "    <tr>\n",
       "      <th>365</th>\n",
       "      <td>365</td>\n",
       "      <td>0.000000</td>\n",
       "    </tr>\n",
       "    <tr>\n",
       "      <th>396</th>\n",
       "      <td>396</td>\n",
       "      <td>0.000000</td>\n",
       "    </tr>\n",
       "    <tr>\n",
       "      <th>374</th>\n",
       "      <td>374</td>\n",
       "      <td>0.000000</td>\n",
       "    </tr>\n",
       "    <tr>\n",
       "      <th>416</th>\n",
       "      <td>416</td>\n",
       "      <td>0.000000</td>\n",
       "    </tr>\n",
       "  </tbody>\n",
       "</table>\n",
       "<p>417 rows × 2 columns</p>\n",
       "</div>"
      ],
      "text/plain": [
       "     org_id   adopted\n",
       "387     387  0.500000\n",
       "235     235  0.461538\n",
       "270     270  0.428571\n",
       "399     399  0.384615\n",
       "415     415  0.375000\n",
       "..      ...       ...\n",
       "362     362  0.000000\n",
       "365     365  0.000000\n",
       "396     396  0.000000\n",
       "374     374  0.000000\n",
       "416     416  0.000000\n",
       "\n",
       "[417 rows x 2 columns]"
      ]
     },
     "execution_count": 16,
     "metadata": {},
     "output_type": "execute_result"
    }
   ],
   "source": [
    "users[['org_id', 'adopted']].groupby(['org_id'], as_index=False).mean().sort_values(by='adopted', ascending=False)"
   ]
  },
  {
   "cell_type": "markdown",
   "id": "8ecc3193",
   "metadata": {
    "papermill": {
     "duration": 0.014921,
     "end_time": "2023-02-21T20:40:59.845636",
     "exception": false,
     "start_time": "2023-02-21T20:40:59.830715",
     "status": "completed"
    },
    "tags": []
   },
   "source": [
    "We can see here that some of our assumptions held: invite and being part of a particular org led to greater adoption."
   ]
  },
  {
   "cell_type": "markdown",
   "id": "ab043010",
   "metadata": {
    "execution": {
     "iopub.execute_input": "2023-02-21T18:52:36.296870Z",
     "iopub.status.busy": "2023-02-21T18:52:36.296380Z",
     "iopub.status.idle": "2023-02-21T18:52:36.306580Z",
     "shell.execute_reply": "2023-02-21T18:52:36.304913Z",
     "shell.execute_reply.started": "2023-02-21T18:52:36.296831Z"
    },
    "papermill": {
     "duration": 0.014304,
     "end_time": "2023-02-21T20:40:59.874945",
     "exception": false,
     "start_time": "2023-02-21T20:40:59.860641",
     "status": "completed"
    },
    "tags": []
   },
   "source": [
    "**Analyze By Visualizing Data**\n",
    "\n",
    "Now we continue confirming some of our assumptions by using visualizations to analyze the data.\n",
    "\n",
    "**Correlating Numerical Features**\n",
    "\n",
    "Let us start by understanding correlations between numerical features and our solution goal (adoption).\n",
    "\n",
    "A histogram chart is useful for analyzing continous numerical variables like Age where banding or ranges will help identify useful patterns. The histogram can indicate distribution of samples using automatically defined bins or equally ranged bands. This helps us answer questions relating to specific bands (Did infants have better survival rate?)A histogram chart is useful for analyzing continous numerical variables like Age where banding or ranges will help identify useful patterns. The histogram can indicate distribution of samples using automatically defined bins or equally ranged bands. This helps us answer questions relating to specific bands (Did those who sign up in 2014 have better adoption rate?)\n",
    "\n",
    "Note that x-axis in historgram visualizations represents the count of samples or passengers.Note that x-axis in historgram visualizations represents the count of samples or users."
   ]
  },
  {
   "cell_type": "code",
   "execution_count": 17,
   "id": "75828a8f",
   "metadata": {
    "execution": {
     "iopub.execute_input": "2023-02-21T20:40:59.907290Z",
     "iopub.status.busy": "2023-02-21T20:40:59.906673Z",
     "iopub.status.idle": "2023-02-21T20:41:00.486321Z",
     "shell.execute_reply": "2023-02-21T20:41:00.484851Z"
    },
    "papermill": {
     "duration": 0.599217,
     "end_time": "2023-02-21T20:41:00.489102",
     "exception": false,
     "start_time": "2023-02-21T20:40:59.889885",
     "status": "completed"
    },
    "tags": []
   },
   "outputs": [
    {
     "data": {
      "text/plain": [
       "<seaborn.axisgrid.FacetGrid at 0x7feb8d269550>"
      ]
     },
     "execution_count": 17,
     "metadata": {},
     "output_type": "execute_result"
    },
    {
     "data": {
      "image/png": "[encoded data removed]",
      "text/plain": [
       "<Figure size 600x300 with 2 Axes>"
      ]
     },
     "metadata": {},
     "output_type": "display_data"
    }
   ],
   "source": [
    "g = sns.FacetGrid(users, col='adopted')\n",
    "g.map(plt.hist, 'creation_time_year', bins=20)"
   ]
  },
  {
   "cell_type": "code",
   "execution_count": 18,
   "id": "07755dfb",
   "metadata": {
    "execution": {
     "iopub.execute_input": "2023-02-21T20:41:00.522802Z",
     "iopub.status.busy": "2023-02-21T20:41:00.522321Z",
     "iopub.status.idle": "2023-02-21T20:41:01.052994Z",
     "shell.execute_reply": "2023-02-21T20:41:01.051698Z"
    },
    "papermill": {
     "duration": 0.550861,
     "end_time": "2023-02-21T20:41:01.055799",
     "exception": false,
     "start_time": "2023-02-21T20:41:00.504938",
     "status": "completed"
    },
    "tags": []
   },
   "outputs": [
    {
     "data": {
      "text/plain": [
       "<seaborn.axisgrid.FacetGrid at 0x7feb8d117b50>"
      ]
     },
     "execution_count": 18,
     "metadata": {},
     "output_type": "execute_result"
    },
    {
     "data": {
      "image/png": "[encoded data removed]",
      "text/plain": [
       "<Figure size 600x300 with 2 Axes>"
      ]
     },
     "metadata": {},
     "output_type": "display_data"
    }
   ],
   "source": [
    "g = sns.FacetGrid(users, col='adopted')\n",
    "g.map(plt.hist, 'creation_time_month', bins=20)"
   ]
  },
  {
   "cell_type": "code",
   "execution_count": 19,
   "id": "910e8db2",
   "metadata": {
    "execution": {
     "iopub.execute_input": "2023-02-21T20:41:01.090921Z",
     "iopub.status.busy": "2023-02-21T20:41:01.090483Z",
     "iopub.status.idle": "2023-02-21T20:41:01.601980Z",
     "shell.execute_reply": "2023-02-21T20:41:01.600865Z"
    },
    "papermill": {
     "duration": 0.532805,
     "end_time": "2023-02-21T20:41:01.604817",
     "exception": false,
     "start_time": "2023-02-21T20:41:01.072012",
     "status": "completed"
    },
    "tags": []
   },
   "outputs": [
    {
     "data": {
      "text/plain": [
       "<seaborn.axisgrid.FacetGrid at 0x7feb8d0c8c90>"
      ]
     },
     "execution_count": 19,
     "metadata": {},
     "output_type": "execute_result"
    },
    {
     "data": {
      "image/png": "[encoded data removed]",
      "text/plain": [
       "<Figure size 600x300 with 2 Axes>"
      ]
     },
     "metadata": {},
     "output_type": "display_data"
    }
   ],
   "source": [
    "g = sns.FacetGrid(users, col='adopted')\n",
    "g.map(plt.hist, 'creation_time_dow', bins=20)"
   ]
  },
  {
   "cell_type": "code",
   "execution_count": 20,
   "id": "05f65203",
   "metadata": {
    "execution": {
     "iopub.execute_input": "2023-02-21T20:41:01.641086Z",
     "iopub.status.busy": "2023-02-21T20:41:01.639872Z",
     "iopub.status.idle": "2023-02-21T20:41:02.176901Z",
     "shell.execute_reply": "2023-02-21T20:41:02.175776Z"
    },
    "papermill": {
     "duration": 0.557922,
     "end_time": "2023-02-21T20:41:02.179626",
     "exception": false,
     "start_time": "2023-02-21T20:41:01.621704",
     "status": "completed"
    },
    "tags": []
   },
   "outputs": [
    {
     "data": {
      "text/plain": [
       "<seaborn.axisgrid.FacetGrid at 0x7feb8ce26090>"
      ]
     },
     "execution_count": 20,
     "metadata": {},
     "output_type": "execute_result"
    },
    {
     "data": {
      "image/png": "[encoded data removed]",
      "text/plain": [
       "<Figure size 600x300 with 2 Axes>"
      ]
     },
     "metadata": {},
     "output_type": "display_data"
    }
   ],
   "source": [
    "g = sns.FacetGrid(users, col='adopted')\n",
    "g.map(plt.hist, 'last_session_creation_time_year', bins=20)"
   ]
  },
  {
   "cell_type": "code",
   "execution_count": 21,
   "id": "e26ae96d",
   "metadata": {
    "execution": {
     "iopub.execute_input": "2023-02-21T20:41:02.215247Z",
     "iopub.status.busy": "2023-02-21T20:41:02.214812Z",
     "iopub.status.idle": "2023-02-21T20:41:02.759110Z",
     "shell.execute_reply": "2023-02-21T20:41:02.757991Z"
    },
    "papermill": {
     "duration": 0.565039,
     "end_time": "2023-02-21T20:41:02.761626",
     "exception": false,
     "start_time": "2023-02-21T20:41:02.196587",
     "status": "completed"
    },
    "tags": []
   },
   "outputs": [
    {
     "data": {
      "text/plain": [
       "<seaborn.axisgrid.FacetGrid at 0x7feb8ccfb250>"
      ]
     },
     "execution_count": 21,
     "metadata": {},
     "output_type": "execute_result"
    },
    {
     "data": {
      "image/png": "[encoded data removed]",
      "text/plain": [
       "<Figure size 600x300 with 2 Axes>"
      ]
     },
     "metadata": {},
     "output_type": "display_data"
    }
   ],
   "source": [
    "g = sns.FacetGrid(users, col='adopted')\n",
    "g.map(plt.hist, 'last_session_creation_time_month', bins=20)"
   ]
  },
  {
   "cell_type": "code",
   "execution_count": 22,
   "id": "33875b70",
   "metadata": {
    "execution": {
     "iopub.execute_input": "2023-02-21T20:41:02.797795Z",
     "iopub.status.busy": "2023-02-21T20:41:02.797397Z",
     "iopub.status.idle": "2023-02-21T20:41:03.295872Z",
     "shell.execute_reply": "2023-02-21T20:41:03.294703Z"
    },
    "papermill": {
     "duration": 0.5198,
     "end_time": "2023-02-21T20:41:03.298419",
     "exception": false,
     "start_time": "2023-02-21T20:41:02.778619",
     "status": "completed"
    },
    "tags": []
   },
   "outputs": [
    {
     "data": {
      "text/plain": [
       "<seaborn.axisgrid.FacetGrid at 0x7feb8c58d710>"
      ]
     },
     "execution_count": 22,
     "metadata": {},
     "output_type": "execute_result"
    },
    {
     "data": {
      "image/png": "[encoded data removed]",
      "text/plain": [
       "<Figure size 600x300 with 2 Axes>"
      ]
     },
     "metadata": {},
     "output_type": "display_data"
    }
   ],
   "source": [
    "g = sns.FacetGrid(users, col='adopted')\n",
    "g.map(plt.hist, 'last_session_creation_time_dow', bins=20)"
   ]
  },
  {
   "cell_type": "markdown",
   "id": "9d0491b8",
   "metadata": {
    "papermill": {
     "duration": 0.016855,
     "end_time": "2023-02-21T20:41:03.332621",
     "exception": false,
     "start_time": "2023-02-21T20:41:03.315766",
     "status": "completed"
    },
    "tags": []
   },
   "source": [
    "**Observations**\n",
    "\n",
    "* We can see initially that many last sessions were in May/June for adopted, but the June one sticks out because it differs from the non-adopted group. \n",
    "* And that there is a rise in last sessions starting on Monday and peaking on Wednesday and tapering off after that for adopters.\n",
    "* This last point is significant since Asana is a day-to-day product and tracking activity at this level gives greater insight into stickiness.\n",
    "\n",
    "**Decisions**\n",
    "\n",
    "This simple analysis confirms our assumptions for subsequent workflow stages. The following should be considered in model training if needed.\n",
    "\n",
    "* org_id\n",
    "* maybe creation_source\n",
    "* last_session_creation_time_dow"
   ]
  },
  {
   "cell_type": "markdown",
   "id": "8dd15f2f",
   "metadata": {
    "papermill": {
     "duration": 0.016856,
     "end_time": "2023-02-21T20:41:03.366736",
     "exception": false,
     "start_time": "2023-02-21T20:41:03.349880",
     "status": "completed"
    },
    "tags": []
   },
   "source": []
  },
  {
   "cell_type": "markdown",
   "id": "8d3041dc",
   "metadata": {
    "papermill": {
     "duration": 0.017207,
     "end_time": "2023-02-21T20:41:03.401247",
     "exception": false,
     "start_time": "2023-02-21T20:41:03.384040",
     "status": "completed"
    },
    "tags": []
   },
   "source": [
    "**Correlating numerical and ordinal features**\n",
    "\n",
    "We can combine multiple features for identifying correaltions using a single plot. THis can be done with numerical and categorical features which have numeric values."
   ]
  },
  {
   "cell_type": "code",
   "execution_count": 23,
   "id": "5bbaa38d",
   "metadata": {
    "execution": {
     "iopub.execute_input": "2023-02-21T20:41:03.438305Z",
     "iopub.status.busy": "2023-02-21T20:41:03.437224Z",
     "iopub.status.idle": "2023-02-21T20:41:04.678622Z",
     "shell.execute_reply": "2023-02-21T20:41:04.677437Z"
    },
    "papermill": {
     "duration": 1.262657,
     "end_time": "2023-02-21T20:41:04.681259",
     "exception": false,
     "start_time": "2023-02-21T20:41:03.418602",
     "status": "completed"
    },
    "tags": []
   },
   "outputs": [
    {
     "data": {
      "image/png": "[encoded data removed]",
      "text/plain": [
       "<Figure size 715.111x440 with 4 Axes>"
      ]
     },
     "metadata": {},
     "output_type": "display_data"
    }
   ],
   "source": [
    "grid = sns.FacetGrid(users, col='adopted', row='enabled_for_marketing_drip', height=2.2, aspect=1.6)\n",
    "grid.map(plt.hist, 'last_session_creation_time_dow', alpha=.5, bins=20)\n",
    "grid.add_legend();"
   ]
  },
  {
   "cell_type": "code",
   "execution_count": 24,
   "id": "fe097106",
   "metadata": {
    "execution": {
     "iopub.execute_input": "2023-02-21T20:41:04.720473Z",
     "iopub.status.busy": "2023-02-21T20:41:04.720045Z",
     "iopub.status.idle": "2023-02-21T20:41:05.815010Z",
     "shell.execute_reply": "2023-02-21T20:41:05.813769Z"
    },
    "papermill": {
     "duration": 1.117231,
     "end_time": "2023-02-21T20:41:05.817479",
     "exception": false,
     "start_time": "2023-02-21T20:41:04.700248",
     "status": "completed"
    },
    "tags": []
   },
   "outputs": [
    {
     "data": {
      "image/png": "[encoded data removed]",
      "text/plain": [
       "<Figure size 715.111x440 with 4 Axes>"
      ]
     },
     "metadata": {},
     "output_type": "display_data"
    }
   ],
   "source": [
    "grid = sns.FacetGrid(users, col='adopted', row='opted_in_to_mailing_list', height=2.2, aspect=1.6)\n",
    "grid.map(plt.hist, 'last_session_creation_time_dow', alpha=.5, bins=20)\n",
    "grid.add_legend();"
   ]
  },
  {
   "cell_type": "markdown",
   "id": "eb4b5901",
   "metadata": {
    "papermill": {
     "duration": 0.018463,
     "end_time": "2023-02-21T20:41:05.854561",
     "exception": false,
     "start_time": "2023-02-21T20:41:05.836098",
     "status": "completed"
    },
    "tags": []
   },
   "source": [
    "**Observations**\n",
    "\n",
    "* Most users who did not sign up for mailing list did not adopt.\n",
    "* Marketing drip did not improve adoption.\n",
    "* This is the same for those who had option to be part of mailing list. Most people are not part of it and having mailing list did not improve adoption.\n",
    "\n",
    "**Decisions**\n",
    "* Do not consider these as influencing adoption."
   ]
  },
  {
   "cell_type": "code",
   "execution_count": null,
   "id": "e0c2606a",
   "metadata": {
    "papermill": {
     "duration": 0.018436,
     "end_time": "2023-02-21T20:41:05.892015",
     "exception": false,
     "start_time": "2023-02-21T20:41:05.873579",
     "status": "completed"
    },
    "tags": []
   },
   "outputs": [],
   "source": []
  },
  {
   "cell_type": "code",
   "execution_count": null,
   "id": "70e30537",
   "metadata": {
    "papermill": {
     "duration": 0.01893,
     "end_time": "2023-02-21T20:41:05.929782",
     "exception": false,
     "start_time": "2023-02-21T20:41:05.910852",
     "status": "completed"
    },
    "tags": []
   },
   "outputs": [],
   "source": []
  },
  {
   "cell_type": "markdown",
   "id": "e39722ef",
   "metadata": {
    "papermill": {
     "duration": 0.018153,
     "end_time": "2023-02-21T20:41:05.966547",
     "exception": false,
     "start_time": "2023-02-21T20:41:05.948394",
     "status": "completed"
    },
    "tags": []
   },
   "source": [
    "**candidates:**\n",
    "* creation_time_dow\n",
    "* last_session_creation_time_dow\n",
    "* opted_in_to_mailing_list\n",
    "* enabled_for_marketing_drip\n",
    "* org_id\n",
    "* invited_by_user_id"
   ]
  },
  {
   "cell_type": "code",
   "execution_count": null,
   "id": "d6233503",
   "metadata": {
    "papermill": {
     "duration": 0.01894,
     "end_time": "2023-02-21T20:41:06.004697",
     "exception": false,
     "start_time": "2023-02-21T20:41:05.985757",
     "status": "completed"
    },
    "tags": []
   },
   "outputs": [],
   "source": []
  },
  {
   "cell_type": "code",
   "execution_count": null,
   "id": "d4a3bb10",
   "metadata": {
    "papermill": {
     "duration": 0.018311,
     "end_time": "2023-02-21T20:41:06.041670",
     "exception": false,
     "start_time": "2023-02-21T20:41:06.023359",
     "status": "completed"
    },
    "tags": []
   },
   "outputs": [],
   "source": []
  },
  {
   "cell_type": "code",
   "execution_count": null,
   "id": "b0037895",
   "metadata": {
    "papermill": {
     "duration": 0.018936,
     "end_time": "2023-02-21T20:41:06.079722",
     "exception": false,
     "start_time": "2023-02-21T20:41:06.060786",
     "status": "completed"
    },
    "tags": []
   },
   "outputs": [],
   "source": []
  },
  {
   "cell_type": "code",
   "execution_count": null,
   "id": "4d28a154",
   "metadata": {
    "papermill": {
     "duration": 0.018156,
     "end_time": "2023-02-21T20:41:06.116587",
     "exception": false,
     "start_time": "2023-02-21T20:41:06.098431",
     "status": "completed"
    },
    "tags": []
   },
   "outputs": [],
   "source": []
  },
  {
   "cell_type": "code",
   "execution_count": null,
   "id": "5c245324",
   "metadata": {
    "papermill": {
     "duration": 0.018199,
     "end_time": "2023-02-21T20:41:06.153833",
     "exception": false,
     "start_time": "2023-02-21T20:41:06.135634",
     "status": "completed"
    },
    "tags": []
   },
   "outputs": [],
   "source": []
  }
 ],
 "metadata": {
  "kernelspec": {
   "display_name": "Python 3",
   "language": "python",
   "name": "python3"
  },
  "language_info": {
   "codemirror_mode": {
    "name": "ipython",
    "version": 3
   },
   "file_extension": ".py",
   "mimetype": "text/x-python",
   "name": "python",
   "nbconvert_exporter": "python",
   "pygments_lexer": "ipython3",
   "version": "3.7.12"
  },
  "papermill": {
   "default_parameters": {},
   "duration": 18.923505,
   "end_time": "2023-02-21T20:41:06.996309",
   "environment_variables": {},
   "exception": null,
   "input_path": "__notebook__.ipynb",
   "output_path": "__notebook__.ipynb",
   "parameters": {},
   "start_time": "2023-02-21T20:40:48.072804",
   "version": "2.3.4"
  }
 },
 "nbformat": 4,
 "nbformat_minor": 5
}
