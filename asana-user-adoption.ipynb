{
 "cells": [
  {
   "cell_type": "code",
   "execution_count": 1,
   "id": "36a4ec4f",
   "metadata": {
    "_cell_guid": "b1076dfc-b9ad-4769-8c92-a6c4dae69d19",
    "_uuid": "8f2839f25d086af736a60e9eeb907d3b93b6e0e5",
    "execution": {
     "iopub.execute_input": "2023-02-20T06:12:13.789628Z",
     "iopub.status.busy": "2023-02-20T06:12:13.789146Z",
     "iopub.status.idle": "2023-02-20T06:12:13.799620Z",
     "shell.execute_reply": "2023-02-20T06:12:13.798658Z"
    },
    "papermill": {
     "duration": 0.022495,
     "end_time": "2023-02-20T06:12:13.802093",
     "exception": false,
     "start_time": "2023-02-20T06:12:13.779598",
     "status": "completed"
    },
    "tags": []
   },
   "outputs": [],
   "source": [
    "import numpy as np\n",
    "import pandas as pd"
   ]
  },
  {
   "cell_type": "markdown",
   "id": "9c6c5508",
   "metadata": {
    "papermill": {
     "duration": 0.003329,
     "end_time": "2023-02-20T06:12:13.809169",
     "exception": false,
     "start_time": "2023-02-20T06:12:13.805840",
     "status": "completed"
    },
    "tags": []
   },
   "source": [
    "# Prompt: \n",
    "\n",
    "### Defining an \"adopted user\" as a user who has logged into the product on three separate days in at least one seven-day period, \n",
    "### identify which factors predict future user adoption."
   ]
  },
  {
   "cell_type": "markdown",
   "id": "41487ea2",
   "metadata": {
    "papermill": {
     "duration": 0.003213,
     "end_time": "2023-02-20T06:12:13.815793",
     "exception": false,
     "start_time": "2023-02-20T06:12:13.812580",
     "status": "completed"
    },
    "tags": []
   },
   "source": [
    "Strategy:\n",
    "\n",
    "1. Get the data\n",
    "2. First segment the adopted based on business definition\n",
    "3. Then use correlation matrix to see which features have best signal for adoption\n",
    "4. Make new features to get better signal for adoption?"
   ]
  },
  {
   "cell_type": "markdown",
   "id": "13fd450a",
   "metadata": {
    "execution": {
     "iopub.execute_input": "2023-02-19T01:58:06.863951Z",
     "iopub.status.busy": "2023-02-19T01:58:06.863529Z",
     "iopub.status.idle": "2023-02-19T01:58:06.870201Z",
     "shell.execute_reply": "2023-02-19T01:58:06.868066Z",
     "shell.execute_reply.started": "2023-02-19T01:58:06.863916Z"
    },
    "papermill": {
     "duration": 0.003214,
     "end_time": "2023-02-20T06:12:13.822394",
     "exception": false,
     "start_time": "2023-02-20T06:12:13.819180",
     "status": "completed"
    },
    "tags": []
   },
   "source": [
    "# Data\n",
    "\n",
    "## Dictionary:\n",
    "Users table with data on 12,000 users who signed up for the product in the last two years.  This table includes: \n",
    "* name: the user's name\n",
    "-object_id: the user's id\n",
    "-email: email address \n",
    "-creation_source: how their account was created. This takes on one of 5 values:\n",
    "\tPERSONAL_PROJECTS: invited to join another user's personal workspace\n",
    "\tGUEST_INVITE: invited to an organization as a guest (limited permissions)\n",
    "\tORG_INVITE: invited to an organization (as a full member)\n",
    "\tSIGNUP: signed up via asana.com\n",
    "\tSIGNUP_GOOGLE_AUTH: signed up using Google Authentication (using a Google email account for their login id)\n",
    "-creation_time: when they created their account\n",
    "-last_session_creation_time: unix timestamp of last login\n",
    "-opted_in_to_mailing_list: whether they have opted into receiving marketing emails\n",
    "-enabled_for_marketing_drip: whether they are on the regular marketing email drip\n",
    "-org_id: the organization (group of users) they belong to\n",
    "-invited_by_user_id: which user invited them to join (if applicable).\n",
    "\n",
    "A usage summary user engagement table that has a row for each day that a user logged into the product. "
   ]
  },
  {
   "cell_type": "code",
   "execution_count": 2,
   "id": "2d90caee",
   "metadata": {
    "execution": {
     "iopub.execute_input": "2023-02-20T06:12:13.831019Z",
     "iopub.status.busy": "2023-02-20T06:12:13.830620Z",
     "iopub.status.idle": "2023-02-20T06:12:14.183825Z",
     "shell.execute_reply": "2023-02-20T06:12:14.182695Z"
    },
    "papermill": {
     "duration": 0.360726,
     "end_time": "2023-02-20T06:12:14.186476",
     "exception": false,
     "start_time": "2023-02-20T06:12:13.825750",
     "status": "completed"
    },
    "tags": []
   },
   "outputs": [],
   "source": [
    "users = pd.read_csv('/kaggle/input/relax-datachallenge/takehome_users.csv', encoding='latin_1')\n",
    "user_engagement = pd.read_csv('/kaggle/input/relax-datachallenge/takehome_user_engagement.csv', encoding='latin_1')"
   ]
  },
  {
   "cell_type": "code",
   "execution_count": 3,
   "id": "f4048f1d",
   "metadata": {
    "execution": {
     "iopub.execute_input": "2023-02-20T06:12:14.195707Z",
     "iopub.status.busy": "2023-02-20T06:12:14.195257Z",
     "iopub.status.idle": "2023-02-20T06:12:14.218518Z",
     "shell.execute_reply": "2023-02-20T06:12:14.217749Z"
    },
    "papermill": {
     "duration": 0.031231,
     "end_time": "2023-02-20T06:12:14.221661",
     "exception": false,
     "start_time": "2023-02-20T06:12:14.190430",
     "status": "completed"
    },
    "tags": []
   },
   "outputs": [
    {
     "data": {
      "text/html": [
       "<div>\n",
       "<style scoped>\n",
       "    .dataframe tbody tr th:only-of-type {\n",
       "        vertical-align: middle;\n",
       "    }\n",
       "\n",
       "    .dataframe tbody tr th {\n",
       "        vertical-align: top;\n",
       "    }\n",
       "\n",
       "    .dataframe thead th {\n",
       "        text-align: right;\n",
       "    }\n",
       "</style>\n",
       "<table border=\"1\" class=\"dataframe\">\n",
       "  <thead>\n",
       "    <tr style=\"text-align: right;\">\n",
       "      <th></th>\n",
       "      <th>object_id</th>\n",
       "      <th>creation_time</th>\n",
       "      <th>name</th>\n",
       "      <th>email</th>\n",
       "      <th>creation_source</th>\n",
       "      <th>last_session_creation_time</th>\n",
       "      <th>opted_in_to_mailing_list</th>\n",
       "      <th>enabled_for_marketing_drip</th>\n",
       "      <th>org_id</th>\n",
       "      <th>invited_by_user_id</th>\n",
       "    </tr>\n",
       "  </thead>\n",
       "  <tbody>\n",
       "    <tr>\n",
       "      <th>0</th>\n",
       "      <td>1</td>\n",
       "      <td>2014-04-22 03:53:30</td>\n",
       "      <td>Clausen August</td>\n",
       "      <td>AugustCClausen@yahoo.com</td>\n",
       "      <td>GUEST_INVITE</td>\n",
       "      <td>1.398139e+09</td>\n",
       "      <td>1</td>\n",
       "      <td>0</td>\n",
       "      <td>11</td>\n",
       "      <td>10803.0</td>\n",
       "    </tr>\n",
       "    <tr>\n",
       "      <th>1</th>\n",
       "      <td>2</td>\n",
       "      <td>2013-11-15 03:45:04</td>\n",
       "      <td>Poole Matthew</td>\n",
       "      <td>MatthewPoole@gustr.com</td>\n",
       "      <td>ORG_INVITE</td>\n",
       "      <td>1.396238e+09</td>\n",
       "      <td>0</td>\n",
       "      <td>0</td>\n",
       "      <td>1</td>\n",
       "      <td>316.0</td>\n",
       "    </tr>\n",
       "    <tr>\n",
       "      <th>2</th>\n",
       "      <td>3</td>\n",
       "      <td>2013-03-19 23:14:52</td>\n",
       "      <td>Bottrill Mitchell</td>\n",
       "      <td>MitchellBottrill@gustr.com</td>\n",
       "      <td>ORG_INVITE</td>\n",
       "      <td>1.363735e+09</td>\n",
       "      <td>0</td>\n",
       "      <td>0</td>\n",
       "      <td>94</td>\n",
       "      <td>1525.0</td>\n",
       "    </tr>\n",
       "    <tr>\n",
       "      <th>3</th>\n",
       "      <td>4</td>\n",
       "      <td>2013-05-21 08:09:28</td>\n",
       "      <td>Clausen Nicklas</td>\n",
       "      <td>NicklasSClausen@yahoo.com</td>\n",
       "      <td>GUEST_INVITE</td>\n",
       "      <td>1.369210e+09</td>\n",
       "      <td>0</td>\n",
       "      <td>0</td>\n",
       "      <td>1</td>\n",
       "      <td>5151.0</td>\n",
       "    </tr>\n",
       "    <tr>\n",
       "      <th>4</th>\n",
       "      <td>5</td>\n",
       "      <td>2013-01-17 10:14:20</td>\n",
       "      <td>Raw Grace</td>\n",
       "      <td>GraceRaw@yahoo.com</td>\n",
       "      <td>GUEST_INVITE</td>\n",
       "      <td>1.358850e+09</td>\n",
       "      <td>0</td>\n",
       "      <td>0</td>\n",
       "      <td>193</td>\n",
       "      <td>5240.0</td>\n",
       "    </tr>\n",
       "  </tbody>\n",
       "</table>\n",
       "</div>"
      ],
      "text/plain": [
       "   object_id        creation_time               name  \\\n",
       "0          1  2014-04-22 03:53:30     Clausen August   \n",
       "1          2  2013-11-15 03:45:04      Poole Matthew   \n",
       "2          3  2013-03-19 23:14:52  Bottrill Mitchell   \n",
       "3          4  2013-05-21 08:09:28    Clausen Nicklas   \n",
       "4          5  2013-01-17 10:14:20          Raw Grace   \n",
       "\n",
       "                        email creation_source  last_session_creation_time  \\\n",
       "0    AugustCClausen@yahoo.com    GUEST_INVITE                1.398139e+09   \n",
       "1      MatthewPoole@gustr.com      ORG_INVITE                1.396238e+09   \n",
       "2  MitchellBottrill@gustr.com      ORG_INVITE                1.363735e+09   \n",
       "3   NicklasSClausen@yahoo.com    GUEST_INVITE                1.369210e+09   \n",
       "4          GraceRaw@yahoo.com    GUEST_INVITE                1.358850e+09   \n",
       "\n",
       "   opted_in_to_mailing_list  enabled_for_marketing_drip  org_id  \\\n",
       "0                         1                           0      11   \n",
       "1                         0                           0       1   \n",
       "2                         0                           0      94   \n",
       "3                         0                           0       1   \n",
       "4                         0                           0     193   \n",
       "\n",
       "   invited_by_user_id  \n",
       "0             10803.0  \n",
       "1               316.0  \n",
       "2              1525.0  \n",
       "3              5151.0  \n",
       "4              5240.0  "
      ]
     },
     "execution_count": 3,
     "metadata": {},
     "output_type": "execute_result"
    }
   ],
   "source": [
    "users.head()"
   ]
  },
  {
   "cell_type": "code",
   "execution_count": 4,
   "id": "7b9387fe",
   "metadata": {
    "execution": {
     "iopub.execute_input": "2023-02-20T06:12:14.231549Z",
     "iopub.status.busy": "2023-02-20T06:12:14.231139Z",
     "iopub.status.idle": "2023-02-20T06:12:14.241326Z",
     "shell.execute_reply": "2023-02-20T06:12:14.240270Z"
    },
    "papermill": {
     "duration": 0.017991,
     "end_time": "2023-02-20T06:12:14.243835",
     "exception": false,
     "start_time": "2023-02-20T06:12:14.225844",
     "status": "completed"
    },
    "tags": []
   },
   "outputs": [
    {
     "data": {
      "text/html": [
       "<div>\n",
       "<style scoped>\n",
       "    .dataframe tbody tr th:only-of-type {\n",
       "        vertical-align: middle;\n",
       "    }\n",
       "\n",
       "    .dataframe tbody tr th {\n",
       "        vertical-align: top;\n",
       "    }\n",
       "\n",
       "    .dataframe thead th {\n",
       "        text-align: right;\n",
       "    }\n",
       "</style>\n",
       "<table border=\"1\" class=\"dataframe\">\n",
       "  <thead>\n",
       "    <tr style=\"text-align: right;\">\n",
       "      <th></th>\n",
       "      <th>time_stamp</th>\n",
       "      <th>user_id</th>\n",
       "      <th>visited</th>\n",
       "    </tr>\n",
       "  </thead>\n",
       "  <tbody>\n",
       "    <tr>\n",
       "      <th>0</th>\n",
       "      <td>2014-04-22 03:53:30</td>\n",
       "      <td>1</td>\n",
       "      <td>1</td>\n",
       "    </tr>\n",
       "    <tr>\n",
       "      <th>1</th>\n",
       "      <td>2013-11-15 03:45:04</td>\n",
       "      <td>2</td>\n",
       "      <td>1</td>\n",
       "    </tr>\n",
       "    <tr>\n",
       "      <th>2</th>\n",
       "      <td>2013-11-29 03:45:04</td>\n",
       "      <td>2</td>\n",
       "      <td>1</td>\n",
       "    </tr>\n",
       "    <tr>\n",
       "      <th>3</th>\n",
       "      <td>2013-12-09 03:45:04</td>\n",
       "      <td>2</td>\n",
       "      <td>1</td>\n",
       "    </tr>\n",
       "    <tr>\n",
       "      <th>4</th>\n",
       "      <td>2013-12-25 03:45:04</td>\n",
       "      <td>2</td>\n",
       "      <td>1</td>\n",
       "    </tr>\n",
       "  </tbody>\n",
       "</table>\n",
       "</div>"
      ],
      "text/plain": [
       "            time_stamp  user_id  visited\n",
       "0  2014-04-22 03:53:30        1        1\n",
       "1  2013-11-15 03:45:04        2        1\n",
       "2  2013-11-29 03:45:04        2        1\n",
       "3  2013-12-09 03:45:04        2        1\n",
       "4  2013-12-25 03:45:04        2        1"
      ]
     },
     "execution_count": 4,
     "metadata": {},
     "output_type": "execute_result"
    }
   ],
   "source": [
    "user_engagement.head()"
   ]
  },
  {
   "cell_type": "markdown",
   "id": "f5b01be9",
   "metadata": {
    "papermill": {
     "duration": 0.003895,
     "end_time": "2023-02-20T06:12:14.251957",
     "exception": false,
     "start_time": "2023-02-20T06:12:14.248062",
     "status": "completed"
    },
    "tags": []
   },
   "source": [
    "1. get the week for each timestamp\n",
    "2. then count each week per user_id\n",
    "3. filter on >=3 engagements for each week for each user as adopted"
   ]
  },
  {
   "cell_type": "markdown",
   "id": "f618c739",
   "metadata": {
    "papermill": {
     "duration": 0.003687,
     "end_time": "2023-02-20T06:12:14.259880",
     "exception": false,
     "start_time": "2023-02-20T06:12:14.256193",
     "status": "completed"
    },
    "tags": []
   },
   "source": [
    "Loaded users and user engagement tables into Postgres. Got adopted users based on business definition and joined back to users. With resultant table, got user information as well as those who adopted/not adopted the product."
   ]
  },
  {
   "cell_type": "code",
   "execution_count": 5,
   "id": "f6187223",
   "metadata": {
    "execution": {
     "iopub.execute_input": "2023-02-20T06:12:14.269742Z",
     "iopub.status.busy": "2023-02-20T06:12:14.268959Z",
     "iopub.status.idle": "2023-02-20T06:12:14.372608Z",
     "shell.execute_reply": "2023-02-20T06:12:14.371429Z"
    },
    "papermill": {
     "duration": 0.111333,
     "end_time": "2023-02-20T06:12:14.375053",
     "exception": false,
     "start_time": "2023-02-20T06:12:14.263720",
     "status": "completed"
    },
    "tags": []
   },
   "outputs": [
    {
     "data": {
      "text/html": [
       "<div>\n",
       "<style scoped>\n",
       "    .dataframe tbody tr th:only-of-type {\n",
       "        vertical-align: middle;\n",
       "    }\n",
       "\n",
       "    .dataframe tbody tr th {\n",
       "        vertical-align: top;\n",
       "    }\n",
       "\n",
       "    .dataframe thead th {\n",
       "        text-align: right;\n",
       "    }\n",
       "</style>\n",
       "<table border=\"1\" class=\"dataframe\">\n",
       "  <thead>\n",
       "    <tr style=\"text-align: right;\">\n",
       "      <th></th>\n",
       "      <th>user_id</th>\n",
       "      <th>creation_time</th>\n",
       "      <th>creation_time_date</th>\n",
       "      <th>creation_time_year</th>\n",
       "      <th>creation_time_month</th>\n",
       "      <th>creation_time_dow</th>\n",
       "      <th>name</th>\n",
       "      <th>email</th>\n",
       "      <th>creation_source</th>\n",
       "      <th>last_session_creation_time</th>\n",
       "      <th>last_session_creation_time_year</th>\n",
       "      <th>last_session_creation_time_month</th>\n",
       "      <th>last_session_creation_time_dow</th>\n",
       "      <th>opted_in_to_mailing_list</th>\n",
       "      <th>enabled_for_marketing_drip</th>\n",
       "      <th>org_id</th>\n",
       "      <th>invited_by_user_id</th>\n",
       "      <th>adopted</th>\n",
       "    </tr>\n",
       "  </thead>\n",
       "  <tbody>\n",
       "    <tr>\n",
       "      <th>0</th>\n",
       "      <td>2.0</td>\n",
       "      <td>2013-11-15 03:45:04</td>\n",
       "      <td>2013-11-15</td>\n",
       "      <td>2013</td>\n",
       "      <td>11</td>\n",
       "      <td>5</td>\n",
       "      <td>Poole Matthew</td>\n",
       "      <td>MatthewPoole@gustr.com</td>\n",
       "      <td>ORG_INVITE</td>\n",
       "      <td>2014-03-30 20:45:04-07</td>\n",
       "      <td>2014.0</td>\n",
       "      <td>3.0</td>\n",
       "      <td>7.0</td>\n",
       "      <td>0</td>\n",
       "      <td>0</td>\n",
       "      <td>1</td>\n",
       "      <td>316.0</td>\n",
       "      <td>1</td>\n",
       "    </tr>\n",
       "    <tr>\n",
       "      <th>1</th>\n",
       "      <td>10.0</td>\n",
       "      <td>2013-01-16 22:08:03</td>\n",
       "      <td>2013-01-16</td>\n",
       "      <td>2013</td>\n",
       "      <td>1</td>\n",
       "      <td>3</td>\n",
       "      <td>Santos Carla</td>\n",
       "      <td>CarlaFerreiraSantos@gustr.com</td>\n",
       "      <td>ORG_INVITE</td>\n",
       "      <td>2014-06-03 15:08:03-07</td>\n",
       "      <td>2014.0</td>\n",
       "      <td>6.0</td>\n",
       "      <td>2.0</td>\n",
       "      <td>1</td>\n",
       "      <td>1</td>\n",
       "      <td>318</td>\n",
       "      <td>4143.0</td>\n",
       "      <td>1</td>\n",
       "    </tr>\n",
       "    <tr>\n",
       "      <th>2</th>\n",
       "      <td>20.0</td>\n",
       "      <td>2014-03-06 11:46:38</td>\n",
       "      <td>2014-03-06</td>\n",
       "      <td>2014</td>\n",
       "      <td>3</td>\n",
       "      <td>4</td>\n",
       "      <td>Helms Mikayla</td>\n",
       "      <td>lqyvjilf@uhzdq.com</td>\n",
       "      <td>SIGNUP</td>\n",
       "      <td>2014-05-29 04:46:38-07</td>\n",
       "      <td>2014.0</td>\n",
       "      <td>5.0</td>\n",
       "      <td>4.0</td>\n",
       "      <td>0</td>\n",
       "      <td>0</td>\n",
       "      <td>58</td>\n",
       "      <td>NaN</td>\n",
       "      <td>1</td>\n",
       "    </tr>\n",
       "    <tr>\n",
       "      <th>3</th>\n",
       "      <td>33.0</td>\n",
       "      <td>2014-03-11 06:29:09</td>\n",
       "      <td>2014-03-11</td>\n",
       "      <td>2014</td>\n",
       "      <td>3</td>\n",
       "      <td>2</td>\n",
       "      <td>Araujo Josй</td>\n",
       "      <td>JoseMartinsAraujo@cuvox.de</td>\n",
       "      <td>GUEST_INVITE</td>\n",
       "      <td>2014-05-30 23:29:09-07</td>\n",
       "      <td>2014.0</td>\n",
       "      <td>5.0</td>\n",
       "      <td>5.0</td>\n",
       "      <td>0</td>\n",
       "      <td>0</td>\n",
       "      <td>401</td>\n",
       "      <td>79.0</td>\n",
       "      <td>1</td>\n",
       "    </tr>\n",
       "    <tr>\n",
       "      <th>4</th>\n",
       "      <td>42.0</td>\n",
       "      <td>2012-11-11 19:05:07</td>\n",
       "      <td>2012-11-11</td>\n",
       "      <td>2012</td>\n",
       "      <td>11</td>\n",
       "      <td>7</td>\n",
       "      <td>Pinto Giovanna</td>\n",
       "      <td>GiovannaCunhaPinto@cuvox.de</td>\n",
       "      <td>SIGNUP</td>\n",
       "      <td>2014-05-25 12:05:07-07</td>\n",
       "      <td>2014.0</td>\n",
       "      <td>5.0</td>\n",
       "      <td>7.0</td>\n",
       "      <td>1</td>\n",
       "      <td>0</td>\n",
       "      <td>235</td>\n",
       "      <td>NaN</td>\n",
       "      <td>1</td>\n",
       "    </tr>\n",
       "  </tbody>\n",
       "</table>\n",
       "</div>"
      ],
      "text/plain": [
       "   user_id        creation_time creation_time_date  creation_time_year  \\\n",
       "0      2.0  2013-11-15 03:45:04         2013-11-15                2013   \n",
       "1     10.0  2013-01-16 22:08:03         2013-01-16                2013   \n",
       "2     20.0  2014-03-06 11:46:38         2014-03-06                2014   \n",
       "3     33.0  2014-03-11 06:29:09         2014-03-11                2014   \n",
       "4     42.0  2012-11-11 19:05:07         2012-11-11                2012   \n",
       "\n",
       "   creation_time_month  creation_time_dow            name  \\\n",
       "0                   11                  5   Poole Matthew   \n",
       "1                    1                  3    Santos Carla   \n",
       "2                    3                  4   Helms Mikayla   \n",
       "3                    3                  2     Araujo Josй   \n",
       "4                   11                  7  Pinto Giovanna   \n",
       "\n",
       "                           email creation_source last_session_creation_time  \\\n",
       "0         MatthewPoole@gustr.com      ORG_INVITE     2014-03-30 20:45:04-07   \n",
       "1  CarlaFerreiraSantos@gustr.com      ORG_INVITE     2014-06-03 15:08:03-07   \n",
       "2             lqyvjilf@uhzdq.com          SIGNUP     2014-05-29 04:46:38-07   \n",
       "3     JoseMartinsAraujo@cuvox.de    GUEST_INVITE     2014-05-30 23:29:09-07   \n",
       "4    GiovannaCunhaPinto@cuvox.de          SIGNUP     2014-05-25 12:05:07-07   \n",
       "\n",
       "   last_session_creation_time_year  last_session_creation_time_month  \\\n",
       "0                           2014.0                               3.0   \n",
       "1                           2014.0                               6.0   \n",
       "2                           2014.0                               5.0   \n",
       "3                           2014.0                               5.0   \n",
       "4                           2014.0                               5.0   \n",
       "\n",
       "   last_session_creation_time_dow  opted_in_to_mailing_list  \\\n",
       "0                             7.0                         0   \n",
       "1                             2.0                         1   \n",
       "2                             4.0                         0   \n",
       "3                             5.0                         0   \n",
       "4                             7.0                         1   \n",
       "\n",
       "   enabled_for_marketing_drip  org_id  invited_by_user_id  adopted  \n",
       "0                           0       1               316.0        1  \n",
       "1                           1     318              4143.0        1  \n",
       "2                           0      58                 NaN        1  \n",
       "3                           0     401                79.0        1  \n",
       "4                           0     235                 NaN        1  "
      ]
     },
     "execution_count": 5,
     "metadata": {},
     "output_type": "execute_result"
    }
   ],
   "source": [
    "adopted_users = pd.read_csv('/kaggle/input/adopted-users3/adopted_users.csv')\n",
    "adopted_users.head()"
   ]
  },
  {
   "cell_type": "markdown",
   "id": "affb44fd",
   "metadata": {
    "papermill": {
     "duration": 0.004039,
     "end_time": "2023-02-20T06:12:14.383562",
     "exception": false,
     "start_time": "2023-02-20T06:12:14.379523",
     "status": "completed"
    },
    "tags": []
   },
   "source": [
    "To answer the question: which factors predict future user adoption we can look at the data provided and think about other data that we can gather that would help see common customer actions leading to adoption.\n",
    "\n",
    "Look at common engagement metrics for SaaS company.\n",
    "* From this dataset:\n",
    "1. Stickiness\n",
    "1. Virality\n",
    "1. how they got to platform\n",
    "1. adopted come from same org/marketing drip?\n",
    "\n",
    "Outside of this dataset:\n",
    "1. what are they doing in Asana app\n",
    "1. measuring lingering time and giving threshold on what is good/bad lingering time\n",
    "1. specific features being used more vs others\n",
    "1. feature they only use/feature they never use?\n",
    "1. did they return on their own or via a push notification/email\n"
   ]
  },
  {
   "cell_type": "markdown",
   "id": "cb6aea87",
   "metadata": {
    "execution": {
     "iopub.execute_input": "2023-02-20T05:11:17.763398Z",
     "iopub.status.busy": "2023-02-20T05:11:17.762362Z",
     "iopub.status.idle": "2023-02-20T05:11:17.770733Z",
     "shell.execute_reply": "2023-02-20T05:11:17.769694Z",
     "shell.execute_reply.started": "2023-02-20T05:11:17.763332Z"
    },
    "papermill": {
     "duration": 0.003935,
     "end_time": "2023-02-20T06:12:14.391672",
     "exception": false,
     "start_time": "2023-02-20T06:12:14.387737",
     "status": "completed"
    },
    "tags": []
   },
   "source": [
    "# Exploratory Data Analysis "
   ]
  },
  {
   "cell_type": "code",
   "execution_count": null,
   "id": "6ae46d6c",
   "metadata": {
    "papermill": {
     "duration": 0.003839,
     "end_time": "2023-02-20T06:12:14.399669",
     "exception": false,
     "start_time": "2023-02-20T06:12:14.395830",
     "status": "completed"
    },
    "tags": []
   },
   "outputs": [],
   "source": []
  }
 ],
 "metadata": {
  "kernelspec": {
   "display_name": "Python 3",
   "language": "python",
   "name": "python3"
  },
  "language_info": {
   "codemirror_mode": {
    "name": "ipython",
    "version": 3
   },
   "file_extension": ".py",
   "mimetype": "text/x-python",
   "name": "python",
   "nbconvert_exporter": "python",
   "pygments_lexer": "ipython3",
   "version": "3.7.12"
  },
  "papermill": {
   "default_parameters": {},
   "duration": 9.466745,
   "end_time": "2023-02-20T06:12:15.024218",
   "environment_variables": {},
   "exception": null,
   "input_path": "__notebook__.ipynb",
   "output_path": "__notebook__.ipynb",
   "parameters": {},
   "start_time": "2023-02-20T06:12:05.557473",
   "version": "2.3.4"
  }
 },
 "nbformat": 4,
 "nbformat_minor": 5
}
