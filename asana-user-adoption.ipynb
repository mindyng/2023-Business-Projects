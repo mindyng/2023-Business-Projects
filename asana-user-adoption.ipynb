{
 "cells": [
  {
   "cell_type": "code",
   "execution_count": 1,
   "id": "f06d0de7",
   "metadata": {
    "_cell_guid": "b1076dfc-b9ad-4769-8c92-a6c4dae69d19",
    "_uuid": "8f2839f25d086af736a60e9eeb907d3b93b6e0e5",
    "execution": {
     "iopub.execute_input": "2023-02-20T03:01:41.055198Z",
     "iopub.status.busy": "2023-02-20T03:01:41.054340Z",
     "iopub.status.idle": "2023-02-20T03:01:41.064741Z",
     "shell.execute_reply": "2023-02-20T03:01:41.063592Z"
    },
    "papermill": {
     "duration": 0.020821,
     "end_time": "2023-02-20T03:01:41.067200",
     "exception": false,
     "start_time": "2023-02-20T03:01:41.046379",
     "status": "completed"
    },
    "tags": []
   },
   "outputs": [],
   "source": [
    "import numpy as np\n",
    "import pandas as pd"
   ]
  },
  {
   "cell_type": "markdown",
   "id": "df8c6118",
   "metadata": {
    "papermill": {
     "duration": 0.002559,
     "end_time": "2023-02-20T03:01:41.073106",
     "exception": false,
     "start_time": "2023-02-20T03:01:41.070547",
     "status": "completed"
    },
    "tags": []
   },
   "source": [
    "# Prompt: \n",
    "\n",
    "### Defining an \"adopted user\" as a user who has logged into the product on three separate days in at least one seven-day period, identify which factors predict future user adoption."
   ]
  },
  {
   "cell_type": "markdown",
   "id": "43a69100",
   "metadata": {
    "papermill": {
     "duration": 0.002398,
     "end_time": "2023-02-20T03:01:41.078185",
     "exception": false,
     "start_time": "2023-02-20T03:01:41.075787",
     "status": "completed"
    },
    "tags": []
   },
   "source": [
    "Strategy:\n",
    "\n",
    "1. Get the data\n",
    "2. First segment the adopted based on business definition\n",
    "3. Then use correlation matrix to see which features have best signal for adoption\n",
    "4. Make new features to get better signal for adoption?"
   ]
  },
  {
   "cell_type": "markdown",
   "id": "cd3cd3c4",
   "metadata": {
    "execution": {
     "iopub.execute_input": "2023-02-19T01:58:06.863951Z",
     "iopub.status.busy": "2023-02-19T01:58:06.863529Z",
     "iopub.status.idle": "2023-02-19T01:58:06.870201Z",
     "shell.execute_reply": "2023-02-19T01:58:06.868066Z",
     "shell.execute_reply.started": "2023-02-19T01:58:06.863916Z"
    },
    "papermill": {
     "duration": 0.002387,
     "end_time": "2023-02-20T03:01:41.083218",
     "exception": false,
     "start_time": "2023-02-20T03:01:41.080831",
     "status": "completed"
    },
    "tags": []
   },
   "source": [
    "# Data\n",
    "\n",
    "## Dictionary:\n",
    "Users table with data on 12,000 users who signed up for the product in the last two years.  This table includes: \n",
    "* name: the user's name\n",
    "-object_id: the user's id\n",
    "-email: email address \n",
    "-creation_source: how their account was created. This takes on one of 5 values:\n",
    "\tPERSONAL_PROJECTS: invited to join another user's personal workspace\n",
    "\tGUEST_INVITE: invited to an organization as a guest (limited permissions)\n",
    "\tORG_INVITE: invited to an organization (as a full member)\n",
    "\tSIGNUP: signed up via asana.com\n",
    "\tSIGNUP_GOOGLE_AUTH: signed up using Google Authentication (using a Google email account for their login id)\n",
    "-creation_time: when they created their account\n",
    "-last_session_creation_time: unix timestamp of last login\n",
    "-opted_in_to_mailing_list: whether they have opted into receiving marketing emails\n",
    "-enabled_for_marketing_drip: whether they are on the regular marketing email drip\n",
    "-org_id: the organization (group of users) they belong to\n",
    "-invited_by_user_id: which user invited them to join (if applicable).\n",
    "\n",
    "A usage summary user engagement table that has a row for each day that a user logged into the product. "
   ]
  },
  {
   "cell_type": "code",
   "execution_count": 2,
   "id": "874d9039",
   "metadata": {
    "execution": {
     "iopub.execute_input": "2023-02-20T03:01:41.091027Z",
     "iopub.status.busy": "2023-02-20T03:01:41.090368Z",
     "iopub.status.idle": "2023-02-20T03:01:41.379980Z",
     "shell.execute_reply": "2023-02-20T03:01:41.379059Z"
    },
    "papermill": {
     "duration": 0.296322,
     "end_time": "2023-02-20T03:01:41.382212",
     "exception": false,
     "start_time": "2023-02-20T03:01:41.085890",
     "status": "completed"
    },
    "tags": []
   },
   "outputs": [],
   "source": [
    "users = pd.read_csv('/kaggle/input/relax-datachallenge/takehome_users.csv', encoding='latin_1')\n",
    "user_engagement = pd.read_csv('/kaggle/input/relax-datachallenge/takehome_user_engagement.csv', encoding='latin_1')"
   ]
  },
  {
   "cell_type": "code",
   "execution_count": 3,
   "id": "72a430f1",
   "metadata": {
    "execution": {
     "iopub.execute_input": "2023-02-20T03:01:41.389037Z",
     "iopub.status.busy": "2023-02-20T03:01:41.388703Z",
     "iopub.status.idle": "2023-02-20T03:01:41.410554Z",
     "shell.execute_reply": "2023-02-20T03:01:41.409432Z"
    },
    "papermill": {
     "duration": 0.027817,
     "end_time": "2023-02-20T03:01:41.413100",
     "exception": false,
     "start_time": "2023-02-20T03:01:41.385283",
     "status": "completed"
    },
    "tags": []
   },
   "outputs": [
    {
     "data": {
      "text/html": [
       "<div>\n",
       "<style scoped>\n",
       "    .dataframe tbody tr th:only-of-type {\n",
       "        vertical-align: middle;\n",
       "    }\n",
       "\n",
       "    .dataframe tbody tr th {\n",
       "        vertical-align: top;\n",
       "    }\n",
       "\n",
       "    .dataframe thead th {\n",
       "        text-align: right;\n",
       "    }\n",
       "</style>\n",
       "<table border=\"1\" class=\"dataframe\">\n",
       "  <thead>\n",
       "    <tr style=\"text-align: right;\">\n",
       "      <th></th>\n",
       "      <th>object_id</th>\n",
       "      <th>creation_time</th>\n",
       "      <th>name</th>\n",
       "      <th>email</th>\n",
       "      <th>creation_source</th>\n",
       "      <th>last_session_creation_time</th>\n",
       "      <th>opted_in_to_mailing_list</th>\n",
       "      <th>enabled_for_marketing_drip</th>\n",
       "      <th>org_id</th>\n",
       "      <th>invited_by_user_id</th>\n",
       "    </tr>\n",
       "  </thead>\n",
       "  <tbody>\n",
       "    <tr>\n",
       "      <th>0</th>\n",
       "      <td>1</td>\n",
       "      <td>2014-04-22 03:53:30</td>\n",
       "      <td>Clausen August</td>\n",
       "      <td>AugustCClausen@yahoo.com</td>\n",
       "      <td>GUEST_INVITE</td>\n",
       "      <td>1.398139e+09</td>\n",
       "      <td>1</td>\n",
       "      <td>0</td>\n",
       "      <td>11</td>\n",
       "      <td>10803.0</td>\n",
       "    </tr>\n",
       "    <tr>\n",
       "      <th>1</th>\n",
       "      <td>2</td>\n",
       "      <td>2013-11-15 03:45:04</td>\n",
       "      <td>Poole Matthew</td>\n",
       "      <td>MatthewPoole@gustr.com</td>\n",
       "      <td>ORG_INVITE</td>\n",
       "      <td>1.396238e+09</td>\n",
       "      <td>0</td>\n",
       "      <td>0</td>\n",
       "      <td>1</td>\n",
       "      <td>316.0</td>\n",
       "    </tr>\n",
       "    <tr>\n",
       "      <th>2</th>\n",
       "      <td>3</td>\n",
       "      <td>2013-03-19 23:14:52</td>\n",
       "      <td>Bottrill Mitchell</td>\n",
       "      <td>MitchellBottrill@gustr.com</td>\n",
       "      <td>ORG_INVITE</td>\n",
       "      <td>1.363735e+09</td>\n",
       "      <td>0</td>\n",
       "      <td>0</td>\n",
       "      <td>94</td>\n",
       "      <td>1525.0</td>\n",
       "    </tr>\n",
       "    <tr>\n",
       "      <th>3</th>\n",
       "      <td>4</td>\n",
       "      <td>2013-05-21 08:09:28</td>\n",
       "      <td>Clausen Nicklas</td>\n",
       "      <td>NicklasSClausen@yahoo.com</td>\n",
       "      <td>GUEST_INVITE</td>\n",
       "      <td>1.369210e+09</td>\n",
       "      <td>0</td>\n",
       "      <td>0</td>\n",
       "      <td>1</td>\n",
       "      <td>5151.0</td>\n",
       "    </tr>\n",
       "    <tr>\n",
       "      <th>4</th>\n",
       "      <td>5</td>\n",
       "      <td>2013-01-17 10:14:20</td>\n",
       "      <td>Raw Grace</td>\n",
       "      <td>GraceRaw@yahoo.com</td>\n",
       "      <td>GUEST_INVITE</td>\n",
       "      <td>1.358850e+09</td>\n",
       "      <td>0</td>\n",
       "      <td>0</td>\n",
       "      <td>193</td>\n",
       "      <td>5240.0</td>\n",
       "    </tr>\n",
       "  </tbody>\n",
       "</table>\n",
       "</div>"
      ],
      "text/plain": [
       "   object_id        creation_time               name  \\\n",
       "0          1  2014-04-22 03:53:30     Clausen August   \n",
       "1          2  2013-11-15 03:45:04      Poole Matthew   \n",
       "2          3  2013-03-19 23:14:52  Bottrill Mitchell   \n",
       "3          4  2013-05-21 08:09:28    Clausen Nicklas   \n",
       "4          5  2013-01-17 10:14:20          Raw Grace   \n",
       "\n",
       "                        email creation_source  last_session_creation_time  \\\n",
       "0    AugustCClausen@yahoo.com    GUEST_INVITE                1.398139e+09   \n",
       "1      MatthewPoole@gustr.com      ORG_INVITE                1.396238e+09   \n",
       "2  MitchellBottrill@gustr.com      ORG_INVITE                1.363735e+09   \n",
       "3   NicklasSClausen@yahoo.com    GUEST_INVITE                1.369210e+09   \n",
       "4          GraceRaw@yahoo.com    GUEST_INVITE                1.358850e+09   \n",
       "\n",
       "   opted_in_to_mailing_list  enabled_for_marketing_drip  org_id  \\\n",
       "0                         1                           0      11   \n",
       "1                         0                           0       1   \n",
       "2                         0                           0      94   \n",
       "3                         0                           0       1   \n",
       "4                         0                           0     193   \n",
       "\n",
       "   invited_by_user_id  \n",
       "0             10803.0  \n",
       "1               316.0  \n",
       "2              1525.0  \n",
       "3              5151.0  \n",
       "4              5240.0  "
      ]
     },
     "execution_count": 3,
     "metadata": {},
     "output_type": "execute_result"
    }
   ],
   "source": [
    "users.head()"
   ]
  },
  {
   "cell_type": "code",
   "execution_count": 4,
   "id": "419e0dc4",
   "metadata": {
    "execution": {
     "iopub.execute_input": "2023-02-20T03:01:41.421534Z",
     "iopub.status.busy": "2023-02-20T03:01:41.420547Z",
     "iopub.status.idle": "2023-02-20T03:01:41.430297Z",
     "shell.execute_reply": "2023-02-20T03:01:41.429390Z"
    },
    "papermill": {
     "duration": 0.015822,
     "end_time": "2023-02-20T03:01:41.432194",
     "exception": false,
     "start_time": "2023-02-20T03:01:41.416372",
     "status": "completed"
    },
    "tags": []
   },
   "outputs": [
    {
     "data": {
      "text/html": [
       "<div>\n",
       "<style scoped>\n",
       "    .dataframe tbody tr th:only-of-type {\n",
       "        vertical-align: middle;\n",
       "    }\n",
       "\n",
       "    .dataframe tbody tr th {\n",
       "        vertical-align: top;\n",
       "    }\n",
       "\n",
       "    .dataframe thead th {\n",
       "        text-align: right;\n",
       "    }\n",
       "</style>\n",
       "<table border=\"1\" class=\"dataframe\">\n",
       "  <thead>\n",
       "    <tr style=\"text-align: right;\">\n",
       "      <th></th>\n",
       "      <th>time_stamp</th>\n",
       "      <th>user_id</th>\n",
       "      <th>visited</th>\n",
       "    </tr>\n",
       "  </thead>\n",
       "  <tbody>\n",
       "    <tr>\n",
       "      <th>0</th>\n",
       "      <td>2014-04-22 03:53:30</td>\n",
       "      <td>1</td>\n",
       "      <td>1</td>\n",
       "    </tr>\n",
       "    <tr>\n",
       "      <th>1</th>\n",
       "      <td>2013-11-15 03:45:04</td>\n",
       "      <td>2</td>\n",
       "      <td>1</td>\n",
       "    </tr>\n",
       "    <tr>\n",
       "      <th>2</th>\n",
       "      <td>2013-11-29 03:45:04</td>\n",
       "      <td>2</td>\n",
       "      <td>1</td>\n",
       "    </tr>\n",
       "    <tr>\n",
       "      <th>3</th>\n",
       "      <td>2013-12-09 03:45:04</td>\n",
       "      <td>2</td>\n",
       "      <td>1</td>\n",
       "    </tr>\n",
       "    <tr>\n",
       "      <th>4</th>\n",
       "      <td>2013-12-25 03:45:04</td>\n",
       "      <td>2</td>\n",
       "      <td>1</td>\n",
       "    </tr>\n",
       "  </tbody>\n",
       "</table>\n",
       "</div>"
      ],
      "text/plain": [
       "            time_stamp  user_id  visited\n",
       "0  2014-04-22 03:53:30        1        1\n",
       "1  2013-11-15 03:45:04        2        1\n",
       "2  2013-11-29 03:45:04        2        1\n",
       "3  2013-12-09 03:45:04        2        1\n",
       "4  2013-12-25 03:45:04        2        1"
      ]
     },
     "execution_count": 4,
     "metadata": {},
     "output_type": "execute_result"
    }
   ],
   "source": [
    "user_engagement.head()"
   ]
  },
  {
   "cell_type": "markdown",
   "id": "75cefc6d",
   "metadata": {
    "papermill": {
     "duration": 0.00298,
     "end_time": "2023-02-20T03:01:41.438527",
     "exception": false,
     "start_time": "2023-02-20T03:01:41.435547",
     "status": "completed"
    },
    "tags": []
   },
   "source": [
    "1. get the week for each timestamp\n",
    "2. then count each week per user_id\n",
    "3. filter on >=3 engagements for each week for each user as adopted"
   ]
  },
  {
   "cell_type": "markdown",
   "id": "fc0ca227",
   "metadata": {
    "papermill": {
     "duration": 0.00286,
     "end_time": "2023-02-20T03:01:41.444430",
     "exception": false,
     "start_time": "2023-02-20T03:01:41.441570",
     "status": "completed"
    },
    "tags": []
   },
   "source": [
    "Loaded users and user engagement tables into Postgres. Got adopted users based on business definition and joined back to users. With resultant table, got user information as well as those who adopted/not adopted the product."
   ]
  },
  {
   "cell_type": "code",
   "execution_count": 5,
   "id": "ec2e81ab",
   "metadata": {
    "execution": {
     "iopub.execute_input": "2023-02-20T03:01:41.452659Z",
     "iopub.status.busy": "2023-02-20T03:01:41.451684Z",
     "iopub.status.idle": "2023-02-20T03:01:41.475927Z",
     "shell.execute_reply": "2023-02-20T03:01:41.475018Z"
    },
    "papermill": {
     "duration": 0.031119,
     "end_time": "2023-02-20T03:01:41.478551",
     "exception": false,
     "start_time": "2023-02-20T03:01:41.447432",
     "status": "completed"
    },
    "tags": []
   },
   "outputs": [
    {
     "data": {
      "text/html": [
       "<div>\n",
       "<style scoped>\n",
       "    .dataframe tbody tr th:only-of-type {\n",
       "        vertical-align: middle;\n",
       "    }\n",
       "\n",
       "    .dataframe tbody tr th {\n",
       "        vertical-align: top;\n",
       "    }\n",
       "\n",
       "    .dataframe thead th {\n",
       "        text-align: right;\n",
       "    }\n",
       "</style>\n",
       "<table border=\"1\" class=\"dataframe\">\n",
       "  <thead>\n",
       "    <tr style=\"text-align: right;\">\n",
       "      <th></th>\n",
       "      <th>object_id</th>\n",
       "      <th>creation_time</th>\n",
       "      <th>name</th>\n",
       "      <th>email</th>\n",
       "      <th>creation_source</th>\n",
       "      <th>last_session_creation_time</th>\n",
       "      <th>opted_in_to_mailing_list</th>\n",
       "      <th>enabled_for_marketing_drip</th>\n",
       "      <th>org_id</th>\n",
       "      <th>invited_by_user_id</th>\n",
       "      <th>user_id</th>\n",
       "    </tr>\n",
       "  </thead>\n",
       "  <tbody>\n",
       "    <tr>\n",
       "      <th>0</th>\n",
       "      <td>2</td>\n",
       "      <td>2013-11-15 03:45:04</td>\n",
       "      <td>Poole Matthew</td>\n",
       "      <td>MatthewPoole@gustr.com</td>\n",
       "      <td>ORG_INVITE</td>\n",
       "      <td>1396237504</td>\n",
       "      <td>0</td>\n",
       "      <td>0</td>\n",
       "      <td>1</td>\n",
       "      <td>316.0</td>\n",
       "      <td>2</td>\n",
       "    </tr>\n",
       "    <tr>\n",
       "      <th>1</th>\n",
       "      <td>10</td>\n",
       "      <td>2013-01-16 22:08:03</td>\n",
       "      <td>Santos Carla</td>\n",
       "      <td>CarlaFerreiraSantos@gustr.com</td>\n",
       "      <td>ORG_INVITE</td>\n",
       "      <td>1401833283</td>\n",
       "      <td>1</td>\n",
       "      <td>1</td>\n",
       "      <td>318</td>\n",
       "      <td>4143.0</td>\n",
       "      <td>10</td>\n",
       "    </tr>\n",
       "    <tr>\n",
       "      <th>2</th>\n",
       "      <td>20</td>\n",
       "      <td>2014-03-06 11:46:38</td>\n",
       "      <td>Helms Mikayla</td>\n",
       "      <td>lqyvjilf@uhzdq.com</td>\n",
       "      <td>SIGNUP</td>\n",
       "      <td>1401363998</td>\n",
       "      <td>0</td>\n",
       "      <td>0</td>\n",
       "      <td>58</td>\n",
       "      <td>NaN</td>\n",
       "      <td>20</td>\n",
       "    </tr>\n",
       "    <tr>\n",
       "      <th>3</th>\n",
       "      <td>33</td>\n",
       "      <td>2014-03-11 06:29:09</td>\n",
       "      <td>Araujo Josй</td>\n",
       "      <td>JoseMartinsAraujo@cuvox.de</td>\n",
       "      <td>GUEST_INVITE</td>\n",
       "      <td>1401517749</td>\n",
       "      <td>0</td>\n",
       "      <td>0</td>\n",
       "      <td>401</td>\n",
       "      <td>79.0</td>\n",
       "      <td>33</td>\n",
       "    </tr>\n",
       "    <tr>\n",
       "      <th>4</th>\n",
       "      <td>42</td>\n",
       "      <td>2012-11-11 19:05:07</td>\n",
       "      <td>Pinto Giovanna</td>\n",
       "      <td>GiovannaCunhaPinto@cuvox.de</td>\n",
       "      <td>SIGNUP</td>\n",
       "      <td>1401044707</td>\n",
       "      <td>1</td>\n",
       "      <td>0</td>\n",
       "      <td>235</td>\n",
       "      <td>NaN</td>\n",
       "      <td>42</td>\n",
       "    </tr>\n",
       "  </tbody>\n",
       "</table>\n",
       "</div>"
      ],
      "text/plain": [
       "   object_id        creation_time            name  \\\n",
       "0          2  2013-11-15 03:45:04   Poole Matthew   \n",
       "1         10  2013-01-16 22:08:03    Santos Carla   \n",
       "2         20  2014-03-06 11:46:38   Helms Mikayla   \n",
       "3         33  2014-03-11 06:29:09     Araujo Josй   \n",
       "4         42  2012-11-11 19:05:07  Pinto Giovanna   \n",
       "\n",
       "                           email creation_source  last_session_creation_time  \\\n",
       "0         MatthewPoole@gustr.com      ORG_INVITE                  1396237504   \n",
       "1  CarlaFerreiraSantos@gustr.com      ORG_INVITE                  1401833283   \n",
       "2             lqyvjilf@uhzdq.com          SIGNUP                  1401363998   \n",
       "3     JoseMartinsAraujo@cuvox.de    GUEST_INVITE                  1401517749   \n",
       "4    GiovannaCunhaPinto@cuvox.de          SIGNUP                  1401044707   \n",
       "\n",
       "   opted_in_to_mailing_list  enabled_for_marketing_drip  org_id  \\\n",
       "0                         0                           0       1   \n",
       "1                         1                           1     318   \n",
       "2                         0                           0      58   \n",
       "3                         0                           0     401   \n",
       "4                         1                           0     235   \n",
       "\n",
       "   invited_by_user_id  user_id  \n",
       "0               316.0        2  \n",
       "1              4143.0       10  \n",
       "2                 NaN       20  \n",
       "3                79.0       33  \n",
       "4                 NaN       42  "
      ]
     },
     "execution_count": 5,
     "metadata": {},
     "output_type": "execute_result"
    }
   ],
   "source": [
    "adopted_users = pd.read_csv('/kaggle/input/adopted-users/adopted_users.csv')\n",
    "adopted_users.head()"
   ]
  },
  {
   "cell_type": "code",
   "execution_count": null,
   "id": "3b50b4de",
   "metadata": {
    "papermill": {
     "duration": 0.003221,
     "end_time": "2023-02-20T03:01:41.485561",
     "exception": false,
     "start_time": "2023-02-20T03:01:41.482340",
     "status": "completed"
    },
    "tags": []
   },
   "outputs": [],
   "source": []
  }
 ],
 "metadata": {
  "kernelspec": {
   "display_name": "Python 3",
   "language": "python",
   "name": "python3"
  },
  "language_info": {
   "codemirror_mode": {
    "name": "ipython",
    "version": 3
   },
   "file_extension": ".py",
   "mimetype": "text/x-python",
   "name": "python",
   "nbconvert_exporter": "python",
   "pygments_lexer": "ipython3",
   "version": "3.7.12"
  },
  "papermill": {
   "default_parameters": {},
   "duration": 8.338396,
   "end_time": "2023-02-20T03:01:42.110504",
   "environment_variables": {},
   "exception": null,
   "input_path": "__notebook__.ipynb",
   "output_path": "__notebook__.ipynb",
   "parameters": {},
   "start_time": "2023-02-20T03:01:33.772108",
   "version": "2.3.4"
  }
 },
 "nbformat": 4,
 "nbformat_minor": 5
}
